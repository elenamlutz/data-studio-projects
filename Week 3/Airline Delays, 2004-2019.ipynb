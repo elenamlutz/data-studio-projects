{
 "cells": [
  {
   "cell_type": "code",
   "execution_count": 1,
   "metadata": {},
   "outputs": [],
   "source": [
    "import pandas as pd\n",
    "import requests\n",
    "import re\n",
    "from bs4 import BeautifulSoup\n",
    "import numpy as np\n",
    "import matplotlib\n",
    "import matplotlib.pyplot as plt\n",
    "import seaborn as sns\n",
    "import altair as alt\n",
    "alt.renderers.enable('notebook')\n",
    "\n",
    "alt.data_transformers.disable_max_rows()\n",
    "matplotlib.rcParams['pdf.fonttype'] = 42\n",
    "\n",
    "%matplotlib inline"
   ]
  },
  {
   "cell_type": "code",
   "execution_count": 2,
   "metadata": {},
   "outputs": [
    {
     "name": "stdout",
     "output_type": "stream",
     "text": [
      "Airline Delays, 2004-2019.ipynb airline_delay_causes.csv\r\n"
     ]
    }
   ],
   "source": [
    "!ls"
   ]
  },
  {
   "cell_type": "code",
   "execution_count": 3,
   "metadata": {},
   "outputs": [],
   "source": [
    "df = pd.read_csv(\"airline_delay_causes.csv\")"
   ]
  },
  {
   "cell_type": "code",
   "execution_count": 4,
   "metadata": {},
   "outputs": [],
   "source": [
    "#Delays/cancellations over time - worst seasons to travel (calendar heatmap)\n",
    "#Sankey Diagram for each airport\n",
    "#Average airline delay at each airport"
   ]
  },
  {
   "cell_type": "code",
   "execution_count": 5,
   "metadata": {},
   "outputs": [
    {
     "data": {
      "text/plain": [
       "year                     int64\n",
       " month                   int64\n",
       "carrier                 object\n",
       "carrier_name            object\n",
       "airport                 object\n",
       "airport_name            object\n",
       "arr_flights            float64\n",
       "arr_del15              float64\n",
       "carrier_ct             float64\n",
       " weather_ct            float64\n",
       "nas_ct                 float64\n",
       "security_ct            float64\n",
       "late_aircraft_ct       float64\n",
       "arr_cancelled          float64\n",
       "arr_diverted           float64\n",
       " arr_delay             float64\n",
       " carrier_delay         float64\n",
       "weather_delay          float64\n",
       "nas_delay              float64\n",
       "security_delay         float64\n",
       "late_aircraft_delay    float64\n",
       "dtype: object"
      ]
     },
     "execution_count": 5,
     "metadata": {},
     "output_type": "execute_result"
    }
   ],
   "source": [
    "df.dtypes"
   ]
  },
  {
   "cell_type": "code",
   "execution_count": 6,
   "metadata": {},
   "outputs": [],
   "source": [
    "df=df.rename(columns={' month': 'month',\n",
    "                     ' weather_ct': 'weather_ct',\n",
    "                     ' arr_delay': 'arr_delay',\n",
    "                     ' carrier_delay': 'carrier_delay'})"
   ]
  },
  {
   "cell_type": "code",
   "execution_count": 7,
   "metadata": {},
   "outputs": [],
   "source": [
    "df = df.drop(['carrier'], axis=1)"
   ]
  },
  {
   "cell_type": "code",
   "execution_count": 8,
   "metadata": {},
   "outputs": [
    {
     "data": {
      "text/html": [
       "<div>\n",
       "<style scoped>\n",
       "    .dataframe tbody tr th:only-of-type {\n",
       "        vertical-align: middle;\n",
       "    }\n",
       "\n",
       "    .dataframe tbody tr th {\n",
       "        vertical-align: top;\n",
       "    }\n",
       "\n",
       "    .dataframe thead th {\n",
       "        text-align: right;\n",
       "    }\n",
       "</style>\n",
       "<table border=\"1\" class=\"dataframe\">\n",
       "  <thead>\n",
       "    <tr style=\"text-align: right;\">\n",
       "      <th></th>\n",
       "      <th>year</th>\n",
       "      <th>month</th>\n",
       "      <th>carrier_name</th>\n",
       "      <th>airport</th>\n",
       "      <th>airport_name</th>\n",
       "      <th>arr_flights</th>\n",
       "      <th>arr_del15</th>\n",
       "      <th>carrier_ct</th>\n",
       "      <th>weather_ct</th>\n",
       "      <th>nas_ct</th>\n",
       "      <th>security_ct</th>\n",
       "      <th>late_aircraft_ct</th>\n",
       "      <th>arr_cancelled</th>\n",
       "      <th>arr_diverted</th>\n",
       "      <th>arr_delay</th>\n",
       "      <th>carrier_delay</th>\n",
       "      <th>weather_delay</th>\n",
       "      <th>nas_delay</th>\n",
       "      <th>security_delay</th>\n",
       "      <th>late_aircraft_delay</th>\n",
       "    </tr>\n",
       "  </thead>\n",
       "  <tbody>\n",
       "    <tr>\n",
       "      <th>0</th>\n",
       "      <td>2004</td>\n",
       "      <td>5</td>\n",
       "      <td>American Airlines Inc.</td>\n",
       "      <td>JFK</td>\n",
       "      <td>New York, NY: John F. Kennedy International</td>\n",
       "      <td>1296.0</td>\n",
       "      <td>277.0</td>\n",
       "      <td>66.43</td>\n",
       "      <td>4.00</td>\n",
       "      <td>166.35</td>\n",
       "      <td>0.23</td>\n",
       "      <td>39.98</td>\n",
       "      <td>1.0</td>\n",
       "      <td>6.0</td>\n",
       "      <td>13201.0</td>\n",
       "      <td>4795.0</td>\n",
       "      <td>409.0</td>\n",
       "      <td>5761.0</td>\n",
       "      <td>8.0</td>\n",
       "      <td>2228.0</td>\n",
       "    </tr>\n",
       "    <tr>\n",
       "      <th>1</th>\n",
       "      <td>2004</td>\n",
       "      <td>5</td>\n",
       "      <td>JetBlue Airways</td>\n",
       "      <td>JFK</td>\n",
       "      <td>New York, NY: John F. Kennedy International</td>\n",
       "      <td>2684.0</td>\n",
       "      <td>461.0</td>\n",
       "      <td>70.67</td>\n",
       "      <td>1.32</td>\n",
       "      <td>189.79</td>\n",
       "      <td>12.11</td>\n",
       "      <td>187.11</td>\n",
       "      <td>1.0</td>\n",
       "      <td>8.0</td>\n",
       "      <td>20322.0</td>\n",
       "      <td>3605.0</td>\n",
       "      <td>36.0</td>\n",
       "      <td>6773.0</td>\n",
       "      <td>449.0</td>\n",
       "      <td>9459.0</td>\n",
       "    </tr>\n",
       "    <tr>\n",
       "      <th>2</th>\n",
       "      <td>2004</td>\n",
       "      <td>5</td>\n",
       "      <td>Continental Air Lines Inc.</td>\n",
       "      <td>JFK</td>\n",
       "      <td>New York, NY: John F. Kennedy International</td>\n",
       "      <td>31.0</td>\n",
       "      <td>5.0</td>\n",
       "      <td>0.72</td>\n",
       "      <td>1.00</td>\n",
       "      <td>3.28</td>\n",
       "      <td>0.00</td>\n",
       "      <td>0.00</td>\n",
       "      <td>0.0</td>\n",
       "      <td>0.0</td>\n",
       "      <td>278.0</td>\n",
       "      <td>86.0</td>\n",
       "      <td>73.0</td>\n",
       "      <td>119.0</td>\n",
       "      <td>0.0</td>\n",
       "      <td>0.0</td>\n",
       "    </tr>\n",
       "    <tr>\n",
       "      <th>3</th>\n",
       "      <td>2004</td>\n",
       "      <td>5</td>\n",
       "      <td>Atlantic Coast Airlines</td>\n",
       "      <td>JFK</td>\n",
       "      <td>New York, NY: John F. Kennedy International</td>\n",
       "      <td>445.0</td>\n",
       "      <td>96.0</td>\n",
       "      <td>30.73</td>\n",
       "      <td>3.40</td>\n",
       "      <td>24.62</td>\n",
       "      <td>0.00</td>\n",
       "      <td>37.25</td>\n",
       "      <td>8.0</td>\n",
       "      <td>2.0</td>\n",
       "      <td>7433.0</td>\n",
       "      <td>1986.0</td>\n",
       "      <td>471.0</td>\n",
       "      <td>1728.0</td>\n",
       "      <td>0.0</td>\n",
       "      <td>3248.0</td>\n",
       "    </tr>\n",
       "    <tr>\n",
       "      <th>4</th>\n",
       "      <td>2004</td>\n",
       "      <td>5</td>\n",
       "      <td>Delta Air Lines Inc.</td>\n",
       "      <td>JFK</td>\n",
       "      <td>New York, NY: John F. Kennedy International</td>\n",
       "      <td>1175.0</td>\n",
       "      <td>317.0</td>\n",
       "      <td>51.60</td>\n",
       "      <td>1.93</td>\n",
       "      <td>227.31</td>\n",
       "      <td>0.85</td>\n",
       "      <td>35.31</td>\n",
       "      <td>3.0</td>\n",
       "      <td>2.0</td>\n",
       "      <td>13689.0</td>\n",
       "      <td>3113.0</td>\n",
       "      <td>57.0</td>\n",
       "      <td>8289.0</td>\n",
       "      <td>28.0</td>\n",
       "      <td>2202.0</td>\n",
       "    </tr>\n",
       "  </tbody>\n",
       "</table>\n",
       "</div>"
      ],
      "text/plain": [
       "   year  month                carrier_name airport  \\\n",
       "0  2004      5      American Airlines Inc.     JFK   \n",
       "1  2004      5             JetBlue Airways     JFK   \n",
       "2  2004      5  Continental Air Lines Inc.     JFK   \n",
       "3  2004      5     Atlantic Coast Airlines     JFK   \n",
       "4  2004      5        Delta Air Lines Inc.     JFK   \n",
       "\n",
       "                                  airport_name  arr_flights  arr_del15  \\\n",
       "0  New York, NY: John F. Kennedy International       1296.0      277.0   \n",
       "1  New York, NY: John F. Kennedy International       2684.0      461.0   \n",
       "2  New York, NY: John F. Kennedy International         31.0        5.0   \n",
       "3  New York, NY: John F. Kennedy International        445.0       96.0   \n",
       "4  New York, NY: John F. Kennedy International       1175.0      317.0   \n",
       "\n",
       "   carrier_ct  weather_ct  nas_ct  security_ct  late_aircraft_ct  \\\n",
       "0       66.43        4.00  166.35         0.23             39.98   \n",
       "1       70.67        1.32  189.79        12.11            187.11   \n",
       "2        0.72        1.00    3.28         0.00              0.00   \n",
       "3       30.73        3.40   24.62         0.00             37.25   \n",
       "4       51.60        1.93  227.31         0.85             35.31   \n",
       "\n",
       "   arr_cancelled  arr_diverted  arr_delay  carrier_delay  weather_delay  \\\n",
       "0            1.0           6.0    13201.0         4795.0          409.0   \n",
       "1            1.0           8.0    20322.0         3605.0           36.0   \n",
       "2            0.0           0.0      278.0           86.0           73.0   \n",
       "3            8.0           2.0     7433.0         1986.0          471.0   \n",
       "4            3.0           2.0    13689.0         3113.0           57.0   \n",
       "\n",
       "   nas_delay  security_delay  late_aircraft_delay  \n",
       "0     5761.0             8.0               2228.0  \n",
       "1     6773.0           449.0               9459.0  \n",
       "2      119.0             0.0                  0.0  \n",
       "3     1728.0             0.0               3248.0  \n",
       "4     8289.0            28.0               2202.0  "
      ]
     },
     "execution_count": 8,
     "metadata": {},
     "output_type": "execute_result"
    }
   ],
   "source": [
    "df.head()"
   ]
  },
  {
   "cell_type": "code",
   "execution_count": 9,
   "metadata": {},
   "outputs": [
    {
     "data": {
      "text/plain": [
       "airport\n",
       "EWR    1360159.0\n",
       "JFK    1074943.0\n",
       "LGA    1518860.0\n",
       "Name: weather_delay, dtype: float64"
      ]
     },
     "execution_count": 9,
     "metadata": {},
     "output_type": "execute_result"
    }
   ],
   "source": [
    "df.groupby(by='airport')['weather_delay'].sum()"
   ]
  },
  {
   "cell_type": "code",
   "execution_count": 10,
   "metadata": {},
   "outputs": [
    {
     "data": {
      "text/plain": [
       "Delta Air Lines Inc.            543\n",
       "American Airlines Inc.          543\n",
       "JetBlue Airways                 522\n",
       "United Air Lines Inc.           500\n",
       "ExpressJet Airlines Inc.        430\n",
       "US Airways Inc.                 382\n",
       "American Eagle Airlines Inc.    339\n",
       "Mesa Airlines Inc.              243\n",
       "Continental Air Lines Inc.      237\n",
       "Comair Inc.                     236\n",
       "Alaska Airlines Inc.            226\n",
       "Southwest Airlines Co.          219\n",
       "Northwest Airlines Inc.         204\n",
       "AirTran Airways Corporation     190\n",
       "Virgin America                  170\n",
       "Frontier Airlines Inc.          169\n",
       "Atlantic Southeast Airlines     166\n",
       "SkyWest Airlines Inc.           147\n",
       "Envoy Air                       101\n",
       "Pinnacle Airlines Inc.           99\n",
       "Spirit Air Lines                 85\n",
       "Hawaiian Airlines Inc.           84\n",
       "Endeavor Air Inc.                66\n",
       "ATA Airlines d/b/a ATA           53\n",
       "Republic Airline                 51\n",
       "America West Airlines Inc.       40\n",
       "PSA Airlines Inc.                32\n",
       "Independence Air                 31\n",
       "Allegiant Air                    17\n",
       "Atlantic Coast Airlines          14\n",
       "ExpressJet Airlines LLC           4\n",
       "Name: carrier_name, dtype: int64"
      ]
     },
     "execution_count": 10,
     "metadata": {},
     "output_type": "execute_result"
    }
   ],
   "source": [
    "df.carrier_name.value_counts()"
   ]
  },
  {
   "cell_type": "code",
   "execution_count": 11,
   "metadata": {},
   "outputs": [],
   "source": [
    "import scipy\n"
   ]
  },
  {
   "cell_type": "markdown",
   "metadata": {},
   "source": [
    "# Longest Delays in Minutes"
   ]
  },
  {
   "cell_type": "code",
   "execution_count": 12,
   "metadata": {},
   "outputs": [],
   "source": [
    "df['delay_ratio'] = (df['arr_delay'] *100) / (df['arr_flights'])"
   ]
  },
  {
   "cell_type": "code",
   "execution_count": 13,
   "metadata": {},
   "outputs": [],
   "source": [
    "delays = df.pivot_table(columns='month', index='carrier_name', values='delay_ratio')#.reset_index()"
   ]
  },
  {
   "cell_type": "code",
   "execution_count": 14,
   "metadata": {},
   "outputs": [],
   "source": [
    "delays = delays.sort_values(7)"
   ]
  },
  {
   "cell_type": "code",
   "execution_count": 15,
   "metadata": {},
   "outputs": [],
   "source": [
    "delays = delays.dropna()"
   ]
  },
  {
   "cell_type": "code",
   "execution_count": 16,
   "metadata": {},
   "outputs": [
    {
     "data": {
      "text/html": [
       "<div>\n",
       "<style scoped>\n",
       "    .dataframe tbody tr th:only-of-type {\n",
       "        vertical-align: middle;\n",
       "    }\n",
       "\n",
       "    .dataframe tbody tr th {\n",
       "        vertical-align: top;\n",
       "    }\n",
       "\n",
       "    .dataframe thead th {\n",
       "        text-align: right;\n",
       "    }\n",
       "</style>\n",
       "<table border=\"1\" class=\"dataframe\">\n",
       "  <thead>\n",
       "    <tr style=\"text-align: right;\">\n",
       "      <th>month</th>\n",
       "      <th>1</th>\n",
       "      <th>2</th>\n",
       "      <th>3</th>\n",
       "      <th>4</th>\n",
       "      <th>5</th>\n",
       "      <th>6</th>\n",
       "      <th>7</th>\n",
       "      <th>8</th>\n",
       "      <th>9</th>\n",
       "      <th>10</th>\n",
       "      <th>11</th>\n",
       "      <th>12</th>\n",
       "    </tr>\n",
       "    <tr>\n",
       "      <th>carrier_name</th>\n",
       "      <th></th>\n",
       "      <th></th>\n",
       "      <th></th>\n",
       "      <th></th>\n",
       "      <th></th>\n",
       "      <th></th>\n",
       "      <th></th>\n",
       "      <th></th>\n",
       "      <th></th>\n",
       "      <th></th>\n",
       "      <th></th>\n",
       "      <th></th>\n",
       "    </tr>\n",
       "  </thead>\n",
       "  <tbody>\n",
       "    <tr>\n",
       "      <th>Hawaiian Airlines Inc.</th>\n",
       "      <td>2215.255045</td>\n",
       "      <td>2626.274583</td>\n",
       "      <td>800.205478</td>\n",
       "      <td>804.812992</td>\n",
       "      <td>727.393753</td>\n",
       "      <td>890.158730</td>\n",
       "      <td>846.543779</td>\n",
       "      <td>664.055300</td>\n",
       "      <td>557.896825</td>\n",
       "      <td>594.880057</td>\n",
       "      <td>582.246642</td>\n",
       "      <td>1036.264216</td>\n",
       "    </tr>\n",
       "    <tr>\n",
       "      <th>Envoy Air</th>\n",
       "      <td>2273.841626</td>\n",
       "      <td>2044.211452</td>\n",
       "      <td>1594.375651</td>\n",
       "      <td>1662.422643</td>\n",
       "      <td>1781.405115</td>\n",
       "      <td>1822.793399</td>\n",
       "      <td>1266.450348</td>\n",
       "      <td>1306.489711</td>\n",
       "      <td>1243.543257</td>\n",
       "      <td>1407.284127</td>\n",
       "      <td>1436.336030</td>\n",
       "      <td>1966.851067</td>\n",
       "    </tr>\n",
       "    <tr>\n",
       "      <th>Allegiant Air</th>\n",
       "      <td>2732.211538</td>\n",
       "      <td>259.767442</td>\n",
       "      <td>306.250000</td>\n",
       "      <td>799.415535</td>\n",
       "      <td>767.345377</td>\n",
       "      <td>682.089552</td>\n",
       "      <td>1314.473684</td>\n",
       "      <td>822.727273</td>\n",
       "      <td>431.707317</td>\n",
       "      <td>473.076923</td>\n",
       "      <td>284.615385</td>\n",
       "      <td>503.921569</td>\n",
       "    </tr>\n",
       "    <tr>\n",
       "      <th>PSA Airlines Inc.</th>\n",
       "      <td>2075.326534</td>\n",
       "      <td>2328.817171</td>\n",
       "      <td>1907.198121</td>\n",
       "      <td>1898.115655</td>\n",
       "      <td>1422.066157</td>\n",
       "      <td>2905.732484</td>\n",
       "      <td>1577.707006</td>\n",
       "      <td>2017.901235</td>\n",
       "      <td>1114.093960</td>\n",
       "      <td>1840.310847</td>\n",
       "      <td>1779.190476</td>\n",
       "      <td>1219.931319</td>\n",
       "    </tr>\n",
       "    <tr>\n",
       "      <th>Alaska Airlines Inc.</th>\n",
       "      <td>1309.902593</td>\n",
       "      <td>1268.672921</td>\n",
       "      <td>1269.660409</td>\n",
       "      <td>1693.382411</td>\n",
       "      <td>1268.609962</td>\n",
       "      <td>1478.015427</td>\n",
       "      <td>1685.084234</td>\n",
       "      <td>1260.435650</td>\n",
       "      <td>839.064362</td>\n",
       "      <td>919.636864</td>\n",
       "      <td>1272.483205</td>\n",
       "      <td>1594.183828</td>\n",
       "    </tr>\n",
       "  </tbody>\n",
       "</table>\n",
       "</div>"
      ],
      "text/plain": [
       "month                            1            2            3            4   \\\n",
       "carrier_name                                                                 \n",
       "Hawaiian Airlines Inc.  2215.255045  2626.274583   800.205478   804.812992   \n",
       "Envoy Air               2273.841626  2044.211452  1594.375651  1662.422643   \n",
       "Allegiant Air           2732.211538   259.767442   306.250000   799.415535   \n",
       "PSA Airlines Inc.       2075.326534  2328.817171  1907.198121  1898.115655   \n",
       "Alaska Airlines Inc.    1309.902593  1268.672921  1269.660409  1693.382411   \n",
       "\n",
       "month                            5            6            7            8   \\\n",
       "carrier_name                                                                 \n",
       "Hawaiian Airlines Inc.   727.393753   890.158730   846.543779   664.055300   \n",
       "Envoy Air               1781.405115  1822.793399  1266.450348  1306.489711   \n",
       "Allegiant Air            767.345377   682.089552  1314.473684   822.727273   \n",
       "PSA Airlines Inc.       1422.066157  2905.732484  1577.707006  2017.901235   \n",
       "Alaska Airlines Inc.    1268.609962  1478.015427  1685.084234  1260.435650   \n",
       "\n",
       "month                            9            10           11           12  \n",
       "carrier_name                                                                \n",
       "Hawaiian Airlines Inc.   557.896825   594.880057   582.246642  1036.264216  \n",
       "Envoy Air               1243.543257  1407.284127  1436.336030  1966.851067  \n",
       "Allegiant Air            431.707317   473.076923   284.615385   503.921569  \n",
       "PSA Airlines Inc.       1114.093960  1840.310847  1779.190476  1219.931319  \n",
       "Alaska Airlines Inc.     839.064362   919.636864  1272.483205  1594.183828  "
      ]
     },
     "execution_count": 16,
     "metadata": {},
     "output_type": "execute_result"
    }
   ],
   "source": [
    "delays.head()"
   ]
  },
  {
   "cell_type": "code",
   "execution_count": 17,
   "metadata": {},
   "outputs": [
    {
     "data": {
      "text/plain": [
       "([<matplotlib.axis.XTick at 0x117ea6470>,\n",
       "  <matplotlib.axis.XTick at 0x117e8dd68>,\n",
       "  <matplotlib.axis.XTick at 0x117e8da90>,\n",
       "  <matplotlib.axis.XTick at 0x1185268d0>,\n",
       "  <matplotlib.axis.XTick at 0x118526dd8>,\n",
       "  <matplotlib.axis.XTick at 0x118530390>,\n",
       "  <matplotlib.axis.XTick at 0x118530908>,\n",
       "  <matplotlib.axis.XTick at 0x118530e80>,\n",
       "  <matplotlib.axis.XTick at 0x118537438>,\n",
       "  <matplotlib.axis.XTick at 0x1185379b0>,\n",
       "  <matplotlib.axis.XTick at 0x118537f28>,\n",
       "  <matplotlib.axis.XTick at 0x1185309b0>],\n",
       " <a list of 12 Text xticklabel objects>)"
      ]
     },
     "execution_count": 17,
     "metadata": {},
     "output_type": "execute_result"
    },
    {
     "data": {
      "image/png": "[encoded data removed]",
      "text/plain": [
       "<Figure size 432x288 with 1 Axes>"
      ]
     },
     "metadata": {
      "needs_background": "light"
     },
     "output_type": "display_data"
    }
   ],
   "source": [
    "plt.pcolor(delays, cmap='Reds')\n",
    "\n",
    "tick_labels = delays.index\n",
    "tick_locations = np.arange(0.5, len(tick_labels), 1)\n",
    "plt.yticks(tick_locations, tick_labels)\n",
    "\n",
    "tick_labels = ['Jan', 'Feb', 'Mar', 'Apr', 'May', 'June', 'July', 'Aug', 'Sept', 'Oct', 'Nov', 'Dec']\n",
    "tick_locations = [0.5, 1.5, 2.5, 3.5, 4.5, 5.5, 6.5, 7.5, 8.5, 9.5, 10.5, 11.5]\n",
    "plt.xticks(tick_locations, tick_labels)"
   ]
  },
  {
   "cell_type": "markdown",
   "metadata": {},
   "source": [
    "# Cancelled Flights"
   ]
  },
  {
   "cell_type": "code",
   "execution_count": 18,
   "metadata": {},
   "outputs": [],
   "source": [
    "df['cancelled_ratio'] = (df['arr_cancelled'] *100) / (df['arr_flights'])"
   ]
  },
  {
   "cell_type": "code",
   "execution_count": 19,
   "metadata": {},
   "outputs": [],
   "source": [
    "cancelled = df.pivot_table(columns='month', index='carrier_name', values='cancelled_ratio')#.reset_index()"
   ]
  },
  {
   "cell_type": "code",
   "execution_count": 20,
   "metadata": {},
   "outputs": [],
   "source": [
    "cancelled = cancelled.sort_values(7)"
   ]
  },
  {
   "cell_type": "code",
   "execution_count": 21,
   "metadata": {},
   "outputs": [
    {
     "data": {
      "text/html": [
       "<div>\n",
       "<style scoped>\n",
       "    .dataframe tbody tr th:only-of-type {\n",
       "        vertical-align: middle;\n",
       "    }\n",
       "\n",
       "    .dataframe tbody tr th {\n",
       "        vertical-align: top;\n",
       "    }\n",
       "\n",
       "    .dataframe thead th {\n",
       "        text-align: right;\n",
       "    }\n",
       "</style>\n",
       "<table border=\"1\" class=\"dataframe\">\n",
       "  <thead>\n",
       "    <tr style=\"text-align: right;\">\n",
       "      <th>month</th>\n",
       "      <th>1</th>\n",
       "      <th>2</th>\n",
       "      <th>3</th>\n",
       "      <th>4</th>\n",
       "      <th>5</th>\n",
       "      <th>6</th>\n",
       "      <th>7</th>\n",
       "      <th>8</th>\n",
       "      <th>9</th>\n",
       "      <th>10</th>\n",
       "      <th>11</th>\n",
       "      <th>12</th>\n",
       "    </tr>\n",
       "    <tr>\n",
       "      <th>carrier_name</th>\n",
       "      <th></th>\n",
       "      <th></th>\n",
       "      <th></th>\n",
       "      <th></th>\n",
       "      <th></th>\n",
       "      <th></th>\n",
       "      <th></th>\n",
       "      <th></th>\n",
       "      <th></th>\n",
       "      <th></th>\n",
       "      <th></th>\n",
       "      <th></th>\n",
       "    </tr>\n",
       "  </thead>\n",
       "  <tbody>\n",
       "    <tr>\n",
       "      <th>Hawaiian Airlines Inc.</th>\n",
       "      <td>0.492611</td>\n",
       "      <td>0.571429</td>\n",
       "      <td>0.460829</td>\n",
       "      <td>0.000000</td>\n",
       "      <td>0.000000</td>\n",
       "      <td>0.000000</td>\n",
       "      <td>0.000000</td>\n",
       "      <td>0.000000</td>\n",
       "      <td>0.000000</td>\n",
       "      <td>1.382488</td>\n",
       "      <td>0.000000</td>\n",
       "      <td>0.000000</td>\n",
       "    </tr>\n",
       "    <tr>\n",
       "      <th>Virgin America</th>\n",
       "      <td>3.731372</td>\n",
       "      <td>4.420208</td>\n",
       "      <td>3.018088</td>\n",
       "      <td>0.423012</td>\n",
       "      <td>0.212465</td>\n",
       "      <td>0.453601</td>\n",
       "      <td>0.433129</td>\n",
       "      <td>0.457789</td>\n",
       "      <td>0.200507</td>\n",
       "      <td>0.884958</td>\n",
       "      <td>0.713969</td>\n",
       "      <td>0.564037</td>\n",
       "    </tr>\n",
       "    <tr>\n",
       "      <th>Alaska Airlines Inc.</th>\n",
       "      <td>2.422879</td>\n",
       "      <td>2.087072</td>\n",
       "      <td>1.560575</td>\n",
       "      <td>0.172840</td>\n",
       "      <td>0.049544</td>\n",
       "      <td>0.175187</td>\n",
       "      <td>0.527739</td>\n",
       "      <td>0.637926</td>\n",
       "      <td>0.051328</td>\n",
       "      <td>0.558811</td>\n",
       "      <td>0.238521</td>\n",
       "      <td>0.833033</td>\n",
       "    </tr>\n",
       "    <tr>\n",
       "      <th>Frontier Airlines Inc.</th>\n",
       "      <td>3.057241</td>\n",
       "      <td>2.734886</td>\n",
       "      <td>1.592752</td>\n",
       "      <td>0.450898</td>\n",
       "      <td>0.979799</td>\n",
       "      <td>0.509795</td>\n",
       "      <td>1.030732</td>\n",
       "      <td>1.459385</td>\n",
       "      <td>0.275492</td>\n",
       "      <td>0.956008</td>\n",
       "      <td>0.512177</td>\n",
       "      <td>2.288166</td>\n",
       "    </tr>\n",
       "    <tr>\n",
       "      <th>Continental Air Lines Inc.</th>\n",
       "      <td>2.140214</td>\n",
       "      <td>3.561373</td>\n",
       "      <td>1.585889</td>\n",
       "      <td>0.809079</td>\n",
       "      <td>0.450030</td>\n",
       "      <td>0.932768</td>\n",
       "      <td>1.174857</td>\n",
       "      <td>1.159282</td>\n",
       "      <td>1.569126</td>\n",
       "      <td>0.689971</td>\n",
       "      <td>0.347058</td>\n",
       "      <td>2.100410</td>\n",
       "    </tr>\n",
       "  </tbody>\n",
       "</table>\n",
       "</div>"
      ],
      "text/plain": [
       "month                             1         2         3         4         5   \\\n",
       "carrier_name                                                                   \n",
       "Hawaiian Airlines Inc.      0.492611  0.571429  0.460829  0.000000  0.000000   \n",
       "Virgin America              3.731372  4.420208  3.018088  0.423012  0.212465   \n",
       "Alaska Airlines Inc.        2.422879  2.087072  1.560575  0.172840  0.049544   \n",
       "Frontier Airlines Inc.      3.057241  2.734886  1.592752  0.450898  0.979799   \n",
       "Continental Air Lines Inc.  2.140214  3.561373  1.585889  0.809079  0.450030   \n",
       "\n",
       "month                             6         7         8         9         10  \\\n",
       "carrier_name                                                                   \n",
       "Hawaiian Airlines Inc.      0.000000  0.000000  0.000000  0.000000  1.382488   \n",
       "Virgin America              0.453601  0.433129  0.457789  0.200507  0.884958   \n",
       "Alaska Airlines Inc.        0.175187  0.527739  0.637926  0.051328  0.558811   \n",
       "Frontier Airlines Inc.      0.509795  1.030732  1.459385  0.275492  0.956008   \n",
       "Continental Air Lines Inc.  0.932768  1.174857  1.159282  1.569126  0.689971   \n",
       "\n",
       "month                             11        12  \n",
       "carrier_name                                    \n",
       "Hawaiian Airlines Inc.      0.000000  0.000000  \n",
       "Virgin America              0.713969  0.564037  \n",
       "Alaska Airlines Inc.        0.238521  0.833033  \n",
       "Frontier Airlines Inc.      0.512177  2.288166  \n",
       "Continental Air Lines Inc.  0.347058  2.100410  "
      ]
     },
     "execution_count": 21,
     "metadata": {},
     "output_type": "execute_result"
    }
   ],
   "source": [
    "cancelled.head()"
   ]
  },
  {
   "cell_type": "code",
   "execution_count": 22,
   "metadata": {},
   "outputs": [],
   "source": [
    "cancelled = cancelled.dropna()"
   ]
  },
  {
   "cell_type": "code",
   "execution_count": 23,
   "metadata": {},
   "outputs": [
    {
     "data": {
      "text/plain": [
       "([<matplotlib.axis.XTick at 0x1185f3208>,\n",
       "  <matplotlib.axis.XTick at 0x1185edb00>,\n",
       "  <matplotlib.axis.XTick at 0x1185ed828>,\n",
       "  <matplotlib.axis.XTick at 0x118a52a90>,\n",
       "  <matplotlib.axis.XTick at 0x118a52be0>,\n",
       "  <matplotlib.axis.XTick at 0x118a59588>,\n",
       "  <matplotlib.axis.XTick at 0x118a59b00>,\n",
       "  <matplotlib.axis.XTick at 0x118a59630>,\n",
       "  <matplotlib.axis.XTick at 0x118a52a58>,\n",
       "  <matplotlib.axis.XTick at 0x118668748>,\n",
       "  <matplotlib.axis.XTick at 0x118a605c0>,\n",
       "  <matplotlib.axis.XTick at 0x118a60b38>],\n",
       " <a list of 12 Text xticklabel objects>)"
      ]
     },
     "execution_count": 23,
     "metadata": {},
     "output_type": "execute_result"
    },
    {
     "data": {
      "image/png": "[encoded data removed]",
      "text/plain": [
       "<Figure size 432x288 with 1 Axes>"
      ]
     },
     "metadata": {
      "needs_background": "light"
     },
     "output_type": "display_data"
    }
   ],
   "source": [
    "plt.pcolor(cancelled, cmap='Reds')\n",
    "\n",
    "tick_labels = cancelled.index\n",
    "tick_locations = np.arange(0.5, len(tick_labels), 1)\n",
    "plt.yticks(tick_locations, tick_labels)\n",
    "\n",
    "tick_labels = ['Jan', 'Feb', 'Mar', 'Apr', 'May', 'June', 'July', 'Aug', 'Sept', 'Oct', 'Nov', 'Dec']\n",
    "tick_locations = [0.5, 1.5, 2.5, 3.5, 4.5, 5.5, 6.5, 7.5, 8.5, 9.5, 10.5, 11.5]\n",
    "plt.xticks(tick_locations, tick_labels)"
   ]
  },
  {
   "cell_type": "markdown",
   "metadata": {},
   "source": [
    "# Longest Weather Delays"
   ]
  },
  {
   "cell_type": "code",
   "execution_count": 24,
   "metadata": {},
   "outputs": [],
   "source": [
    "weather = df.pivot_table(columns='month', index='carrier_name', values='weather_delay')#.reset_index()"
   ]
  },
  {
   "cell_type": "code",
   "execution_count": 25,
   "metadata": {},
   "outputs": [],
   "source": [
    "weather = weather.sort_values(7)"
   ]
  },
  {
   "cell_type": "code",
   "execution_count": 26,
   "metadata": {},
   "outputs": [],
   "source": [
    "weather = weather.dropna()"
   ]
  },
  {
   "cell_type": "code",
   "execution_count": 27,
   "metadata": {},
   "outputs": [
    {
     "data": {
      "text/html": [
       "<div>\n",
       "<style scoped>\n",
       "    .dataframe tbody tr th:only-of-type {\n",
       "        vertical-align: middle;\n",
       "    }\n",
       "\n",
       "    .dataframe tbody tr th {\n",
       "        vertical-align: top;\n",
       "    }\n",
       "\n",
       "    .dataframe thead th {\n",
       "        text-align: right;\n",
       "    }\n",
       "</style>\n",
       "<table border=\"1\" class=\"dataframe\">\n",
       "  <thead>\n",
       "    <tr style=\"text-align: right;\">\n",
       "      <th>month</th>\n",
       "      <th>1</th>\n",
       "      <th>2</th>\n",
       "      <th>3</th>\n",
       "      <th>4</th>\n",
       "      <th>5</th>\n",
       "      <th>6</th>\n",
       "      <th>7</th>\n",
       "      <th>8</th>\n",
       "      <th>9</th>\n",
       "      <th>10</th>\n",
       "      <th>11</th>\n",
       "      <th>12</th>\n",
       "    </tr>\n",
       "    <tr>\n",
       "      <th>carrier_name</th>\n",
       "      <th></th>\n",
       "      <th></th>\n",
       "      <th></th>\n",
       "      <th></th>\n",
       "      <th></th>\n",
       "      <th></th>\n",
       "      <th></th>\n",
       "      <th></th>\n",
       "      <th></th>\n",
       "      <th></th>\n",
       "      <th></th>\n",
       "      <th></th>\n",
       "    </tr>\n",
       "  </thead>\n",
       "  <tbody>\n",
       "    <tr>\n",
       "      <th>PSA Airlines Inc.</th>\n",
       "      <td>50.400000</td>\n",
       "      <td>64.000000</td>\n",
       "      <td>4.000000</td>\n",
       "      <td>75.500000</td>\n",
       "      <td>2.5</td>\n",
       "      <td>130.000000</td>\n",
       "      <td>0.000000</td>\n",
       "      <td>107.000000</td>\n",
       "      <td>0.000000</td>\n",
       "      <td>43.000000</td>\n",
       "      <td>51.000000</td>\n",
       "      <td>20.500000</td>\n",
       "    </tr>\n",
       "    <tr>\n",
       "      <th>Independence Air</th>\n",
       "      <td>58.500000</td>\n",
       "      <td>28.000000</td>\n",
       "      <td>3.000000</td>\n",
       "      <td>23.000000</td>\n",
       "      <td>77.5</td>\n",
       "      <td>25.500000</td>\n",
       "      <td>9.000000</td>\n",
       "      <td>87.500000</td>\n",
       "      <td>14.000000</td>\n",
       "      <td>10.400000</td>\n",
       "      <td>8.500000</td>\n",
       "      <td>11.750000</td>\n",
       "    </tr>\n",
       "    <tr>\n",
       "      <th>Frontier Airlines Inc.</th>\n",
       "      <td>14.285714</td>\n",
       "      <td>5.785714</td>\n",
       "      <td>14.357143</td>\n",
       "      <td>10.428571</td>\n",
       "      <td>48.4</td>\n",
       "      <td>20.642857</td>\n",
       "      <td>10.857143</td>\n",
       "      <td>15.071429</td>\n",
       "      <td>10.285714</td>\n",
       "      <td>4.928571</td>\n",
       "      <td>0.428571</td>\n",
       "      <td>23.428571</td>\n",
       "    </tr>\n",
       "    <tr>\n",
       "      <th>ATA Airlines d/b/a ATA</th>\n",
       "      <td>112.000000</td>\n",
       "      <td>0.000000</td>\n",
       "      <td>47.000000</td>\n",
       "      <td>36.666667</td>\n",
       "      <td>59.6</td>\n",
       "      <td>20.833333</td>\n",
       "      <td>12.666667</td>\n",
       "      <td>1.333333</td>\n",
       "      <td>1.200000</td>\n",
       "      <td>0.000000</td>\n",
       "      <td>4.000000</td>\n",
       "      <td>2.000000</td>\n",
       "    </tr>\n",
       "    <tr>\n",
       "      <th>Hawaiian Airlines Inc.</th>\n",
       "      <td>382.000000</td>\n",
       "      <td>197.142857</td>\n",
       "      <td>2.000000</td>\n",
       "      <td>3.428571</td>\n",
       "      <td>0.0</td>\n",
       "      <td>0.000000</td>\n",
       "      <td>14.428571</td>\n",
       "      <td>0.000000</td>\n",
       "      <td>0.000000</td>\n",
       "      <td>0.000000</td>\n",
       "      <td>8.714286</td>\n",
       "      <td>0.000000</td>\n",
       "    </tr>\n",
       "  </tbody>\n",
       "</table>\n",
       "</div>"
      ],
      "text/plain": [
       "month                           1           2          3          4     5   \\\n",
       "carrier_name                                                                 \n",
       "PSA Airlines Inc.        50.400000   64.000000   4.000000  75.500000   2.5   \n",
       "Independence Air         58.500000   28.000000   3.000000  23.000000  77.5   \n",
       "Frontier Airlines Inc.   14.285714    5.785714  14.357143  10.428571  48.4   \n",
       "ATA Airlines d/b/a ATA  112.000000    0.000000  47.000000  36.666667  59.6   \n",
       "Hawaiian Airlines Inc.  382.000000  197.142857   2.000000   3.428571   0.0   \n",
       "\n",
       "month                           6          7           8          9   \\\n",
       "carrier_name                                                           \n",
       "PSA Airlines Inc.       130.000000   0.000000  107.000000   0.000000   \n",
       "Independence Air         25.500000   9.000000   87.500000  14.000000   \n",
       "Frontier Airlines Inc.   20.642857  10.857143   15.071429  10.285714   \n",
       "ATA Airlines d/b/a ATA   20.833333  12.666667    1.333333   1.200000   \n",
       "Hawaiian Airlines Inc.    0.000000  14.428571    0.000000   0.000000   \n",
       "\n",
       "month                          10         11         12  \n",
       "carrier_name                                             \n",
       "PSA Airlines Inc.       43.000000  51.000000  20.500000  \n",
       "Independence Air        10.400000   8.500000  11.750000  \n",
       "Frontier Airlines Inc.   4.928571   0.428571  23.428571  \n",
       "ATA Airlines d/b/a ATA   0.000000   4.000000   2.000000  \n",
       "Hawaiian Airlines Inc.   0.000000   8.714286   0.000000  "
      ]
     },
     "execution_count": 27,
     "metadata": {},
     "output_type": "execute_result"
    }
   ],
   "source": [
    "weather.head()"
   ]
  },
  {
   "cell_type": "code",
   "execution_count": 28,
   "metadata": {},
   "outputs": [
    {
     "data": {
      "text/plain": [
       "([<matplotlib.axis.XTick at 0x118aa2390>,\n",
       "  <matplotlib.axis.XTick at 0x118aa4898>,\n",
       "  <matplotlib.axis.XTick at 0x118a529e8>,\n",
       "  <matplotlib.axis.XTick at 0x118b30c18>,\n",
       "  <matplotlib.axis.XTick at 0x118b37198>,\n",
       "  <matplotlib.axis.XTick at 0x118b37710>,\n",
       "  <matplotlib.axis.XTick at 0x118b37c88>,\n",
       "  <matplotlib.axis.XTick at 0x118b376d8>,\n",
       "  <matplotlib.axis.XTick at 0x118b30710>,\n",
       "  <matplotlib.axis.XTick at 0x118b215c0>,\n",
       "  <matplotlib.axis.XTick at 0x118b3e748>,\n",
       "  <matplotlib.axis.XTick at 0x118b3ecc0>],\n",
       " <a list of 12 Text xticklabel objects>)"
      ]
     },
     "execution_count": 28,
     "metadata": {},
     "output_type": "execute_result"
    },
    {
     "data": {
      "image/png": "[encoded data removed]",
      "text/plain": [
       "<Figure size 432x288 with 1 Axes>"
      ]
     },
     "metadata": {
      "needs_background": "light"
     },
     "output_type": "display_data"
    }
   ],
   "source": [
    "plt.pcolor(weather, cmap='Blues')\n",
    "\n",
    "tick_labels = weather.index\n",
    "tick_locations = np.arange(0.5, len(tick_labels), 1)\n",
    "plt.yticks(tick_locations, tick_labels)\n",
    "\n",
    "tick_labels = ['Jan', 'Feb', 'Mar', 'Apr', 'May', 'June', 'July', 'Aug', 'Sept', 'Oct', 'Nov', 'Dec']\n",
    "tick_locations = [0.5, 1.5, 2.5, 3.5, 4.5, 5.5, 6.5, 7.5, 8.5, 9.5, 10.5, 11.5]\n",
    "plt.xticks(tick_locations, tick_labels)"
   ]
  },
  {
   "cell_type": "markdown",
   "metadata": {},
   "source": [
    "# Delayed Fligths"
   ]
  },
  {
   "cell_type": "code",
   "execution_count": 29,
   "metadata": {},
   "outputs": [],
   "source": [
    "df['delayed_ratio'] = (df['arr_del15'] *100) / (df['arr_flights'])"
   ]
  },
  {
   "cell_type": "code",
   "execution_count": 30,
   "metadata": {},
   "outputs": [],
   "source": [
    "delayed = df.pivot_table(columns='month', index='carrier_name', values='delayed_ratio')#.reset_index()"
   ]
  },
  {
   "cell_type": "code",
   "execution_count": 31,
   "metadata": {},
   "outputs": [],
   "source": [
    "delayed = delayed.sort_values(7)"
   ]
  },
  {
   "cell_type": "code",
   "execution_count": 32,
   "metadata": {},
   "outputs": [],
   "source": [
    "delayed = delayed.dropna()"
   ]
  },
  {
   "cell_type": "code",
   "execution_count": 33,
   "metadata": {},
   "outputs": [
    {
     "data": {
      "text/plain": [
       "([<matplotlib.axis.XTick at 0x118b7d4a8>,\n",
       "  <matplotlib.axis.XTick at 0x118a85f98>,\n",
       "  <matplotlib.axis.XTick at 0x118b7bd68>,\n",
       "  <matplotlib.axis.XTick at 0x11909bc18>,\n",
       "  <matplotlib.axis.XTick at 0x1190a0198>,\n",
       "  <matplotlib.axis.XTick at 0x1190a0710>,\n",
       "  <matplotlib.axis.XTick at 0x1190a0c88>,\n",
       "  <matplotlib.axis.XTick at 0x1190a7240>,\n",
       "  <matplotlib.axis.XTick at 0x1190a07f0>,\n",
       "  <matplotlib.axis.XTick at 0x119083128>,\n",
       "  <matplotlib.axis.XTick at 0x1190a76d8>,\n",
       "  <matplotlib.axis.XTick at 0x1190a7c50>],\n",
       " <a list of 12 Text xticklabel objects>)"
      ]
     },
     "execution_count": 33,
     "metadata": {},
     "output_type": "execute_result"
    },
    {
     "data": {
      "image/png": "[encoded data removed]",
      "text/plain": [
       "<Figure size 432x288 with 1 Axes>"
      ]
     },
     "metadata": {
      "needs_background": "light"
     },
     "output_type": "display_data"
    }
   ],
   "source": [
    "plt.pcolor(delayed, cmap='Reds')\n",
    "\n",
    "tick_labels = delayed.index\n",
    "tick_locations = np.arange(0.5, len(tick_labels), 1)\n",
    "plt.yticks(tick_locations, tick_labels)\n",
    "\n",
    "tick_labels = ['Jan', 'Feb', 'Mar', 'Apr', 'May', 'June', 'July', 'Aug', 'Sept', 'Oct', 'Nov', 'Dec']\n",
    "tick_locations = [0.5, 1.5, 2.5, 3.5, 4.5, 5.5, 6.5, 7.5, 8.5, 9.5, 10.5, 11.5]\n",
    "plt.xticks(tick_locations, tick_labels)"
   ]
  },
  {
   "cell_type": "markdown",
   "metadata": {},
   "source": [
    "# Longest Carrier Delays"
   ]
  },
  {
   "cell_type": "code",
   "execution_count": 34,
   "metadata": {},
   "outputs": [],
   "source": [
    "carrier_delay = df.pivot_table(columns='month', index='carrier_name', values='carrier_delay')#.reset_index()"
   ]
  },
  {
   "cell_type": "code",
   "execution_count": 35,
   "metadata": {},
   "outputs": [],
   "source": [
    "carrier_delay = carrier_delay.sort_values(7)"
   ]
  },
  {
   "cell_type": "code",
   "execution_count": 36,
   "metadata": {},
   "outputs": [],
   "source": [
    "carrier_delay = carrier_delay.dropna()"
   ]
  },
  {
   "cell_type": "code",
   "execution_count": 37,
   "metadata": {
    "scrolled": true
   },
   "outputs": [
    {
     "data": {
      "text/plain": [
       "([<matplotlib.axis.XTick at 0x1179015c0>,\n",
       "  <matplotlib.axis.XTick at 0x1190e1fd0>,\n",
       "  <matplotlib.axis.XTick at 0x1190e1cc0>,\n",
       "  <matplotlib.axis.XTick at 0x11914f898>,\n",
       "  <matplotlib.axis.XTick at 0x119148898>,\n",
       "  <matplotlib.axis.XTick at 0x119112d30>,\n",
       "  <matplotlib.axis.XTick at 0x11914fcf8>,\n",
       "  <matplotlib.axis.XTick at 0x1191572b0>,\n",
       "  <matplotlib.axis.XTick at 0x119157828>,\n",
       "  <matplotlib.axis.XTick at 0x119157da0>,\n",
       "  <matplotlib.axis.XTick at 0x11915d358>,\n",
       "  <matplotlib.axis.XTick at 0x11915d8d0>],\n",
       " <a list of 12 Text xticklabel objects>)"
      ]
     },
     "execution_count": 37,
     "metadata": {},
     "output_type": "execute_result"
    },
    {
     "data": {
      "image/png": "[encoded data removed]",
      "text/plain": [
       "<Figure size 432x288 with 1 Axes>"
      ]
     },
     "metadata": {
      "needs_background": "light"
     },
     "output_type": "display_data"
    }
   ],
   "source": [
    "plt.pcolor(carrier_delay, cmap='Reds')\n",
    "\n",
    "tick_labels = carrier_delay.index\n",
    "tick_locations = np.arange(0.5, len(tick_labels), 1)\n",
    "plt.yticks(tick_locations, tick_labels)\n",
    "\n",
    "tick_labels = ['Jan', 'Feb', 'Mar', 'Apr', 'May', 'June', 'July', 'Aug', 'Sept', 'Oct', 'Nov', 'Dec']\n",
    "tick_locations = [0.5, 1.5, 2.5, 3.5, 4.5, 5.5, 6.5, 7.5, 8.5, 9.5, 10.5, 11.5]\n",
    "plt.xticks(tick_locations, tick_labels)"
   ]
  },
  {
   "cell_type": "code",
   "execution_count": 38,
   "metadata": {},
   "outputs": [
    {
     "data": {
      "text/html": [
       "<div>\n",
       "<style scoped>\n",
       "    .dataframe tbody tr th:only-of-type {\n",
       "        vertical-align: middle;\n",
       "    }\n",
       "\n",
       "    .dataframe tbody tr th {\n",
       "        vertical-align: top;\n",
       "    }\n",
       "\n",
       "    .dataframe thead th {\n",
       "        text-align: right;\n",
       "    }\n",
       "</style>\n",
       "<table border=\"1\" class=\"dataframe\">\n",
       "  <thead>\n",
       "    <tr style=\"text-align: right;\">\n",
       "      <th></th>\n",
       "      <th>year</th>\n",
       "      <th>month</th>\n",
       "      <th>carrier_name</th>\n",
       "      <th>airport</th>\n",
       "      <th>airport_name</th>\n",
       "      <th>arr_flights</th>\n",
       "      <th>arr_del15</th>\n",
       "      <th>carrier_ct</th>\n",
       "      <th>weather_ct</th>\n",
       "      <th>nas_ct</th>\n",
       "      <th>...</th>\n",
       "      <th>arr_diverted</th>\n",
       "      <th>arr_delay</th>\n",
       "      <th>carrier_delay</th>\n",
       "      <th>weather_delay</th>\n",
       "      <th>nas_delay</th>\n",
       "      <th>security_delay</th>\n",
       "      <th>late_aircraft_delay</th>\n",
       "      <th>delay_ratio</th>\n",
       "      <th>cancelled_ratio</th>\n",
       "      <th>delayed_ratio</th>\n",
       "    </tr>\n",
       "  </thead>\n",
       "  <tbody>\n",
       "    <tr>\n",
       "      <th>0</th>\n",
       "      <td>2004</td>\n",
       "      <td>5</td>\n",
       "      <td>American Airlines Inc.</td>\n",
       "      <td>JFK</td>\n",
       "      <td>New York, NY: John F. Kennedy International</td>\n",
       "      <td>1296.0</td>\n",
       "      <td>277.0</td>\n",
       "      <td>66.43</td>\n",
       "      <td>4.00</td>\n",
       "      <td>166.35</td>\n",
       "      <td>...</td>\n",
       "      <td>6.0</td>\n",
       "      <td>13201.0</td>\n",
       "      <td>4795.0</td>\n",
       "      <td>409.0</td>\n",
       "      <td>5761.0</td>\n",
       "      <td>8.0</td>\n",
       "      <td>2228.0</td>\n",
       "      <td>1018.595679</td>\n",
       "      <td>0.077160</td>\n",
       "      <td>21.373457</td>\n",
       "    </tr>\n",
       "    <tr>\n",
       "      <th>1</th>\n",
       "      <td>2004</td>\n",
       "      <td>5</td>\n",
       "      <td>JetBlue Airways</td>\n",
       "      <td>JFK</td>\n",
       "      <td>New York, NY: John F. Kennedy International</td>\n",
       "      <td>2684.0</td>\n",
       "      <td>461.0</td>\n",
       "      <td>70.67</td>\n",
       "      <td>1.32</td>\n",
       "      <td>189.79</td>\n",
       "      <td>...</td>\n",
       "      <td>8.0</td>\n",
       "      <td>20322.0</td>\n",
       "      <td>3605.0</td>\n",
       "      <td>36.0</td>\n",
       "      <td>6773.0</td>\n",
       "      <td>449.0</td>\n",
       "      <td>9459.0</td>\n",
       "      <td>757.153502</td>\n",
       "      <td>0.037258</td>\n",
       "      <td>17.175857</td>\n",
       "    </tr>\n",
       "    <tr>\n",
       "      <th>2</th>\n",
       "      <td>2004</td>\n",
       "      <td>5</td>\n",
       "      <td>Continental Air Lines Inc.</td>\n",
       "      <td>JFK</td>\n",
       "      <td>New York, NY: John F. Kennedy International</td>\n",
       "      <td>31.0</td>\n",
       "      <td>5.0</td>\n",
       "      <td>0.72</td>\n",
       "      <td>1.00</td>\n",
       "      <td>3.28</td>\n",
       "      <td>...</td>\n",
       "      <td>0.0</td>\n",
       "      <td>278.0</td>\n",
       "      <td>86.0</td>\n",
       "      <td>73.0</td>\n",
       "      <td>119.0</td>\n",
       "      <td>0.0</td>\n",
       "      <td>0.0</td>\n",
       "      <td>896.774194</td>\n",
       "      <td>0.000000</td>\n",
       "      <td>16.129032</td>\n",
       "    </tr>\n",
       "    <tr>\n",
       "      <th>3</th>\n",
       "      <td>2004</td>\n",
       "      <td>5</td>\n",
       "      <td>Atlantic Coast Airlines</td>\n",
       "      <td>JFK</td>\n",
       "      <td>New York, NY: John F. Kennedy International</td>\n",
       "      <td>445.0</td>\n",
       "      <td>96.0</td>\n",
       "      <td>30.73</td>\n",
       "      <td>3.40</td>\n",
       "      <td>24.62</td>\n",
       "      <td>...</td>\n",
       "      <td>2.0</td>\n",
       "      <td>7433.0</td>\n",
       "      <td>1986.0</td>\n",
       "      <td>471.0</td>\n",
       "      <td>1728.0</td>\n",
       "      <td>0.0</td>\n",
       "      <td>3248.0</td>\n",
       "      <td>1670.337079</td>\n",
       "      <td>1.797753</td>\n",
       "      <td>21.573034</td>\n",
       "    </tr>\n",
       "    <tr>\n",
       "      <th>4</th>\n",
       "      <td>2004</td>\n",
       "      <td>5</td>\n",
       "      <td>Delta Air Lines Inc.</td>\n",
       "      <td>JFK</td>\n",
       "      <td>New York, NY: John F. Kennedy International</td>\n",
       "      <td>1175.0</td>\n",
       "      <td>317.0</td>\n",
       "      <td>51.60</td>\n",
       "      <td>1.93</td>\n",
       "      <td>227.31</td>\n",
       "      <td>...</td>\n",
       "      <td>2.0</td>\n",
       "      <td>13689.0</td>\n",
       "      <td>3113.0</td>\n",
       "      <td>57.0</td>\n",
       "      <td>8289.0</td>\n",
       "      <td>28.0</td>\n",
       "      <td>2202.0</td>\n",
       "      <td>1165.021277</td>\n",
       "      <td>0.255319</td>\n",
       "      <td>26.978723</td>\n",
       "    </tr>\n",
       "  </tbody>\n",
       "</table>\n",
       "<p>5 rows × 23 columns</p>\n",
       "</div>"
      ],
      "text/plain": [
       "   year  month                carrier_name airport  \\\n",
       "0  2004      5      American Airlines Inc.     JFK   \n",
       "1  2004      5             JetBlue Airways     JFK   \n",
       "2  2004      5  Continental Air Lines Inc.     JFK   \n",
       "3  2004      5     Atlantic Coast Airlines     JFK   \n",
       "4  2004      5        Delta Air Lines Inc.     JFK   \n",
       "\n",
       "                                  airport_name  arr_flights  arr_del15  \\\n",
       "0  New York, NY: John F. Kennedy International       1296.0      277.0   \n",
       "1  New York, NY: John F. Kennedy International       2684.0      461.0   \n",
       "2  New York, NY: John F. Kennedy International         31.0        5.0   \n",
       "3  New York, NY: John F. Kennedy International        445.0       96.0   \n",
       "4  New York, NY: John F. Kennedy International       1175.0      317.0   \n",
       "\n",
       "   carrier_ct  weather_ct  nas_ct  ...  arr_diverted  arr_delay  \\\n",
       "0       66.43        4.00  166.35  ...           6.0    13201.0   \n",
       "1       70.67        1.32  189.79  ...           8.0    20322.0   \n",
       "2        0.72        1.00    3.28  ...           0.0      278.0   \n",
       "3       30.73        3.40   24.62  ...           2.0     7433.0   \n",
       "4       51.60        1.93  227.31  ...           2.0    13689.0   \n",
       "\n",
       "   carrier_delay  weather_delay  nas_delay  security_delay  \\\n",
       "0         4795.0          409.0     5761.0             8.0   \n",
       "1         3605.0           36.0     6773.0           449.0   \n",
       "2           86.0           73.0      119.0             0.0   \n",
       "3         1986.0          471.0     1728.0             0.0   \n",
       "4         3113.0           57.0     8289.0            28.0   \n",
       "\n",
       "   late_aircraft_delay  delay_ratio  cancelled_ratio  delayed_ratio  \n",
       "0               2228.0  1018.595679         0.077160      21.373457  \n",
       "1               9459.0   757.153502         0.037258      17.175857  \n",
       "2                  0.0   896.774194         0.000000      16.129032  \n",
       "3               3248.0  1670.337079         1.797753      21.573034  \n",
       "4               2202.0  1165.021277         0.255319      26.978723  \n",
       "\n",
       "[5 rows x 23 columns]"
      ]
     },
     "execution_count": 38,
     "metadata": {},
     "output_type": "execute_result"
    }
   ],
   "source": [
    "df.head()"
   ]
  },
  {
   "cell_type": "markdown",
   "metadata": {},
   "source": [
    "# Cancelled Flights 2018, LaGuardia"
   ]
  },
  {
   "cell_type": "code",
   "execution_count": 39,
   "metadata": {},
   "outputs": [],
   "source": [
    "lga2018 = df[(df.airport == 'LGA') & (df.year == 2018)]"
   ]
  },
  {
   "cell_type": "code",
   "execution_count": 40,
   "metadata": {},
   "outputs": [
    {
     "name": "stderr",
     "output_type": "stream",
     "text": [
      "/Users/elenamlutz/.pyenv/versions/3.7.1/lib/python3.7/site-packages/ipykernel_launcher.py:1: SettingWithCopyWarning: \n",
      "A value is trying to be set on a copy of a slice from a DataFrame.\n",
      "Try using .loc[row_indexer,col_indexer] = value instead\n",
      "\n",
      "See the caveats in the documentation: http://pandas.pydata.org/pandas-docs/stable/indexing.html#indexing-view-versus-copy\n",
      "  \"\"\"Entry point for launching an IPython kernel.\n"
     ]
    }
   ],
   "source": [
    "lga2018['cancelled_lgaratio'] = ((lga2018['arr_cancelled'] + lga2018['arr_diverted']) *100) / (lga2018['arr_flights'])"
   ]
  },
  {
   "cell_type": "code",
   "execution_count": 41,
   "metadata": {},
   "outputs": [],
   "source": [
    "cancelledlga = lga2018.pivot_table(columns='month', index='carrier_name', values='cancelled_lgaratio')#.reset_index()"
   ]
  },
  {
   "cell_type": "code",
   "execution_count": 42,
   "metadata": {},
   "outputs": [],
   "source": [
    "cancelled_lga = cancelledlga.sort_values(7)"
   ]
  },
  {
   "cell_type": "code",
   "execution_count": 43,
   "metadata": {},
   "outputs": [
    {
     "data": {
      "text/plain": [
       "([<matplotlib.axis.XTick at 0x11920d080>,\n",
       "  <matplotlib.axis.XTick at 0x119207978>,\n",
       "  <matplotlib.axis.XTick at 0x1192076a0>,\n",
       "  <matplotlib.axis.XTick at 0x119269390>,\n",
       "  <matplotlib.axis.XTick at 0x119260208>,\n",
       "  <matplotlib.axis.XTick at 0x11925a5f8>,\n",
       "  <matplotlib.axis.XTick at 0x1192692e8>,\n",
       "  <matplotlib.axis.XTick at 0x119269eb8>,\n",
       "  <matplotlib.axis.XTick at 0x119270470>,\n",
       "  <matplotlib.axis.XTick at 0x1192709e8>,\n",
       "  <matplotlib.axis.XTick at 0x119270f60>,\n",
       "  <matplotlib.axis.XTick at 0x119277518>],\n",
       " <a list of 12 Text xticklabel objects>)"
      ]
     },
     "execution_count": 43,
     "metadata": {},
     "output_type": "execute_result"
    },
    {
     "data": {
      "image/png": "[encoded data removed]",
      "text/plain": [
       "<Figure size 432x288 with 1 Axes>"
      ]
     },
     "metadata": {
      "needs_background": "light"
     },
     "output_type": "display_data"
    }
   ],
   "source": [
    "plt.pcolor(cancelled_lga, cmap='Reds')\n",
    "\n",
    "tick_labels = cancelled_lga.index\n",
    "tick_locations = np.arange(0.5, len(tick_labels), 1)\n",
    "plt.yticks(tick_locations, tick_labels)\n",
    "\n",
    "tick_labels = ['Jan', 'Feb', 'Mar', 'Apr', 'May', 'June', 'July', 'Aug', 'Sept', 'Oct', 'Nov', 'Dec']\n",
    "tick_locations = [0.5, 1.5, 2.5, 3.5, 4.5, 5.5, 6.5, 7.5, 8.5, 9.5, 10.5, 11.5]\n",
    "plt.xticks(tick_locations, tick_labels)"
   ]
  },
  {
   "cell_type": "markdown",
   "metadata": {},
   "source": [
    "# Weather Delays 2018, LaGuardia"
   ]
  },
  {
   "cell_type": "code",
   "execution_count": 44,
   "metadata": {},
   "outputs": [
    {
     "name": "stderr",
     "output_type": "stream",
     "text": [
      "/Users/elenamlutz/.pyenv/versions/3.7.1/lib/python3.7/site-packages/ipykernel_launcher.py:1: SettingWithCopyWarning: \n",
      "A value is trying to be set on a copy of a slice from a DataFrame.\n",
      "Try using .loc[row_indexer,col_indexer] = value instead\n",
      "\n",
      "See the caveats in the documentation: http://pandas.pydata.org/pandas-docs/stable/indexing.html#indexing-view-versus-copy\n",
      "  \"\"\"Entry point for launching an IPython kernel.\n"
     ]
    }
   ],
   "source": [
    "lga2018['lga_weatherratio'] = (lga2018['weather_ct'] *100) / (lga2018['arr_flights'])"
   ]
  },
  {
   "cell_type": "code",
   "execution_count": 45,
   "metadata": {},
   "outputs": [],
   "source": [
    "weatherlga = lga2018.pivot_table(columns='month', index='carrier_name', values='lga_weatherratio')#.reset_index()"
   ]
  },
  {
   "cell_type": "code",
   "execution_count": 46,
   "metadata": {},
   "outputs": [],
   "source": [
    "weatherlga = weatherlga.sort_values(7)"
   ]
  },
  {
   "cell_type": "code",
   "execution_count": 47,
   "metadata": {},
   "outputs": [
    {
     "data": {
      "text/plain": [
       "([<matplotlib.axis.XTick at 0x12269fb00>,\n",
       "  <matplotlib.axis.XTick at 0x12269f4a8>,\n",
       "  <matplotlib.axis.XTick at 0x1226846a0>,\n",
       "  <matplotlib.axis.XTick at 0x12276bd30>,\n",
       "  <matplotlib.axis.XTick at 0x1227732b0>,\n",
       "  <matplotlib.axis.XTick at 0x12276b860>,\n",
       "  <matplotlib.axis.XTick at 0x12275af98>,\n",
       "  <matplotlib.axis.XTick at 0x1227737b8>,\n",
       "  <matplotlib.axis.XTick at 0x122773d30>,\n",
       "  <matplotlib.axis.XTick at 0x1227792e8>,\n",
       "  <matplotlib.axis.XTick at 0x122779860>,\n",
       "  <matplotlib.axis.XTick at 0x122779dd8>],\n",
       " <a list of 12 Text xticklabel objects>)"
      ]
     },
     "execution_count": 47,
     "metadata": {},
     "output_type": "execute_result"
    },
    {
     "data": {
      "image/png": "[encoded data removed]",
      "text/plain": [
       "<Figure size 432x288 with 1 Axes>"
      ]
     },
     "metadata": {
      "needs_background": "light"
     },
     "output_type": "display_data"
    }
   ],
   "source": [
    "plt.pcolor(weatherlga, cmap='PuBuGn')\n",
    "\n",
    "tick_labels = weatherlga.index\n",
    "tick_locations = np.arange(0.5, len(tick_labels), 1)\n",
    "plt.yticks(tick_locations, tick_labels)\n",
    "\n",
    "tick_labels = ['Jan', 'Feb', 'Mar', 'Apr', 'May', 'June', 'July', 'Aug', 'Sept', 'Oct', 'Nov', 'Dec']\n",
    "tick_locations = [0.5, 1.5, 2.5, 3.5, 4.5, 5.5, 6.5, 7.5, 8.5, 9.5, 10.5, 11.5]\n",
    "plt.xticks(tick_locations, tick_labels)"
   ]
  },
  {
   "cell_type": "code",
   "execution_count": null,
   "metadata": {},
   "outputs": [],
   "source": []
  },
  {
   "cell_type": "code",
   "execution_count": null,
   "metadata": {},
   "outputs": [],
   "source": []
  },
  {
   "cell_type": "code",
   "execution_count": null,
   "metadata": {},
   "outputs": [],
   "source": []
  }
 ],
 "metadata": {
  "kernelspec": {
   "display_name": "Python 3",
   "language": "python",
   "name": "python3"
  },
  "language_info": {
   "codemirror_mode": {
    "name": "ipython",
    "version": 3
   },
   "file_extension": ".py",
   "mimetype": "text/x-python",
   "name": "python",
   "nbconvert_exporter": "python",
   "pygments_lexer": "ipython3",
   "version": "3.7.1"
  }
 },
 "nbformat": 4,
 "nbformat_minor": 2
}
