{
 "cells": [
  {
   "cell_type": "code",
   "execution_count": 1,
   "metadata": {},
   "outputs": [],
   "source": [
    "import pandas as pd\n",
    "import requests\n",
    "import re\n",
    "from bs4 import BeautifulSoup\n",
    "import numpy as np\n",
    "import matplotlib\n",
    "import matplotlib.pyplot as plt\n",
    "import seaborn as sns\n",
    "import altair as alt\n",
    "alt.renderers.enable('notebook')\n",
    "\n",
    "alt.data_transformers.disable_max_rows()\n",
    "matplotlib.rcParams['pdf.fonttype'] = 42\n",
    "\n",
    "%matplotlib inline"
   ]
  },
  {
   "cell_type": "code",
   "execution_count": 2,
   "metadata": {},
   "outputs": [
    {
     "name": "stdout",
     "output_type": "stream",
     "text": [
      "Airline Delays, 2004-2019.ipynb airline_delay_causes.csv\r\n"
     ]
    }
   ],
   "source": [
    "!ls"
   ]
  },
  {
   "cell_type": "code",
   "execution_count": 3,
   "metadata": {},
   "outputs": [],
   "source": [
    "df = pd.read_csv(\"airline_delay_causes.csv\")"
   ]
  },
  {
   "cell_type": "code",
   "execution_count": 4,
   "metadata": {},
   "outputs": [],
   "source": [
    "#Worst airlines by year \n",
    "#Worst airports by year\n",
    "#Delays over time - worst seasons to travel (calendar heatmap)\n",
    "#Sankey Diagram for each airport\n",
    "#LaGuardia weather delays over time\n",
    "#Airlines with least delays, 2018"
   ]
  },
  {
   "cell_type": "code",
   "execution_count": 5,
   "metadata": {},
   "outputs": [
    {
     "data": {
      "text/plain": [
       "year                     int64\n",
       " month                   int64\n",
       "carrier                 object\n",
       "carrier_name            object\n",
       "airport                 object\n",
       "airport_name            object\n",
       "arr_flights            float64\n",
       "arr_del15              float64\n",
       "carrier_ct             float64\n",
       " weather_ct            float64\n",
       "nas_ct                 float64\n",
       "security_ct            float64\n",
       "late_aircraft_ct       float64\n",
       "arr_cancelled          float64\n",
       "arr_diverted           float64\n",
       " arr_delay             float64\n",
       " carrier_delay         float64\n",
       "weather_delay          float64\n",
       "nas_delay              float64\n",
       "security_delay         float64\n",
       "late_aircraft_delay    float64\n",
       "dtype: object"
      ]
     },
     "execution_count": 5,
     "metadata": {},
     "output_type": "execute_result"
    }
   ],
   "source": [
    "df.dtypes"
   ]
  },
  {
   "cell_type": "code",
   "execution_count": 6,
   "metadata": {},
   "outputs": [],
   "source": [
    "df=df.rename(columns={' month': 'month',\n",
    "                     ' weather_ct': 'weather_ct',\n",
    "                     ' arr_delay': 'arr_delay',\n",
    "                     ' carrier_delay': 'carrier_delay'})"
   ]
  },
  {
   "cell_type": "code",
   "execution_count": 7,
   "metadata": {},
   "outputs": [],
   "source": [
    "df = df.drop(['carrier'], axis=1)"
   ]
  },
  {
   "cell_type": "code",
   "execution_count": 8,
   "metadata": {},
   "outputs": [
    {
     "data": {
      "text/html": [
       "<div>\n",
       "<style scoped>\n",
       "    .dataframe tbody tr th:only-of-type {\n",
       "        vertical-align: middle;\n",
       "    }\n",
       "\n",
       "    .dataframe tbody tr th {\n",
       "        vertical-align: top;\n",
       "    }\n",
       "\n",
       "    .dataframe thead th {\n",
       "        text-align: right;\n",
       "    }\n",
       "</style>\n",
       "<table border=\"1\" class=\"dataframe\">\n",
       "  <thead>\n",
       "    <tr style=\"text-align: right;\">\n",
       "      <th></th>\n",
       "      <th>year</th>\n",
       "      <th>month</th>\n",
       "      <th>carrier_name</th>\n",
       "      <th>airport</th>\n",
       "      <th>airport_name</th>\n",
       "      <th>arr_flights</th>\n",
       "      <th>arr_del15</th>\n",
       "      <th>carrier_ct</th>\n",
       "      <th>weather_ct</th>\n",
       "      <th>nas_ct</th>\n",
       "      <th>security_ct</th>\n",
       "      <th>late_aircraft_ct</th>\n",
       "      <th>arr_cancelled</th>\n",
       "      <th>arr_diverted</th>\n",
       "      <th>arr_delay</th>\n",
       "      <th>carrier_delay</th>\n",
       "      <th>weather_delay</th>\n",
       "      <th>nas_delay</th>\n",
       "      <th>security_delay</th>\n",
       "      <th>late_aircraft_delay</th>\n",
       "    </tr>\n",
       "  </thead>\n",
       "  <tbody>\n",
       "    <tr>\n",
       "      <th>0</th>\n",
       "      <td>2004</td>\n",
       "      <td>5</td>\n",
       "      <td>American Airlines Inc.</td>\n",
       "      <td>JFK</td>\n",
       "      <td>New York, NY: John F. Kennedy International</td>\n",
       "      <td>1296.0</td>\n",
       "      <td>277.0</td>\n",
       "      <td>66.43</td>\n",
       "      <td>4.00</td>\n",
       "      <td>166.35</td>\n",
       "      <td>0.23</td>\n",
       "      <td>39.98</td>\n",
       "      <td>1.0</td>\n",
       "      <td>6.0</td>\n",
       "      <td>13201.0</td>\n",
       "      <td>4795.0</td>\n",
       "      <td>409.0</td>\n",
       "      <td>5761.0</td>\n",
       "      <td>8.0</td>\n",
       "      <td>2228.0</td>\n",
       "    </tr>\n",
       "    <tr>\n",
       "      <th>1</th>\n",
       "      <td>2004</td>\n",
       "      <td>5</td>\n",
       "      <td>JetBlue Airways</td>\n",
       "      <td>JFK</td>\n",
       "      <td>New York, NY: John F. Kennedy International</td>\n",
       "      <td>2684.0</td>\n",
       "      <td>461.0</td>\n",
       "      <td>70.67</td>\n",
       "      <td>1.32</td>\n",
       "      <td>189.79</td>\n",
       "      <td>12.11</td>\n",
       "      <td>187.11</td>\n",
       "      <td>1.0</td>\n",
       "      <td>8.0</td>\n",
       "      <td>20322.0</td>\n",
       "      <td>3605.0</td>\n",
       "      <td>36.0</td>\n",
       "      <td>6773.0</td>\n",
       "      <td>449.0</td>\n",
       "      <td>9459.0</td>\n",
       "    </tr>\n",
       "    <tr>\n",
       "      <th>2</th>\n",
       "      <td>2004</td>\n",
       "      <td>5</td>\n",
       "      <td>Continental Air Lines Inc.</td>\n",
       "      <td>JFK</td>\n",
       "      <td>New York, NY: John F. Kennedy International</td>\n",
       "      <td>31.0</td>\n",
       "      <td>5.0</td>\n",
       "      <td>0.72</td>\n",
       "      <td>1.00</td>\n",
       "      <td>3.28</td>\n",
       "      <td>0.00</td>\n",
       "      <td>0.00</td>\n",
       "      <td>0.0</td>\n",
       "      <td>0.0</td>\n",
       "      <td>278.0</td>\n",
       "      <td>86.0</td>\n",
       "      <td>73.0</td>\n",
       "      <td>119.0</td>\n",
       "      <td>0.0</td>\n",
       "      <td>0.0</td>\n",
       "    </tr>\n",
       "    <tr>\n",
       "      <th>3</th>\n",
       "      <td>2004</td>\n",
       "      <td>5</td>\n",
       "      <td>Atlantic Coast Airlines</td>\n",
       "      <td>JFK</td>\n",
       "      <td>New York, NY: John F. Kennedy International</td>\n",
       "      <td>445.0</td>\n",
       "      <td>96.0</td>\n",
       "      <td>30.73</td>\n",
       "      <td>3.40</td>\n",
       "      <td>24.62</td>\n",
       "      <td>0.00</td>\n",
       "      <td>37.25</td>\n",
       "      <td>8.0</td>\n",
       "      <td>2.0</td>\n",
       "      <td>7433.0</td>\n",
       "      <td>1986.0</td>\n",
       "      <td>471.0</td>\n",
       "      <td>1728.0</td>\n",
       "      <td>0.0</td>\n",
       "      <td>3248.0</td>\n",
       "    </tr>\n",
       "    <tr>\n",
       "      <th>4</th>\n",
       "      <td>2004</td>\n",
       "      <td>5</td>\n",
       "      <td>Delta Air Lines Inc.</td>\n",
       "      <td>JFK</td>\n",
       "      <td>New York, NY: John F. Kennedy International</td>\n",
       "      <td>1175.0</td>\n",
       "      <td>317.0</td>\n",
       "      <td>51.60</td>\n",
       "      <td>1.93</td>\n",
       "      <td>227.31</td>\n",
       "      <td>0.85</td>\n",
       "      <td>35.31</td>\n",
       "      <td>3.0</td>\n",
       "      <td>2.0</td>\n",
       "      <td>13689.0</td>\n",
       "      <td>3113.0</td>\n",
       "      <td>57.0</td>\n",
       "      <td>8289.0</td>\n",
       "      <td>28.0</td>\n",
       "      <td>2202.0</td>\n",
       "    </tr>\n",
       "  </tbody>\n",
       "</table>\n",
       "</div>"
      ],
      "text/plain": [
       "   year  month                carrier_name airport  \\\n",
       "0  2004      5      American Airlines Inc.     JFK   \n",
       "1  2004      5             JetBlue Airways     JFK   \n",
       "2  2004      5  Continental Air Lines Inc.     JFK   \n",
       "3  2004      5     Atlantic Coast Airlines     JFK   \n",
       "4  2004      5        Delta Air Lines Inc.     JFK   \n",
       "\n",
       "                                  airport_name  arr_flights  arr_del15  \\\n",
       "0  New York, NY: John F. Kennedy International       1296.0      277.0   \n",
       "1  New York, NY: John F. Kennedy International       2684.0      461.0   \n",
       "2  New York, NY: John F. Kennedy International         31.0        5.0   \n",
       "3  New York, NY: John F. Kennedy International        445.0       96.0   \n",
       "4  New York, NY: John F. Kennedy International       1175.0      317.0   \n",
       "\n",
       "   carrier_ct  weather_ct  nas_ct  security_ct  late_aircraft_ct  \\\n",
       "0       66.43        4.00  166.35         0.23             39.98   \n",
       "1       70.67        1.32  189.79        12.11            187.11   \n",
       "2        0.72        1.00    3.28         0.00              0.00   \n",
       "3       30.73        3.40   24.62         0.00             37.25   \n",
       "4       51.60        1.93  227.31         0.85             35.31   \n",
       "\n",
       "   arr_cancelled  arr_diverted  arr_delay  carrier_delay  weather_delay  \\\n",
       "0            1.0           6.0    13201.0         4795.0          409.0   \n",
       "1            1.0           8.0    20322.0         3605.0           36.0   \n",
       "2            0.0           0.0      278.0           86.0           73.0   \n",
       "3            8.0           2.0     7433.0         1986.0          471.0   \n",
       "4            3.0           2.0    13689.0         3113.0           57.0   \n",
       "\n",
       "   nas_delay  security_delay  late_aircraft_delay  \n",
       "0     5761.0             8.0               2228.0  \n",
       "1     6773.0           449.0               9459.0  \n",
       "2      119.0             0.0                  0.0  \n",
       "3     1728.0             0.0               3248.0  \n",
       "4     8289.0            28.0               2202.0  "
      ]
     },
     "execution_count": 8,
     "metadata": {},
     "output_type": "execute_result"
    }
   ],
   "source": [
    "df.head()"
   ]
  },
  {
   "cell_type": "code",
   "execution_count": 9,
   "metadata": {},
   "outputs": [
    {
     "data": {
      "text/plain": [
       "airport\n",
       "EWR    1360159.0\n",
       "JFK    1074943.0\n",
       "LGA    1518860.0\n",
       "Name: weather_delay, dtype: float64"
      ]
     },
     "execution_count": 9,
     "metadata": {},
     "output_type": "execute_result"
    }
   ],
   "source": [
    "df.groupby(by='airport')['weather_delay'].sum()"
   ]
  },
  {
   "cell_type": "code",
   "execution_count": 10,
   "metadata": {},
   "outputs": [
    {
     "data": {
      "text/plain": [
       "Delta Air Lines Inc.            543\n",
       "American Airlines Inc.          543\n",
       "JetBlue Airways                 522\n",
       "United Air Lines Inc.           500\n",
       "ExpressJet Airlines Inc.        430\n",
       "US Airways Inc.                 382\n",
       "American Eagle Airlines Inc.    339\n",
       "Mesa Airlines Inc.              243\n",
       "Continental Air Lines Inc.      237\n",
       "Comair Inc.                     236\n",
       "Alaska Airlines Inc.            226\n",
       "Southwest Airlines Co.          219\n",
       "Northwest Airlines Inc.         204\n",
       "AirTran Airways Corporation     190\n",
       "Virgin America                  170\n",
       "Frontier Airlines Inc.          169\n",
       "Atlantic Southeast Airlines     166\n",
       "SkyWest Airlines Inc.           147\n",
       "Envoy Air                       101\n",
       "Pinnacle Airlines Inc.           99\n",
       "Spirit Air Lines                 85\n",
       "Hawaiian Airlines Inc.           84\n",
       "Endeavor Air Inc.                66\n",
       "ATA Airlines d/b/a ATA           53\n",
       "Republic Airline                 51\n",
       "America West Airlines Inc.       40\n",
       "PSA Airlines Inc.                32\n",
       "Independence Air                 31\n",
       "Allegiant Air                    17\n",
       "Atlantic Coast Airlines          14\n",
       "ExpressJet Airlines LLC           4\n",
       "Name: carrier_name, dtype: int64"
      ]
     },
     "execution_count": 10,
     "metadata": {},
     "output_type": "execute_result"
    }
   ],
   "source": [
    "df.carrier_name.value_counts()"
   ]
  },
  {
   "cell_type": "code",
   "execution_count": 11,
   "metadata": {},
   "outputs": [],
   "source": [
    "import scipy\n"
   ]
  },
  {
   "cell_type": "markdown",
   "metadata": {},
   "source": [
    "# Longest Delays"
   ]
  },
  {
   "cell_type": "code",
   "execution_count": 99,
   "metadata": {},
   "outputs": [],
   "source": [
    "df['delay_ratio'] = (df['arr_del15'] *100) / (df['arr_flights'])"
   ]
  },
  {
   "cell_type": "code",
   "execution_count": 100,
   "metadata": {},
   "outputs": [],
   "source": [
    "delays = df.pivot_table(columns='month', index='carrier_name', values='delay_ratio')#.reset_index()"
   ]
  },
  {
   "cell_type": "code",
   "execution_count": 101,
   "metadata": {},
   "outputs": [],
   "source": [
    "delays = delays.sort_values(7)"
   ]
  },
  {
   "cell_type": "code",
   "execution_count": 102,
   "metadata": {},
   "outputs": [],
   "source": [
    "delays = delays.dropna()"
   ]
  },
  {
   "cell_type": "code",
   "execution_count": 103,
   "metadata": {},
   "outputs": [
    {
     "data": {
      "text/html": [
       "<div>\n",
       "<style scoped>\n",
       "    .dataframe tbody tr th:only-of-type {\n",
       "        vertical-align: middle;\n",
       "    }\n",
       "\n",
       "    .dataframe tbody tr th {\n",
       "        vertical-align: top;\n",
       "    }\n",
       "\n",
       "    .dataframe thead th {\n",
       "        text-align: right;\n",
       "    }\n",
       "</style>\n",
       "<table border=\"1\" class=\"dataframe\">\n",
       "  <thead>\n",
       "    <tr style=\"text-align: right;\">\n",
       "      <th>month</th>\n",
       "      <th>1</th>\n",
       "      <th>2</th>\n",
       "      <th>3</th>\n",
       "      <th>4</th>\n",
       "      <th>5</th>\n",
       "      <th>6</th>\n",
       "      <th>7</th>\n",
       "      <th>8</th>\n",
       "      <th>9</th>\n",
       "      <th>10</th>\n",
       "      <th>11</th>\n",
       "      <th>12</th>\n",
       "    </tr>\n",
       "    <tr>\n",
       "      <th>carrier_name</th>\n",
       "      <th></th>\n",
       "      <th></th>\n",
       "      <th></th>\n",
       "      <th></th>\n",
       "      <th></th>\n",
       "      <th></th>\n",
       "      <th></th>\n",
       "      <th></th>\n",
       "      <th></th>\n",
       "      <th></th>\n",
       "      <th></th>\n",
       "      <th></th>\n",
       "    </tr>\n",
       "  </thead>\n",
       "  <tbody>\n",
       "    <tr>\n",
       "      <th>PSA Airlines Inc.</th>\n",
       "      <td>28.822802</td>\n",
       "      <td>30.317188</td>\n",
       "      <td>27.970465</td>\n",
       "      <td>26.955497</td>\n",
       "      <td>25.653812</td>\n",
       "      <td>29.936306</td>\n",
       "      <td>14.649682</td>\n",
       "      <td>25.925926</td>\n",
       "      <td>20.805369</td>\n",
       "      <td>25.705467</td>\n",
       "      <td>23.261905</td>\n",
       "      <td>18.887363</td>\n",
       "    </tr>\n",
       "    <tr>\n",
       "      <th>Hawaiian Airlines Inc.</th>\n",
       "      <td>26.600985</td>\n",
       "      <td>22.628942</td>\n",
       "      <td>24.274343</td>\n",
       "      <td>24.657444</td>\n",
       "      <td>21.488309</td>\n",
       "      <td>25.608466</td>\n",
       "      <td>18.433180</td>\n",
       "      <td>19.815668</td>\n",
       "      <td>14.642857</td>\n",
       "      <td>17.086063</td>\n",
       "      <td>17.424501</td>\n",
       "      <td>24.748587</td>\n",
       "    </tr>\n",
       "    <tr>\n",
       "      <th>Allegiant Air</th>\n",
       "      <td>16.025641</td>\n",
       "      <td>6.162791</td>\n",
       "      <td>6.021127</td>\n",
       "      <td>9.351433</td>\n",
       "      <td>5.052051</td>\n",
       "      <td>13.432836</td>\n",
       "      <td>21.052632</td>\n",
       "      <td>7.575758</td>\n",
       "      <td>9.756098</td>\n",
       "      <td>3.846154</td>\n",
       "      <td>7.692308</td>\n",
       "      <td>9.803922</td>\n",
       "    </tr>\n",
       "    <tr>\n",
       "      <th>Envoy Air</th>\n",
       "      <td>34.114000</td>\n",
       "      <td>30.304457</td>\n",
       "      <td>24.202214</td>\n",
       "      <td>25.698974</td>\n",
       "      <td>27.256189</td>\n",
       "      <td>30.539880</td>\n",
       "      <td>21.651933</td>\n",
       "      <td>20.120339</td>\n",
       "      <td>21.734245</td>\n",
       "      <td>22.425269</td>\n",
       "      <td>23.377097</td>\n",
       "      <td>31.466827</td>\n",
       "    </tr>\n",
       "    <tr>\n",
       "      <th>Republic Airline</th>\n",
       "      <td>26.899330</td>\n",
       "      <td>19.952951</td>\n",
       "      <td>21.193712</td>\n",
       "      <td>23.553630</td>\n",
       "      <td>20.506687</td>\n",
       "      <td>23.035252</td>\n",
       "      <td>23.646266</td>\n",
       "      <td>22.252829</td>\n",
       "      <td>22.757232</td>\n",
       "      <td>21.436060</td>\n",
       "      <td>24.388025</td>\n",
       "      <td>21.724935</td>\n",
       "    </tr>\n",
       "  </tbody>\n",
       "</table>\n",
       "</div>"
      ],
      "text/plain": [
       "month                          1          2          3          4          5   \\\n",
       "carrier_name                                                                    \n",
       "PSA Airlines Inc.       28.822802  30.317188  27.970465  26.955497  25.653812   \n",
       "Hawaiian Airlines Inc.  26.600985  22.628942  24.274343  24.657444  21.488309   \n",
       "Allegiant Air           16.025641   6.162791   6.021127   9.351433   5.052051   \n",
       "Envoy Air               34.114000  30.304457  24.202214  25.698974  27.256189   \n",
       "Republic Airline        26.899330  19.952951  21.193712  23.553630  20.506687   \n",
       "\n",
       "month                          6          7          8          9          10  \\\n",
       "carrier_name                                                                    \n",
       "PSA Airlines Inc.       29.936306  14.649682  25.925926  20.805369  25.705467   \n",
       "Hawaiian Airlines Inc.  25.608466  18.433180  19.815668  14.642857  17.086063   \n",
       "Allegiant Air           13.432836  21.052632   7.575758   9.756098   3.846154   \n",
       "Envoy Air               30.539880  21.651933  20.120339  21.734245  22.425269   \n",
       "Republic Airline        23.035252  23.646266  22.252829  22.757232  21.436060   \n",
       "\n",
       "month                          11         12  \n",
       "carrier_name                                  \n",
       "PSA Airlines Inc.       23.261905  18.887363  \n",
       "Hawaiian Airlines Inc.  17.424501  24.748587  \n",
       "Allegiant Air            7.692308   9.803922  \n",
       "Envoy Air               23.377097  31.466827  \n",
       "Republic Airline        24.388025  21.724935  "
      ]
     },
     "execution_count": 103,
     "metadata": {},
     "output_type": "execute_result"
    }
   ],
   "source": [
    "delays.head()"
   ]
  },
  {
   "cell_type": "code",
   "execution_count": 104,
   "metadata": {},
   "outputs": [
    {
     "data": {
      "text/plain": [
       "([<matplotlib.axis.XTick at 0x1211d4ac8>,\n",
       "  <matplotlib.axis.XTick at 0x1211d4048>,\n",
       "  <matplotlib.axis.XTick at 0x120d1f390>,\n",
       "  <matplotlib.axis.XTick at 0x1212e3160>,\n",
       "  <matplotlib.axis.XTick at 0x1212e3668>,\n",
       "  <matplotlib.axis.XTick at 0x1212e3be0>,\n",
       "  <matplotlib.axis.XTick at 0x1212e9198>,\n",
       "  <matplotlib.axis.XTick at 0x1212e9710>,\n",
       "  <matplotlib.axis.XTick at 0x1212e3a58>,\n",
       "  <matplotlib.axis.XTick at 0x1212b7160>,\n",
       "  <matplotlib.axis.XTick at 0x1212e9ba8>,\n",
       "  <matplotlib.axis.XTick at 0x1212f2198>],\n",
       " <a list of 12 Text xticklabel objects>)"
      ]
     },
     "execution_count": 104,
     "metadata": {},
     "output_type": "execute_result"
    },
    {
     "data": {
      "image/png": "[encoded data removed]",
      "text/plain": [
       "<Figure size 432x288 with 1 Axes>"
      ]
     },
     "metadata": {
      "needs_background": "light"
     },
     "output_type": "display_data"
    }
   ],
   "source": [
    "plt.pcolor(delays, cmap='Reds')\n",
    "\n",
    "tick_labels = delays.index\n",
    "tick_locations = np.arange(0.5, len(tick_labels), 1)\n",
    "plt.yticks(tick_locations, tick_labels)\n",
    "\n",
    "tick_labels = ['Jan', 'Feb', 'Mar', 'Apr', 'May', 'June', 'July', 'Aug', 'Sept', 'Oct', 'Nov', 'Dec']\n",
    "tick_locations = [0.5, 1.5, 2.5, 3.5, 4.5, 5.5, 6.5, 7.5, 8.5, 9.5, 10.5, 11.5]\n",
    "plt.xticks(tick_locations, tick_labels)"
   ]
  },
  {
   "cell_type": "markdown",
   "metadata": {},
   "source": [
    "# Cancelled Flights"
   ]
  },
  {
   "cell_type": "code",
   "execution_count": 105,
   "metadata": {},
   "outputs": [],
   "source": [
    "df['cancelled_ratio'] = (df['arr_cancelled'] *100) / (df['arr_flights'])"
   ]
  },
  {
   "cell_type": "code",
   "execution_count": 106,
   "metadata": {},
   "outputs": [],
   "source": [
    "cancelled = df.pivot_table(columns='month', index='carrier_name', values='cancelled_ratio')#.reset_index()"
   ]
  },
  {
   "cell_type": "code",
   "execution_count": 107,
   "metadata": {},
   "outputs": [],
   "source": [
    "cancelled = cancelled.sort_values(7)"
   ]
  },
  {
   "cell_type": "code",
   "execution_count": 108,
   "metadata": {},
   "outputs": [
    {
     "data": {
      "text/html": [
       "<div>\n",
       "<style scoped>\n",
       "    .dataframe tbody tr th:only-of-type {\n",
       "        vertical-align: middle;\n",
       "    }\n",
       "\n",
       "    .dataframe tbody tr th {\n",
       "        vertical-align: top;\n",
       "    }\n",
       "\n",
       "    .dataframe thead th {\n",
       "        text-align: right;\n",
       "    }\n",
       "</style>\n",
       "<table border=\"1\" class=\"dataframe\">\n",
       "  <thead>\n",
       "    <tr style=\"text-align: right;\">\n",
       "      <th>month</th>\n",
       "      <th>1</th>\n",
       "      <th>2</th>\n",
       "      <th>3</th>\n",
       "      <th>4</th>\n",
       "      <th>5</th>\n",
       "      <th>6</th>\n",
       "      <th>7</th>\n",
       "      <th>8</th>\n",
       "      <th>9</th>\n",
       "      <th>10</th>\n",
       "      <th>11</th>\n",
       "      <th>12</th>\n",
       "    </tr>\n",
       "    <tr>\n",
       "      <th>carrier_name</th>\n",
       "      <th></th>\n",
       "      <th></th>\n",
       "      <th></th>\n",
       "      <th></th>\n",
       "      <th></th>\n",
       "      <th></th>\n",
       "      <th></th>\n",
       "      <th></th>\n",
       "      <th></th>\n",
       "      <th></th>\n",
       "      <th></th>\n",
       "      <th></th>\n",
       "    </tr>\n",
       "  </thead>\n",
       "  <tbody>\n",
       "    <tr>\n",
       "      <th>Hawaiian Airlines Inc.</th>\n",
       "      <td>0.492611</td>\n",
       "      <td>0.571429</td>\n",
       "      <td>0.460829</td>\n",
       "      <td>0.000000</td>\n",
       "      <td>0.000000</td>\n",
       "      <td>0.000000</td>\n",
       "      <td>0.000000</td>\n",
       "      <td>0.000000</td>\n",
       "      <td>0.000000</td>\n",
       "      <td>1.382488</td>\n",
       "      <td>0.000000</td>\n",
       "      <td>0.000000</td>\n",
       "    </tr>\n",
       "    <tr>\n",
       "      <th>Virgin America</th>\n",
       "      <td>3.731372</td>\n",
       "      <td>4.420208</td>\n",
       "      <td>3.018088</td>\n",
       "      <td>0.423012</td>\n",
       "      <td>0.212465</td>\n",
       "      <td>0.453601</td>\n",
       "      <td>0.433129</td>\n",
       "      <td>0.457789</td>\n",
       "      <td>0.200507</td>\n",
       "      <td>0.884958</td>\n",
       "      <td>0.713969</td>\n",
       "      <td>0.564037</td>\n",
       "    </tr>\n",
       "    <tr>\n",
       "      <th>Alaska Airlines Inc.</th>\n",
       "      <td>2.422879</td>\n",
       "      <td>2.087072</td>\n",
       "      <td>1.560575</td>\n",
       "      <td>0.172840</td>\n",
       "      <td>0.049544</td>\n",
       "      <td>0.175187</td>\n",
       "      <td>0.527739</td>\n",
       "      <td>0.637926</td>\n",
       "      <td>0.051328</td>\n",
       "      <td>0.558811</td>\n",
       "      <td>0.238521</td>\n",
       "      <td>0.833033</td>\n",
       "    </tr>\n",
       "    <tr>\n",
       "      <th>Frontier Airlines Inc.</th>\n",
       "      <td>3.057241</td>\n",
       "      <td>2.734886</td>\n",
       "      <td>1.592752</td>\n",
       "      <td>0.450898</td>\n",
       "      <td>0.979799</td>\n",
       "      <td>0.509795</td>\n",
       "      <td>1.030732</td>\n",
       "      <td>1.459385</td>\n",
       "      <td>0.275492</td>\n",
       "      <td>0.956008</td>\n",
       "      <td>0.512177</td>\n",
       "      <td>2.288166</td>\n",
       "    </tr>\n",
       "    <tr>\n",
       "      <th>Continental Air Lines Inc.</th>\n",
       "      <td>2.140214</td>\n",
       "      <td>3.561373</td>\n",
       "      <td>1.585889</td>\n",
       "      <td>0.809079</td>\n",
       "      <td>0.450030</td>\n",
       "      <td>0.932768</td>\n",
       "      <td>1.174857</td>\n",
       "      <td>1.159282</td>\n",
       "      <td>1.569126</td>\n",
       "      <td>0.689971</td>\n",
       "      <td>0.347058</td>\n",
       "      <td>2.100410</td>\n",
       "    </tr>\n",
       "  </tbody>\n",
       "</table>\n",
       "</div>"
      ],
      "text/plain": [
       "month                             1         2         3         4         5   \\\n",
       "carrier_name                                                                   \n",
       "Hawaiian Airlines Inc.      0.492611  0.571429  0.460829  0.000000  0.000000   \n",
       "Virgin America              3.731372  4.420208  3.018088  0.423012  0.212465   \n",
       "Alaska Airlines Inc.        2.422879  2.087072  1.560575  0.172840  0.049544   \n",
       "Frontier Airlines Inc.      3.057241  2.734886  1.592752  0.450898  0.979799   \n",
       "Continental Air Lines Inc.  2.140214  3.561373  1.585889  0.809079  0.450030   \n",
       "\n",
       "month                             6         7         8         9         10  \\\n",
       "carrier_name                                                                   \n",
       "Hawaiian Airlines Inc.      0.000000  0.000000  0.000000  0.000000  1.382488   \n",
       "Virgin America              0.453601  0.433129  0.457789  0.200507  0.884958   \n",
       "Alaska Airlines Inc.        0.175187  0.527739  0.637926  0.051328  0.558811   \n",
       "Frontier Airlines Inc.      0.509795  1.030732  1.459385  0.275492  0.956008   \n",
       "Continental Air Lines Inc.  0.932768  1.174857  1.159282  1.569126  0.689971   \n",
       "\n",
       "month                             11        12  \n",
       "carrier_name                                    \n",
       "Hawaiian Airlines Inc.      0.000000  0.000000  \n",
       "Virgin America              0.713969  0.564037  \n",
       "Alaska Airlines Inc.        0.238521  0.833033  \n",
       "Frontier Airlines Inc.      0.512177  2.288166  \n",
       "Continental Air Lines Inc.  0.347058  2.100410  "
      ]
     },
     "execution_count": 108,
     "metadata": {},
     "output_type": "execute_result"
    }
   ],
   "source": [
    "cancelled.head()"
   ]
  },
  {
   "cell_type": "code",
   "execution_count": 109,
   "metadata": {},
   "outputs": [],
   "source": [
    "cancelled = cancelled.dropna()"
   ]
  },
  {
   "cell_type": "code",
   "execution_count": 110,
   "metadata": {},
   "outputs": [
    {
     "data": {
      "text/plain": [
       "([<matplotlib.axis.XTick at 0x12132ab38>,\n",
       "  <matplotlib.axis.XTick at 0x12132a0f0>,\n",
       "  <matplotlib.axis.XTick at 0x1212e35c0>,\n",
       "  <matplotlib.axis.XTick at 0x1214341d0>,\n",
       "  <matplotlib.axis.XTick at 0x121434710>,\n",
       "  <matplotlib.axis.XTick at 0x121434c88>,\n",
       "  <matplotlib.axis.XTick at 0x12143b240>,\n",
       "  <matplotlib.axis.XTick at 0x12143b7b8>,\n",
       "  <matplotlib.axis.XTick at 0x1214347f0>,\n",
       "  <matplotlib.axis.XTick at 0x1214163c8>,\n",
       "  <matplotlib.axis.XTick at 0x12143bc50>,\n",
       "  <matplotlib.axis.XTick at 0x121445208>],\n",
       " <a list of 12 Text xticklabel objects>)"
      ]
     },
     "execution_count": 110,
     "metadata": {},
     "output_type": "execute_result"
    },
    {
     "data": {
      "image/png": "[encoded data removed]",
      "text/plain": [
       "<Figure size 432x288 with 1 Axes>"
      ]
     },
     "metadata": {
      "needs_background": "light"
     },
     "output_type": "display_data"
    }
   ],
   "source": [
    "plt.pcolor(cancelled, cmap='Reds')\n",
    "\n",
    "tick_labels = cancelled.index\n",
    "tick_locations = np.arange(0.5, len(tick_labels), 1)\n",
    "plt.yticks(tick_locations, tick_labels)\n",
    "\n",
    "tick_labels = ['Jan', 'Feb', 'Mar', 'Apr', 'May', 'June', 'July', 'Aug', 'Sept', 'Oct', 'Nov', 'Dec']\n",
    "tick_locations = [0.5, 1.5, 2.5, 3.5, 4.5, 5.5, 6.5, 7.5, 8.5, 9.5, 10.5, 11.5]\n",
    "plt.xticks(tick_locations, tick_labels)"
   ]
  },
  {
   "cell_type": "markdown",
   "metadata": {},
   "source": [
    "# Weather Delays"
   ]
  },
  {
   "cell_type": "code",
   "execution_count": 141,
   "metadata": {},
   "outputs": [],
   "source": [
    "df['weather_ratio'] = (df['weather_ct'] *100) / (df['arr_flights'])"
   ]
  },
  {
   "cell_type": "code",
   "execution_count": 142,
   "metadata": {},
   "outputs": [],
   "source": [
    "weather = df.pivot_table(columns='month', index='carrier_name', values='weather_ratio')#.reset_index()"
   ]
  },
  {
   "cell_type": "code",
   "execution_count": 143,
   "metadata": {},
   "outputs": [],
   "source": [
    "weather = weather.sort_values(7)"
   ]
  },
  {
   "cell_type": "code",
   "execution_count": 144,
   "metadata": {},
   "outputs": [],
   "source": [
    "weather = weather.dropna()"
   ]
  },
  {
   "cell_type": "code",
   "execution_count": 145,
   "metadata": {},
   "outputs": [
    {
     "data": {
      "text/html": [
       "<div>\n",
       "<style scoped>\n",
       "    .dataframe tbody tr th:only-of-type {\n",
       "        vertical-align: middle;\n",
       "    }\n",
       "\n",
       "    .dataframe tbody tr th {\n",
       "        vertical-align: top;\n",
       "    }\n",
       "\n",
       "    .dataframe thead th {\n",
       "        text-align: right;\n",
       "    }\n",
       "</style>\n",
       "<table border=\"1\" class=\"dataframe\">\n",
       "  <thead>\n",
       "    <tr style=\"text-align: right;\">\n",
       "      <th>month</th>\n",
       "      <th>1</th>\n",
       "      <th>2</th>\n",
       "      <th>3</th>\n",
       "      <th>4</th>\n",
       "      <th>5</th>\n",
       "      <th>6</th>\n",
       "      <th>7</th>\n",
       "      <th>8</th>\n",
       "      <th>9</th>\n",
       "      <th>10</th>\n",
       "      <th>11</th>\n",
       "      <th>12</th>\n",
       "    </tr>\n",
       "    <tr>\n",
       "      <th>carrier_name</th>\n",
       "      <th></th>\n",
       "      <th></th>\n",
       "      <th></th>\n",
       "      <th></th>\n",
       "      <th></th>\n",
       "      <th></th>\n",
       "      <th></th>\n",
       "      <th></th>\n",
       "      <th></th>\n",
       "      <th></th>\n",
       "      <th></th>\n",
       "      <th></th>\n",
       "    </tr>\n",
       "  </thead>\n",
       "  <tbody>\n",
       "    <tr>\n",
       "      <th>PSA Airlines Inc.</th>\n",
       "      <td>0.389427</td>\n",
       "      <td>0.651688</td>\n",
       "      <td>0.140449</td>\n",
       "      <td>0.221398</td>\n",
       "      <td>0.057181</td>\n",
       "      <td>1.375796</td>\n",
       "      <td>0.000000</td>\n",
       "      <td>1.234568</td>\n",
       "      <td>0.000000</td>\n",
       "      <td>0.857143</td>\n",
       "      <td>0.988095</td>\n",
       "      <td>0.264423</td>\n",
       "    </tr>\n",
       "    <tr>\n",
       "      <th>Independence Air</th>\n",
       "      <td>0.120865</td>\n",
       "      <td>0.212766</td>\n",
       "      <td>0.053506</td>\n",
       "      <td>0.238095</td>\n",
       "      <td>0.407258</td>\n",
       "      <td>0.086864</td>\n",
       "      <td>0.024896</td>\n",
       "      <td>0.583830</td>\n",
       "      <td>0.139024</td>\n",
       "      <td>0.025000</td>\n",
       "      <td>0.235795</td>\n",
       "      <td>0.071196</td>\n",
       "    </tr>\n",
       "    <tr>\n",
       "      <th>ATA Airlines d/b/a ATA</th>\n",
       "      <td>0.321108</td>\n",
       "      <td>0.000000</td>\n",
       "      <td>0.234631</td>\n",
       "      <td>0.088406</td>\n",
       "      <td>0.132877</td>\n",
       "      <td>0.170371</td>\n",
       "      <td>0.133704</td>\n",
       "      <td>0.008671</td>\n",
       "      <td>0.006114</td>\n",
       "      <td>0.000000</td>\n",
       "      <td>0.091241</td>\n",
       "      <td>0.010830</td>\n",
       "    </tr>\n",
       "    <tr>\n",
       "      <th>AirTran Airways Corporation</th>\n",
       "      <td>0.210971</td>\n",
       "      <td>0.093682</td>\n",
       "      <td>0.300904</td>\n",
       "      <td>0.176820</td>\n",
       "      <td>0.259886</td>\n",
       "      <td>0.190749</td>\n",
       "      <td>0.268917</td>\n",
       "      <td>0.206170</td>\n",
       "      <td>0.060588</td>\n",
       "      <td>0.025407</td>\n",
       "      <td>0.021399</td>\n",
       "      <td>0.106521</td>\n",
       "    </tr>\n",
       "    <tr>\n",
       "      <th>Frontier Airlines Inc.</th>\n",
       "      <td>0.286174</td>\n",
       "      <td>0.164618</td>\n",
       "      <td>0.312558</td>\n",
       "      <td>0.192209</td>\n",
       "      <td>0.520348</td>\n",
       "      <td>0.345791</td>\n",
       "      <td>0.292665</td>\n",
       "      <td>0.390893</td>\n",
       "      <td>0.180633</td>\n",
       "      <td>0.092520</td>\n",
       "      <td>0.036185</td>\n",
       "      <td>0.450081</td>\n",
       "    </tr>\n",
       "  </tbody>\n",
       "</table>\n",
       "</div>"
      ],
      "text/plain": [
       "month                              1         2         3         4         5   \\\n",
       "carrier_name                                                                    \n",
       "PSA Airlines Inc.            0.389427  0.651688  0.140449  0.221398  0.057181   \n",
       "Independence Air             0.120865  0.212766  0.053506  0.238095  0.407258   \n",
       "ATA Airlines d/b/a ATA       0.321108  0.000000  0.234631  0.088406  0.132877   \n",
       "AirTran Airways Corporation  0.210971  0.093682  0.300904  0.176820  0.259886   \n",
       "Frontier Airlines Inc.       0.286174  0.164618  0.312558  0.192209  0.520348   \n",
       "\n",
       "month                              6         7         8         9         10  \\\n",
       "carrier_name                                                                    \n",
       "PSA Airlines Inc.            1.375796  0.000000  1.234568  0.000000  0.857143   \n",
       "Independence Air             0.086864  0.024896  0.583830  0.139024  0.025000   \n",
       "ATA Airlines d/b/a ATA       0.170371  0.133704  0.008671  0.006114  0.000000   \n",
       "AirTran Airways Corporation  0.190749  0.268917  0.206170  0.060588  0.025407   \n",
       "Frontier Airlines Inc.       0.345791  0.292665  0.390893  0.180633  0.092520   \n",
       "\n",
       "month                              11        12  \n",
       "carrier_name                                     \n",
       "PSA Airlines Inc.            0.988095  0.264423  \n",
       "Independence Air             0.235795  0.071196  \n",
       "ATA Airlines d/b/a ATA       0.091241  0.010830  \n",
       "AirTran Airways Corporation  0.021399  0.106521  \n",
       "Frontier Airlines Inc.       0.036185  0.450081  "
      ]
     },
     "execution_count": 145,
     "metadata": {},
     "output_type": "execute_result"
    }
   ],
   "source": [
    "weather.head()"
   ]
  },
  {
   "cell_type": "code",
   "execution_count": 146,
   "metadata": {},
   "outputs": [
    {
     "data": {
      "text/plain": [
       "([<matplotlib.axis.XTick at 0x121b68dd8>,\n",
       "  <matplotlib.axis.XTick at 0x121b682b0>,\n",
       "  <matplotlib.axis.XTick at 0x12198f7f0>,\n",
       "  <matplotlib.axis.XTick at 0x121bf7470>,\n",
       "  <matplotlib.axis.XTick at 0x121bf79b0>,\n",
       "  <matplotlib.axis.XTick at 0x121bf7f28>,\n",
       "  <matplotlib.axis.XTick at 0x121bfe4e0>,\n",
       "  <matplotlib.axis.XTick at 0x121bfea58>,\n",
       "  <matplotlib.axis.XTick at 0x121bf7908>,\n",
       "  <matplotlib.axis.XTick at 0x121be3358>,\n",
       "  <matplotlib.axis.XTick at 0x121bfeef0>,\n",
       "  <matplotlib.axis.XTick at 0x121c074a8>],\n",
       " <a list of 12 Text xticklabel objects>)"
      ]
     },
     "execution_count": 146,
     "metadata": {},
     "output_type": "execute_result"
    },
    {
     "data": {
      "image/png": "[encoded data removed]",
      "text/plain": [
       "<Figure size 432x288 with 1 Axes>"
      ]
     },
     "metadata": {
      "needs_background": "light"
     },
     "output_type": "display_data"
    }
   ],
   "source": [
    "plt.pcolor(weather, cmap='Blues')\n",
    "\n",
    "tick_labels = weather.index\n",
    "tick_locations = np.arange(0.5, len(tick_labels), 1)\n",
    "plt.yticks(tick_locations, tick_labels)\n",
    "\n",
    "tick_labels = ['Jan', 'Feb', 'Mar', 'Apr', 'May', 'June', 'July', 'Aug', 'Sept', 'Oct', 'Nov', 'Dec']\n",
    "tick_locations = [0.5, 1.5, 2.5, 3.5, 4.5, 5.5, 6.5, 7.5, 8.5, 9.5, 10.5, 11.5]\n",
    "plt.xticks(tick_locations, tick_labels)"
   ]
  },
  {
   "cell_type": "markdown",
   "metadata": {},
   "source": [
    "# Diverted Fligths"
   ]
  },
  {
   "cell_type": "code",
   "execution_count": 147,
   "metadata": {},
   "outputs": [],
   "source": [
    "df['diverted_ratio'] = (df['arr_diverted'] *100) / (df['arr_flights'])"
   ]
  },
  {
   "cell_type": "code",
   "execution_count": 148,
   "metadata": {},
   "outputs": [],
   "source": [
    "diverted = df.pivot_table(columns='month', index='carrier_name', values='diverted_ratio')#.reset_index()"
   ]
  },
  {
   "cell_type": "code",
   "execution_count": 149,
   "metadata": {},
   "outputs": [],
   "source": [
    "diverted = diverted.sort_values(7)"
   ]
  },
  {
   "cell_type": "code",
   "execution_count": 150,
   "metadata": {},
   "outputs": [],
   "source": [
    "diverted = diverted.dropna()"
   ]
  },
  {
   "cell_type": "code",
   "execution_count": 151,
   "metadata": {},
   "outputs": [
    {
     "data": {
      "text/plain": [
       "([<matplotlib.axis.XTick at 0x121c3bd30>,\n",
       "  <matplotlib.axis.XTick at 0x121ab8780>,\n",
       "  <matplotlib.axis.XTick at 0x121c3b630>,\n",
       "  <matplotlib.axis.XTick at 0x121e2a5c0>,\n",
       "  <matplotlib.axis.XTick at 0x121e2ab00>,\n",
       "  <matplotlib.axis.XTick at 0x121e2e128>,\n",
       "  <matplotlib.axis.XTick at 0x121e2e630>,\n",
       "  <matplotlib.axis.XTick at 0x121e2eba8>,\n",
       "  <matplotlib.axis.XTick at 0x121e2a908>,\n",
       "  <matplotlib.axis.XTick at 0x121e129e8>,\n",
       "  <matplotlib.axis.XTick at 0x121e370f0>,\n",
       "  <matplotlib.axis.XTick at 0x121e375f8>],\n",
       " <a list of 12 Text xticklabel objects>)"
      ]
     },
     "execution_count": 151,
     "metadata": {},
     "output_type": "execute_result"
    },
    {
     "data": {
      "image/png": "[encoded data removed]",
      "text/plain": [
       "<Figure size 432x288 with 1 Axes>"
      ]
     },
     "metadata": {
      "needs_background": "light"
     },
     "output_type": "display_data"
    }
   ],
   "source": [
    "plt.pcolor(diverted, cmap='Reds')\n",
    "\n",
    "tick_labels = diverted.index\n",
    "tick_locations = np.arange(0.5, len(tick_labels), 1)\n",
    "plt.yticks(tick_locations, tick_labels)\n",
    "\n",
    "tick_labels = ['Jan', 'Feb', 'Mar', 'Apr', 'May', 'June', 'July', 'Aug', 'Sept', 'Oct', 'Nov', 'Dec']\n",
    "tick_locations = [0.5, 1.5, 2.5, 3.5, 4.5, 5.5, 6.5, 7.5, 8.5, 9.5, 10.5, 11.5]\n",
    "plt.xticks(tick_locations, tick_labels)"
   ]
  },
  {
   "cell_type": "markdown",
   "metadata": {},
   "source": [
    "# Longest Carrier Delays"
   ]
  },
  {
   "cell_type": "code",
   "execution_count": null,
   "metadata": {},
   "outputs": [],
   "source": []
  },
  {
   "cell_type": "code",
   "execution_count": 152,
   "metadata": {},
   "outputs": [],
   "source": [
    "carrier_delay = df.pivot_table(columns='month', index='carrier_name', values='carrier_delay')#.reset_index()"
   ]
  },
  {
   "cell_type": "code",
   "execution_count": 153,
   "metadata": {},
   "outputs": [],
   "source": [
    "carrier_delay = carrier_delay.sort_values(7)"
   ]
  },
  {
   "cell_type": "code",
   "execution_count": 154,
   "metadata": {},
   "outputs": [],
   "source": [
    "carrier_delay = carrier_delay.dropna()"
   ]
  },
  {
   "cell_type": "code",
   "execution_count": 155,
   "metadata": {
    "scrolled": true
   },
   "outputs": [
    {
     "data": {
      "text/plain": [
       "([<matplotlib.axis.XTick at 0x121e71cf8>,\n",
       "  <matplotlib.axis.XTick at 0x121e71748>,\n",
       "  <matplotlib.axis.XTick at 0x121e71470>,\n",
       "  <matplotlib.axis.XTick at 0x121f06438>,\n",
       "  <matplotlib.axis.XTick at 0x121f06978>,\n",
       "  <matplotlib.axis.XTick at 0x121f06ef0>,\n",
       "  <matplotlib.axis.XTick at 0x121f0c4a8>,\n",
       "  <matplotlib.axis.XTick at 0x121f0ca20>,\n",
       "  <matplotlib.axis.XTick at 0x121f0ce80>,\n",
       "  <matplotlib.axis.XTick at 0x121f06a58>,\n",
       "  <matplotlib.axis.XTick at 0x121eef2b0>,\n",
       "  <matplotlib.axis.XTick at 0x121f134e0>],\n",
       " <a list of 12 Text xticklabel objects>)"
      ]
     },
     "execution_count": 155,
     "metadata": {},
     "output_type": "execute_result"
    },
    {
     "data": {
      "image/png": "[encoded data removed]",
      "text/plain": [
       "<Figure size 432x288 with 1 Axes>"
      ]
     },
     "metadata": {
      "needs_background": "light"
     },
     "output_type": "display_data"
    }
   ],
   "source": [
    "plt.pcolor(carrier_delay, cmap='Reds')\n",
    "\n",
    "tick_labels = carrier_delay.index\n",
    "tick_locations = np.arange(0.5, len(tick_labels), 1)\n",
    "plt.yticks(tick_locations, tick_labels)\n",
    "\n",
    "tick_labels = ['Jan', 'Feb', 'Mar', 'Apr', 'May', 'June', 'July', 'Aug', 'Sept', 'Oct', 'Nov', 'Dec']\n",
    "tick_locations = [0.5, 1.5, 2.5, 3.5, 4.5, 5.5, 6.5, 7.5, 8.5, 9.5, 10.5, 11.5]\n",
    "plt.xticks(tick_locations, tick_labels)"
   ]
  },
  {
   "cell_type": "code",
   "execution_count": 41,
   "metadata": {},
   "outputs": [
    {
     "data": {
      "text/html": [
       "<div>\n",
       "<style scoped>\n",
       "    .dataframe tbody tr th:only-of-type {\n",
       "        vertical-align: middle;\n",
       "    }\n",
       "\n",
       "    .dataframe tbody tr th {\n",
       "        vertical-align: top;\n",
       "    }\n",
       "\n",
       "    .dataframe thead th {\n",
       "        text-align: right;\n",
       "    }\n",
       "</style>\n",
       "<table border=\"1\" class=\"dataframe\">\n",
       "  <thead>\n",
       "    <tr style=\"text-align: right;\">\n",
       "      <th></th>\n",
       "      <th>year</th>\n",
       "      <th>month</th>\n",
       "      <th>carrier_name</th>\n",
       "      <th>airport</th>\n",
       "      <th>airport_name</th>\n",
       "      <th>arr_flights</th>\n",
       "      <th>arr_del15</th>\n",
       "      <th>carrier_ct</th>\n",
       "      <th>weather_ct</th>\n",
       "      <th>nas_ct</th>\n",
       "      <th>security_ct</th>\n",
       "      <th>late_aircraft_ct</th>\n",
       "      <th>arr_cancelled</th>\n",
       "      <th>arr_diverted</th>\n",
       "      <th>arr_delay</th>\n",
       "      <th>carrier_delay</th>\n",
       "      <th>weather_delay</th>\n",
       "      <th>nas_delay</th>\n",
       "      <th>security_delay</th>\n",
       "      <th>late_aircraft_delay</th>\n",
       "    </tr>\n",
       "  </thead>\n",
       "  <tbody>\n",
       "    <tr>\n",
       "      <th>0</th>\n",
       "      <td>2004</td>\n",
       "      <td>5</td>\n",
       "      <td>American Airlines Inc.</td>\n",
       "      <td>JFK</td>\n",
       "      <td>New York, NY: John F. Kennedy International</td>\n",
       "      <td>1296.0</td>\n",
       "      <td>277.0</td>\n",
       "      <td>66.43</td>\n",
       "      <td>4.00</td>\n",
       "      <td>166.35</td>\n",
       "      <td>0.23</td>\n",
       "      <td>39.98</td>\n",
       "      <td>1.0</td>\n",
       "      <td>6.0</td>\n",
       "      <td>13201.0</td>\n",
       "      <td>4795.0</td>\n",
       "      <td>409.0</td>\n",
       "      <td>5761.0</td>\n",
       "      <td>8.0</td>\n",
       "      <td>2228.0</td>\n",
       "    </tr>\n",
       "    <tr>\n",
       "      <th>1</th>\n",
       "      <td>2004</td>\n",
       "      <td>5</td>\n",
       "      <td>JetBlue Airways</td>\n",
       "      <td>JFK</td>\n",
       "      <td>New York, NY: John F. Kennedy International</td>\n",
       "      <td>2684.0</td>\n",
       "      <td>461.0</td>\n",
       "      <td>70.67</td>\n",
       "      <td>1.32</td>\n",
       "      <td>189.79</td>\n",
       "      <td>12.11</td>\n",
       "      <td>187.11</td>\n",
       "      <td>1.0</td>\n",
       "      <td>8.0</td>\n",
       "      <td>20322.0</td>\n",
       "      <td>3605.0</td>\n",
       "      <td>36.0</td>\n",
       "      <td>6773.0</td>\n",
       "      <td>449.0</td>\n",
       "      <td>9459.0</td>\n",
       "    </tr>\n",
       "    <tr>\n",
       "      <th>2</th>\n",
       "      <td>2004</td>\n",
       "      <td>5</td>\n",
       "      <td>Continental Air Lines Inc.</td>\n",
       "      <td>JFK</td>\n",
       "      <td>New York, NY: John F. Kennedy International</td>\n",
       "      <td>31.0</td>\n",
       "      <td>5.0</td>\n",
       "      <td>0.72</td>\n",
       "      <td>1.00</td>\n",
       "      <td>3.28</td>\n",
       "      <td>0.00</td>\n",
       "      <td>0.00</td>\n",
       "      <td>0.0</td>\n",
       "      <td>0.0</td>\n",
       "      <td>278.0</td>\n",
       "      <td>86.0</td>\n",
       "      <td>73.0</td>\n",
       "      <td>119.0</td>\n",
       "      <td>0.0</td>\n",
       "      <td>0.0</td>\n",
       "    </tr>\n",
       "    <tr>\n",
       "      <th>3</th>\n",
       "      <td>2004</td>\n",
       "      <td>5</td>\n",
       "      <td>Atlantic Coast Airlines</td>\n",
       "      <td>JFK</td>\n",
       "      <td>New York, NY: John F. Kennedy International</td>\n",
       "      <td>445.0</td>\n",
       "      <td>96.0</td>\n",
       "      <td>30.73</td>\n",
       "      <td>3.40</td>\n",
       "      <td>24.62</td>\n",
       "      <td>0.00</td>\n",
       "      <td>37.25</td>\n",
       "      <td>8.0</td>\n",
       "      <td>2.0</td>\n",
       "      <td>7433.0</td>\n",
       "      <td>1986.0</td>\n",
       "      <td>471.0</td>\n",
       "      <td>1728.0</td>\n",
       "      <td>0.0</td>\n",
       "      <td>3248.0</td>\n",
       "    </tr>\n",
       "    <tr>\n",
       "      <th>4</th>\n",
       "      <td>2004</td>\n",
       "      <td>5</td>\n",
       "      <td>Delta Air Lines Inc.</td>\n",
       "      <td>JFK</td>\n",
       "      <td>New York, NY: John F. Kennedy International</td>\n",
       "      <td>1175.0</td>\n",
       "      <td>317.0</td>\n",
       "      <td>51.60</td>\n",
       "      <td>1.93</td>\n",
       "      <td>227.31</td>\n",
       "      <td>0.85</td>\n",
       "      <td>35.31</td>\n",
       "      <td>3.0</td>\n",
       "      <td>2.0</td>\n",
       "      <td>13689.0</td>\n",
       "      <td>3113.0</td>\n",
       "      <td>57.0</td>\n",
       "      <td>8289.0</td>\n",
       "      <td>28.0</td>\n",
       "      <td>2202.0</td>\n",
       "    </tr>\n",
       "  </tbody>\n",
       "</table>\n",
       "</div>"
      ],
      "text/plain": [
       "   year  month                carrier_name airport  \\\n",
       "0  2004      5      American Airlines Inc.     JFK   \n",
       "1  2004      5             JetBlue Airways     JFK   \n",
       "2  2004      5  Continental Air Lines Inc.     JFK   \n",
       "3  2004      5     Atlantic Coast Airlines     JFK   \n",
       "4  2004      5        Delta Air Lines Inc.     JFK   \n",
       "\n",
       "                                  airport_name  arr_flights  arr_del15  \\\n",
       "0  New York, NY: John F. Kennedy International       1296.0      277.0   \n",
       "1  New York, NY: John F. Kennedy International       2684.0      461.0   \n",
       "2  New York, NY: John F. Kennedy International         31.0        5.0   \n",
       "3  New York, NY: John F. Kennedy International        445.0       96.0   \n",
       "4  New York, NY: John F. Kennedy International       1175.0      317.0   \n",
       "\n",
       "   carrier_ct  weather_ct  nas_ct  security_ct  late_aircraft_ct  \\\n",
       "0       66.43        4.00  166.35         0.23             39.98   \n",
       "1       70.67        1.32  189.79        12.11            187.11   \n",
       "2        0.72        1.00    3.28         0.00              0.00   \n",
       "3       30.73        3.40   24.62         0.00             37.25   \n",
       "4       51.60        1.93  227.31         0.85             35.31   \n",
       "\n",
       "   arr_cancelled  arr_diverted  arr_delay  carrier_delay  weather_delay  \\\n",
       "0            1.0           6.0    13201.0         4795.0          409.0   \n",
       "1            1.0           8.0    20322.0         3605.0           36.0   \n",
       "2            0.0           0.0      278.0           86.0           73.0   \n",
       "3            8.0           2.0     7433.0         1986.0          471.0   \n",
       "4            3.0           2.0    13689.0         3113.0           57.0   \n",
       "\n",
       "   nas_delay  security_delay  late_aircraft_delay  \n",
       "0     5761.0             8.0               2228.0  \n",
       "1     6773.0           449.0               9459.0  \n",
       "2      119.0             0.0                  0.0  \n",
       "3     1728.0             0.0               3248.0  \n",
       "4     8289.0            28.0               2202.0  "
      ]
     },
     "execution_count": 41,
     "metadata": {},
     "output_type": "execute_result"
    }
   ],
   "source": [
    "df.head()"
   ]
  },
  {
   "cell_type": "markdown",
   "metadata": {},
   "source": [
    "# Cancelled Flights 2018, LaGuardia"
   ]
  },
  {
   "cell_type": "code",
   "execution_count": 156,
   "metadata": {},
   "outputs": [],
   "source": [
    "lga2018 = df[(df.airport == 'LGA') & (df.year == 2018)]"
   ]
  },
  {
   "cell_type": "code",
   "execution_count": 160,
   "metadata": {},
   "outputs": [
    {
     "name": "stderr",
     "output_type": "stream",
     "text": [
      "/Users/elenamlutz/.pyenv/versions/3.7.1/lib/python3.7/site-packages/ipykernel_launcher.py:1: SettingWithCopyWarning: \n",
      "A value is trying to be set on a copy of a slice from a DataFrame.\n",
      "Try using .loc[row_indexer,col_indexer] = value instead\n",
      "\n",
      "See the caveats in the documentation: http://pandas.pydata.org/pandas-docs/stable/indexing.html#indexing-view-versus-copy\n",
      "  \"\"\"Entry point for launching an IPython kernel.\n"
     ]
    }
   ],
   "source": [
    "lga2018['cancelled_lgaratio'] = (lga2018['arr_cancelled'] *100) / (lga2018['arr_flights'])"
   ]
  },
  {
   "cell_type": "code",
   "execution_count": 161,
   "metadata": {},
   "outputs": [],
   "source": [
    "cancelledlga = lga2018.pivot_table(columns='month', index='carrier_name', values='cancelled_lgaratio')#.reset_index()"
   ]
  },
  {
   "cell_type": "code",
   "execution_count": 162,
   "metadata": {},
   "outputs": [],
   "source": [
    "cancelled_lga = cancelledlga.sort_values(7)"
   ]
  },
  {
   "cell_type": "code",
   "execution_count": 163,
   "metadata": {},
   "outputs": [
    {
     "data": {
      "text/plain": [
       "([<matplotlib.axis.XTick at 0x121e66cf8>,\n",
       "  <matplotlib.axis.XTick at 0x121e66630>,\n",
       "  <matplotlib.axis.XTick at 0x121e664e0>,\n",
       "  <matplotlib.axis.XTick at 0x122012e80>,\n",
       "  <matplotlib.axis.XTick at 0x122012438>,\n",
       "  <matplotlib.axis.XTick at 0x12200b470>,\n",
       "  <matplotlib.axis.XTick at 0x12201b128>,\n",
       "  <matplotlib.axis.XTick at 0x12201bb00>,\n",
       "  <matplotlib.axis.XTick at 0x122020128>,\n",
       "  <matplotlib.axis.XTick at 0x122020630>,\n",
       "  <matplotlib.axis.XTick at 0x122020ba8>,\n",
       "  <matplotlib.axis.XTick at 0x122029198>],\n",
       " <a list of 12 Text xticklabel objects>)"
      ]
     },
     "execution_count": 163,
     "metadata": {},
     "output_type": "execute_result"
    },
    {
     "data": {
      "image/png": "[encoded data removed]",
      "text/plain": [
       "<Figure size 432x288 with 1 Axes>"
      ]
     },
     "metadata": {
      "needs_background": "light"
     },
     "output_type": "display_data"
    }
   ],
   "source": [
    "plt.pcolor(cancelled_lga, cmap='Reds')\n",
    "\n",
    "tick_labels = cancelled_lga.index\n",
    "tick_locations = np.arange(0.5, len(tick_labels), 1)\n",
    "plt.yticks(tick_locations, tick_labels)\n",
    "\n",
    "tick_labels = ['Jan', 'Feb', 'Mar', 'Apr', 'May', 'June', 'July', 'Aug', 'Sept', 'Oct', 'Nov', 'Dec']\n",
    "tick_locations = [0.5, 1.5, 2.5, 3.5, 4.5, 5.5, 6.5, 7.5, 8.5, 9.5, 10.5, 11.5]\n",
    "plt.xticks(tick_locations, tick_labels)"
   ]
  },
  {
   "cell_type": "markdown",
   "metadata": {},
   "source": [
    "# Weather Delays 2018, LaGuardia"
   ]
  },
  {
   "cell_type": "code",
   "execution_count": 190,
   "metadata": {},
   "outputs": [
    {
     "name": "stderr",
     "output_type": "stream",
     "text": [
      "/Users/elenamlutz/.pyenv/versions/3.7.1/lib/python3.7/site-packages/ipykernel_launcher.py:1: SettingWithCopyWarning: \n",
      "A value is trying to be set on a copy of a slice from a DataFrame.\n",
      "Try using .loc[row_indexer,col_indexer] = value instead\n",
      "\n",
      "See the caveats in the documentation: http://pandas.pydata.org/pandas-docs/stable/indexing.html#indexing-view-versus-copy\n",
      "  \"\"\"Entry point for launching an IPython kernel.\n"
     ]
    }
   ],
   "source": [
    "lga2018['lga_weatherratio'] = (lga2018['weather_ct'] *100) / (lga2018['arr_flights'])"
   ]
  },
  {
   "cell_type": "code",
   "execution_count": 191,
   "metadata": {},
   "outputs": [],
   "source": [
    "weatherlga = lga2018.pivot_table(columns='month', index='carrier_name', values='lga_weatherratio')#.reset_index()"
   ]
  },
  {
   "cell_type": "code",
   "execution_count": 192,
   "metadata": {},
   "outputs": [],
   "source": [
    "weatherlga = weatherlga.sort_values(7)"
   ]
  },
  {
   "cell_type": "code",
   "execution_count": 232,
   "metadata": {},
   "outputs": [
    {
     "data": {
      "text/plain": [
       "([<matplotlib.axis.XTick at 0x1235cd2b0>,\n",
       "  <matplotlib.axis.XTick at 0x12354ec50>,\n",
       "  <matplotlib.axis.XTick at 0x12354e940>,\n",
       "  <matplotlib.axis.XTick at 0x1236251d0>,\n",
       "  <matplotlib.axis.XTick at 0x123625710>,\n",
       "  <matplotlib.axis.XTick at 0x123625c88>,\n",
       "  <matplotlib.axis.XTick at 0x12362d240>,\n",
       "  <matplotlib.axis.XTick at 0x12362d7b8>,\n",
       "  <matplotlib.axis.XTick at 0x12362dd30>,\n",
       "  <matplotlib.axis.XTick at 0x12362d5c0>,\n",
       "  <matplotlib.axis.XTick at 0x1236257f0>,\n",
       "  <matplotlib.axis.XTick at 0x1236352e8>],\n",
       " <a list of 12 Text xticklabel objects>)"
      ]
     },
     "execution_count": 232,
     "metadata": {},
     "output_type": "execute_result"
    },
    {
     "data": {
      "image/png": "[encoded data removed]",
      "text/plain": [
       "<Figure size 432x288 with 1 Axes>"
      ]
     },
     "metadata": {
      "needs_background": "light"
     },
     "output_type": "display_data"
    }
   ],
   "source": [
    "plt.pcolor(weatherlga, cmap='Blues')\n",
    "\n",
    "tick_labels = weatherlga.index\n",
    "tick_locations = np.arange(0.5, len(tick_labels), 1)\n",
    "plt.yticks(tick_locations, tick_labels)\n",
    "\n",
    "tick_labels = ['Jan', 'Feb', 'Mar', 'Apr', 'May', 'June', 'July', 'Aug', 'Sept', 'Oct', 'Nov', 'Dec']\n",
    "tick_locations = [0.5, 1.5, 2.5, 3.5, 4.5, 5.5, 6.5, 7.5, 8.5, 9.5, 10.5, 11.5]\n",
    "plt.xticks(tick_locations, tick_labels)"
   ]
  },
  {
   "cell_type": "code",
   "execution_count": 194,
   "metadata": {},
   "outputs": [],
   "source": [
    "lga = df[(df.airport == 'LGA')]"
   ]
  },
  {
   "cell_type": "code",
   "execution_count": 226,
   "metadata": {},
   "outputs": [
    {
     "name": "stderr",
     "output_type": "stream",
     "text": [
      "/Users/elenamlutz/.pyenv/versions/3.7.1/lib/python3.7/site-packages/ipykernel_launcher.py:1: SettingWithCopyWarning: \n",
      "A value is trying to be set on a copy of a slice from a DataFrame.\n",
      "Try using .loc[row_indexer,col_indexer] = value instead\n",
      "\n",
      "See the caveats in the documentation: http://pandas.pydata.org/pandas-docs/stable/indexing.html#indexing-view-versus-copy\n",
      "  \"\"\"Entry point for launching an IPython kernel.\n"
     ]
    }
   ],
   "source": [
    "lga['lga_ratioalltime'] = (lga['arr_diverted'] *100) / (lga['arr_flights'])"
   ]
  },
  {
   "cell_type": "code",
   "execution_count": 227,
   "metadata": {},
   "outputs": [],
   "source": [
    "divertedlga_alltime = lga.pivot_table(columns='month', index='carrier_name', values='lga_ratioalltime')#.reset_index()"
   ]
  },
  {
   "cell_type": "code",
   "execution_count": 228,
   "metadata": {},
   "outputs": [],
   "source": [
    "divertedlga_alltime = weatherlga_alltime.sort_values(7)"
   ]
  },
  {
   "cell_type": "code",
   "execution_count": 230,
   "metadata": {},
   "outputs": [],
   "source": [
    "divertedlga_alltime = weatherlga_alltime.dropna()"
   ]
  },
  {
   "cell_type": "code",
   "execution_count": 231,
   "metadata": {},
   "outputs": [
    {
     "data": {
      "text/plain": [
       "([<matplotlib.axis.XTick at 0x123417b38>,\n",
       "  <matplotlib.axis.XTick at 0x123417470>,\n",
       "  <matplotlib.axis.XTick at 0x123417358>,\n",
       "  <matplotlib.axis.XTick at 0x1235154a8>,\n",
       "  <matplotlib.axis.XTick at 0x1235159e8>,\n",
       "  <matplotlib.axis.XTick at 0x123515f60>,\n",
       "  <matplotlib.axis.XTick at 0x1235159b0>,\n",
       "  <matplotlib.axis.XTick at 0x123506ef0>,\n",
       "  <matplotlib.axis.XTick at 0x12351b438>,\n",
       "  <matplotlib.axis.XTick at 0x12351b9b0>,\n",
       "  <matplotlib.axis.XTick at 0x12351bf28>,\n",
       "  <matplotlib.axis.XTick at 0x1235244e0>],\n",
       " <a list of 12 Text xticklabel objects>)"
      ]
     },
     "execution_count": 231,
     "metadata": {},
     "output_type": "execute_result"
    },
    {
     "data": {
      "image/png": "[encoded data removed]",
      "text/plain": [
       "<Figure size 432x288 with 1 Axes>"
      ]
     },
     "metadata": {
      "needs_background": "light"
     },
     "output_type": "display_data"
    }
   ],
   "source": [
    "plt.pcolor(divertedlga_alltime, cmap='Reds')\n",
    "\n",
    "tick_labels = weatherlga_alltime.index\n",
    "tick_locations = np.arange(0.5, len(tick_labels), 1)\n",
    "plt.yticks(tick_locations, tick_labels)\n",
    "\n",
    "tick_labels = ['Jan', 'Feb', 'Mar', 'Apr', 'May', 'June', 'July', 'Aug', 'Sept', 'Oct', 'Nov', 'Dec']\n",
    "tick_locations = [0.5, 1.5, 2.5, 3.5, 4.5, 5.5, 6.5, 7.5, 8.5, 9.5, 10.5, 11.5]\n",
    "plt.xticks(tick_locations, tick_labels)"
   ]
  },
  {
   "cell_type": "code",
   "execution_count": null,
   "metadata": {},
   "outputs": [],
   "source": []
  },
  {
   "cell_type": "code",
   "execution_count": null,
   "metadata": {},
   "outputs": [],
   "source": []
  }
 ],
 "metadata": {
  "kernelspec": {
   "display_name": "Python 3",
   "language": "python",
   "name": "python3"
  },
  "language_info": {
   "codemirror_mode": {
    "name": "ipython",
    "version": 3
   },
   "file_extension": ".py",
   "mimetype": "text/x-python",
   "name": "python",
   "nbconvert_exporter": "python",
   "pygments_lexer": "ipython3",
   "version": "3.7.1"
  }
 },
 "nbformat": 4,
 "nbformat_minor": 2
}
