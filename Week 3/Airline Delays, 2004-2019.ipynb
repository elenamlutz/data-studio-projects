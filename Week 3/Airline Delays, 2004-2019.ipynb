{
 "cells": [
  {
   "cell_type": "code",
   "execution_count": 9,
   "metadata": {},
   "outputs": [],
   "source": [
    "import pandas as pd\n",
    "import requests\n",
    "import re\n",
    "from bs4 import BeautifulSoup\n",
    "import numpy as np\n",
    "import matplotlib\n",
    "import matplotlib.pyplot as plt\n",
    "import seaborn as sns\n",
    "import altair as alt\n",
    "alt.data_transformers.disable_max_rows()\n",
    "matplotlib.rcParams['pdf.fonttype'] = 42\n",
    "\n",
    "%matplotlib inline"
   ]
  },
  {
   "cell_type": "code",
   "execution_count": 10,
   "metadata": {},
   "outputs": [
    {
     "name": "stdout",
     "output_type": "stream",
     "text": [
      "Airline Delays, 2004-2019.ipynb complaints.xlsx\r\n",
      "airline_delay_causes.csv\r\n"
     ]
    }
   ],
   "source": [
    "!ls"
   ]
  },
  {
   "cell_type": "code",
   "execution_count": 11,
   "metadata": {},
   "outputs": [],
   "source": [
    "df = pd.read_csv(\"airline_delay_causes.csv\")"
   ]
  },
  {
   "cell_type": "code",
   "execution_count": 12,
   "metadata": {},
   "outputs": [],
   "source": [
    "#Worst airlines\n",
    "#Worst airports\n",
    "#Delays by cause\n",
    "#Minutes of delays\n",
    "#Worst years\n",
    "#Climate change impact\n",
    "#Worst months to fly into and out of NYC\n",
    "#Most likely reasons of delays"
   ]
  },
  {
   "cell_type": "code",
   "execution_count": 13,
   "metadata": {},
   "outputs": [
    {
     "data": {
      "text/html": [
       "<div>\n",
       "<style scoped>\n",
       "    .dataframe tbody tr th:only-of-type {\n",
       "        vertical-align: middle;\n",
       "    }\n",
       "\n",
       "    .dataframe tbody tr th {\n",
       "        vertical-align: top;\n",
       "    }\n",
       "\n",
       "    .dataframe thead th {\n",
       "        text-align: right;\n",
       "    }\n",
       "</style>\n",
       "<table border=\"1\" class=\"dataframe\">\n",
       "  <thead>\n",
       "    <tr style=\"text-align: right;\">\n",
       "      <th></th>\n",
       "      <th>year</th>\n",
       "      <th>month</th>\n",
       "      <th>carrier</th>\n",
       "      <th>carrier_name</th>\n",
       "      <th>airport</th>\n",
       "      <th>airport_name</th>\n",
       "      <th>arr_flights</th>\n",
       "      <th>arr_del15</th>\n",
       "      <th>carrier_ct</th>\n",
       "      <th>weather_ct</th>\n",
       "      <th>...</th>\n",
       "      <th>security_ct</th>\n",
       "      <th>late_aircraft_ct</th>\n",
       "      <th>arr_cancelled</th>\n",
       "      <th>arr_diverted</th>\n",
       "      <th>arr_delay</th>\n",
       "      <th>carrier_delay</th>\n",
       "      <th>weather_delay</th>\n",
       "      <th>nas_delay</th>\n",
       "      <th>security_delay</th>\n",
       "      <th>late_aircraft_delay</th>\n",
       "    </tr>\n",
       "  </thead>\n",
       "  <tbody>\n",
       "    <tr>\n",
       "      <th>0</th>\n",
       "      <td>2004</td>\n",
       "      <td>5</td>\n",
       "      <td>AA</td>\n",
       "      <td>American Airlines Inc.</td>\n",
       "      <td>JFK</td>\n",
       "      <td>New York, NY: John F. Kennedy International</td>\n",
       "      <td>1296.0</td>\n",
       "      <td>277.0</td>\n",
       "      <td>66.43</td>\n",
       "      <td>4.00</td>\n",
       "      <td>...</td>\n",
       "      <td>0.23</td>\n",
       "      <td>39.98</td>\n",
       "      <td>1.0</td>\n",
       "      <td>6.0</td>\n",
       "      <td>13201.0</td>\n",
       "      <td>4795.0</td>\n",
       "      <td>409.0</td>\n",
       "      <td>5761.0</td>\n",
       "      <td>8.0</td>\n",
       "      <td>2228.0</td>\n",
       "    </tr>\n",
       "    <tr>\n",
       "      <th>1</th>\n",
       "      <td>2004</td>\n",
       "      <td>5</td>\n",
       "      <td>B6</td>\n",
       "      <td>JetBlue Airways</td>\n",
       "      <td>JFK</td>\n",
       "      <td>New York, NY: John F. Kennedy International</td>\n",
       "      <td>2684.0</td>\n",
       "      <td>461.0</td>\n",
       "      <td>70.67</td>\n",
       "      <td>1.32</td>\n",
       "      <td>...</td>\n",
       "      <td>12.11</td>\n",
       "      <td>187.11</td>\n",
       "      <td>1.0</td>\n",
       "      <td>8.0</td>\n",
       "      <td>20322.0</td>\n",
       "      <td>3605.0</td>\n",
       "      <td>36.0</td>\n",
       "      <td>6773.0</td>\n",
       "      <td>449.0</td>\n",
       "      <td>9459.0</td>\n",
       "    </tr>\n",
       "    <tr>\n",
       "      <th>2</th>\n",
       "      <td>2004</td>\n",
       "      <td>5</td>\n",
       "      <td>CO</td>\n",
       "      <td>Continental Air Lines Inc.</td>\n",
       "      <td>JFK</td>\n",
       "      <td>New York, NY: John F. Kennedy International</td>\n",
       "      <td>31.0</td>\n",
       "      <td>5.0</td>\n",
       "      <td>0.72</td>\n",
       "      <td>1.00</td>\n",
       "      <td>...</td>\n",
       "      <td>0.00</td>\n",
       "      <td>0.00</td>\n",
       "      <td>0.0</td>\n",
       "      <td>0.0</td>\n",
       "      <td>278.0</td>\n",
       "      <td>86.0</td>\n",
       "      <td>73.0</td>\n",
       "      <td>119.0</td>\n",
       "      <td>0.0</td>\n",
       "      <td>0.0</td>\n",
       "    </tr>\n",
       "    <tr>\n",
       "      <th>3</th>\n",
       "      <td>2004</td>\n",
       "      <td>5</td>\n",
       "      <td>DH</td>\n",
       "      <td>Atlantic Coast Airlines</td>\n",
       "      <td>JFK</td>\n",
       "      <td>New York, NY: John F. Kennedy International</td>\n",
       "      <td>445.0</td>\n",
       "      <td>96.0</td>\n",
       "      <td>30.73</td>\n",
       "      <td>3.40</td>\n",
       "      <td>...</td>\n",
       "      <td>0.00</td>\n",
       "      <td>37.25</td>\n",
       "      <td>8.0</td>\n",
       "      <td>2.0</td>\n",
       "      <td>7433.0</td>\n",
       "      <td>1986.0</td>\n",
       "      <td>471.0</td>\n",
       "      <td>1728.0</td>\n",
       "      <td>0.0</td>\n",
       "      <td>3248.0</td>\n",
       "    </tr>\n",
       "    <tr>\n",
       "      <th>4</th>\n",
       "      <td>2004</td>\n",
       "      <td>5</td>\n",
       "      <td>DL</td>\n",
       "      <td>Delta Air Lines Inc.</td>\n",
       "      <td>JFK</td>\n",
       "      <td>New York, NY: John F. Kennedy International</td>\n",
       "      <td>1175.0</td>\n",
       "      <td>317.0</td>\n",
       "      <td>51.60</td>\n",
       "      <td>1.93</td>\n",
       "      <td>...</td>\n",
       "      <td>0.85</td>\n",
       "      <td>35.31</td>\n",
       "      <td>3.0</td>\n",
       "      <td>2.0</td>\n",
       "      <td>13689.0</td>\n",
       "      <td>3113.0</td>\n",
       "      <td>57.0</td>\n",
       "      <td>8289.0</td>\n",
       "      <td>28.0</td>\n",
       "      <td>2202.0</td>\n",
       "    </tr>\n",
       "  </tbody>\n",
       "</table>\n",
       "<p>5 rows × 21 columns</p>\n",
       "</div>"
      ],
      "text/plain": [
       "   year   month carrier                carrier_name airport  \\\n",
       "0  2004       5      AA      American Airlines Inc.     JFK   \n",
       "1  2004       5      B6             JetBlue Airways     JFK   \n",
       "2  2004       5      CO  Continental Air Lines Inc.     JFK   \n",
       "3  2004       5      DH     Atlantic Coast Airlines     JFK   \n",
       "4  2004       5      DL        Delta Air Lines Inc.     JFK   \n",
       "\n",
       "                                  airport_name  arr_flights  arr_del15  \\\n",
       "0  New York, NY: John F. Kennedy International       1296.0      277.0   \n",
       "1  New York, NY: John F. Kennedy International       2684.0      461.0   \n",
       "2  New York, NY: John F. Kennedy International         31.0        5.0   \n",
       "3  New York, NY: John F. Kennedy International        445.0       96.0   \n",
       "4  New York, NY: John F. Kennedy International       1175.0      317.0   \n",
       "\n",
       "   carrier_ct   weather_ct  ...  security_ct  late_aircraft_ct  arr_cancelled  \\\n",
       "0       66.43         4.00  ...         0.23             39.98            1.0   \n",
       "1       70.67         1.32  ...        12.11            187.11            1.0   \n",
       "2        0.72         1.00  ...         0.00              0.00            0.0   \n",
       "3       30.73         3.40  ...         0.00             37.25            8.0   \n",
       "4       51.60         1.93  ...         0.85             35.31            3.0   \n",
       "\n",
       "   arr_diverted   arr_delay   carrier_delay  weather_delay  nas_delay  \\\n",
       "0           6.0     13201.0          4795.0          409.0     5761.0   \n",
       "1           8.0     20322.0          3605.0           36.0     6773.0   \n",
       "2           0.0       278.0            86.0           73.0      119.0   \n",
       "3           2.0      7433.0          1986.0          471.0     1728.0   \n",
       "4           2.0     13689.0          3113.0           57.0     8289.0   \n",
       "\n",
       "   security_delay  late_aircraft_delay  \n",
       "0             8.0               2228.0  \n",
       "1           449.0               9459.0  \n",
       "2             0.0                  0.0  \n",
       "3             0.0               3248.0  \n",
       "4            28.0               2202.0  \n",
       "\n",
       "[5 rows x 21 columns]"
      ]
     },
     "execution_count": 13,
     "metadata": {},
     "output_type": "execute_result"
    }
   ],
   "source": [
    "df.head()"
   ]
  },
  {
   "cell_type": "code",
   "execution_count": 14,
   "metadata": {},
   "outputs": [
    {
     "data": {
      "text/plain": [
       "carrier_name\n",
       "ATA Airlines d/b/a ATA           11082.0\n",
       "AirTran Airways Corporation      66936.0\n",
       "Alaska Airlines Inc.             24000.0\n",
       "Allegiant Air                      863.0\n",
       "America West Airlines Inc.        9202.0\n",
       "American Airlines Inc.          606032.0\n",
       "American Eagle Airlines Inc.    263283.0\n",
       "Atlantic Coast Airlines           5072.0\n",
       "Atlantic Southeast Airlines      11238.0\n",
       "Comair Inc.                     212493.0\n",
       "Continental Air Lines Inc.      435689.0\n",
       "Delta Air Lines Inc.            746451.0\n",
       "Endeavor Air Inc.                80425.0\n",
       "Envoy Air                        61532.0\n",
       "ExpressJet Airlines Inc.        708381.0\n",
       "ExpressJet Airlines LLC           2891.0\n",
       "Frontier Airlines Inc.           13890.0\n",
       "Hawaiian Airlines Inc.            2409.0\n",
       "Independence Air                  7590.0\n",
       "JetBlue Airways                 825112.0\n",
       "Mesa Airlines Inc.               23973.0\n",
       "Northwest Airlines Inc.          73105.0\n",
       "PSA Airlines Inc.                 3420.0\n",
       "Pinnacle Airlines Inc.           22070.0\n",
       "Republic Airline                 86201.0\n",
       "SkyWest Airlines Inc.            23804.0\n",
       "Southwest Airlines Co.          126131.0\n",
       "Spirit Air Lines                 25968.0\n",
       "US Airways Inc.                 221145.0\n",
       "United Air Lines Inc.           580460.0\n",
       "Virgin America                   39944.0\n",
       "Name: arr_flights, dtype: float64"
      ]
     },
     "execution_count": 14,
     "metadata": {},
     "output_type": "execute_result"
    }
   ],
   "source": [
    "df.groupby(by='carrier_name').arr_flights.sum()"
   ]
  },
  {
   "cell_type": "code",
   "execution_count": 15,
   "metadata": {},
   "outputs": [
    {
     "name": "stdout",
     "output_type": "stream",
     "text": [
      "Airline Delays, 2004-2019.ipynb complaints.xlsx\r\n",
      "airline_delay_causes.csv\r\n"
     ]
    }
   ],
   "source": [
    "!ls"
   ]
  },
  {
   "cell_type": "code",
   "execution_count": 18,
   "metadata": {},
   "outputs": [],
   "source": [
    "df2 = pd.read_excel(\"complaints.xlsx\")"
   ]
  },
  {
   "cell_type": "code",
   "execution_count": 19,
   "metadata": {},
   "outputs": [
    {
     "data": {
      "text/html": [
       "<div>\n",
       "<style scoped>\n",
       "    .dataframe tbody tr th:only-of-type {\n",
       "        vertical-align: middle;\n",
       "    }\n",
       "\n",
       "    .dataframe tbody tr th {\n",
       "        vertical-align: top;\n",
       "    }\n",
       "\n",
       "    .dataframe thead th {\n",
       "        text-align: right;\n",
       "    }\n",
       "</style>\n",
       "<table border=\"1\" class=\"dataframe\">\n",
       "  <thead>\n",
       "    <tr style=\"text-align: right;\">\n",
       "      <th></th>\n",
       "      <th>Month</th>\n",
       "      <th>Complaints</th>\n",
       "    </tr>\n",
       "  </thead>\n",
       "  <tbody>\n",
       "    <tr>\n",
       "      <th>0</th>\n",
       "      <td>2018-05-01</td>\n",
       "      <td>13166</td>\n",
       "    </tr>\n",
       "    <tr>\n",
       "      <th>1</th>\n",
       "      <td>2018-06-01</td>\n",
       "      <td>10528</td>\n",
       "    </tr>\n",
       "    <tr>\n",
       "      <th>2</th>\n",
       "      <td>2018-07-01</td>\n",
       "      <td>10242</td>\n",
       "    </tr>\n",
       "    <tr>\n",
       "      <th>3</th>\n",
       "      <td>2018-08-01</td>\n",
       "      <td>13583</td>\n",
       "    </tr>\n",
       "    <tr>\n",
       "      <th>4</th>\n",
       "      <td>2018-09-01</td>\n",
       "      <td>15913</td>\n",
       "    </tr>\n",
       "  </tbody>\n",
       "</table>\n",
       "</div>"
      ],
      "text/plain": [
       "       Month  Complaints\n",
       "0 2018-05-01       13166\n",
       "1 2018-06-01       10528\n",
       "2 2018-07-01       10242\n",
       "3 2018-08-01       13583\n",
       "4 2018-09-01       15913"
      ]
     },
     "execution_count": 19,
     "metadata": {},
     "output_type": "execute_result"
    }
   ],
   "source": [
    "df2.head()"
   ]
  },
  {
   "cell_type": "code",
   "execution_count": 24,
   "metadata": {},
   "outputs": [],
   "source": [
    "df2['date'] = df2['Month'].dt.strftime('%m/%Y')\n"
   ]
  },
  {
   "cell_type": "code",
   "execution_count": 25,
   "metadata": {},
   "outputs": [
    {
     "data": {
      "text/html": [
       "<div>\n",
       "<style scoped>\n",
       "    .dataframe tbody tr th:only-of-type {\n",
       "        vertical-align: middle;\n",
       "    }\n",
       "\n",
       "    .dataframe tbody tr th {\n",
       "        vertical-align: top;\n",
       "    }\n",
       "\n",
       "    .dataframe thead th {\n",
       "        text-align: right;\n",
       "    }\n",
       "</style>\n",
       "<table border=\"1\" class=\"dataframe\">\n",
       "  <thead>\n",
       "    <tr style=\"text-align: right;\">\n",
       "      <th></th>\n",
       "      <th>Month</th>\n",
       "      <th>Complaints</th>\n",
       "      <th>date</th>\n",
       "    </tr>\n",
       "  </thead>\n",
       "  <tbody>\n",
       "    <tr>\n",
       "      <th>0</th>\n",
       "      <td>2018-05-01</td>\n",
       "      <td>13166</td>\n",
       "      <td>05/2018</td>\n",
       "    </tr>\n",
       "    <tr>\n",
       "      <th>1</th>\n",
       "      <td>2018-06-01</td>\n",
       "      <td>10528</td>\n",
       "      <td>06/2018</td>\n",
       "    </tr>\n",
       "    <tr>\n",
       "      <th>2</th>\n",
       "      <td>2018-07-01</td>\n",
       "      <td>10242</td>\n",
       "      <td>07/2018</td>\n",
       "    </tr>\n",
       "    <tr>\n",
       "      <th>3</th>\n",
       "      <td>2018-08-01</td>\n",
       "      <td>13583</td>\n",
       "      <td>08/2018</td>\n",
       "    </tr>\n",
       "    <tr>\n",
       "      <th>4</th>\n",
       "      <td>2018-09-01</td>\n",
       "      <td>15913</td>\n",
       "      <td>09/2018</td>\n",
       "    </tr>\n",
       "  </tbody>\n",
       "</table>\n",
       "</div>"
      ],
      "text/plain": [
       "       Month  Complaints     date\n",
       "0 2018-05-01       13166  05/2018\n",
       "1 2018-06-01       10528  06/2018\n",
       "2 2018-07-01       10242  07/2018\n",
       "3 2018-08-01       13583  08/2018\n",
       "4 2018-09-01       15913  09/2018"
      ]
     },
     "execution_count": 25,
     "metadata": {},
     "output_type": "execute_result"
    }
   ],
   "source": [
    "df2.head()"
   ]
  },
  {
   "cell_type": "code",
   "execution_count": 29,
   "metadata": {},
   "outputs": [
    {
     "data": {
      "image/png": "[encoded data removed]",
      "text/plain": [
       "<Figure size 288x216 with 1 Axes>"
      ]
     },
     "metadata": {
      "needs_background": "light"
     },
     "output_type": "display_data"
    }
   ],
   "source": [
    "df2.plot(x='date', \n",
    "         y='Complaints', \n",
    "         kind='barh', \n",
    "         figsize = (4,3),\n",
    "         width=0.8,\n",
    "         grid=True)\n",
    "plt.savefig('complaints.pdf')"
   ]
  },
  {
   "cell_type": "code",
   "execution_count": null,
   "metadata": {},
   "outputs": [],
   "source": []
  }
 ],
 "metadata": {
  "kernelspec": {
   "display_name": "Python 3",
   "language": "python",
   "name": "python3"
  },
  "language_info": {
   "codemirror_mode": {
    "name": "ipython",
    "version": 3
   },
   "file_extension": ".py",
   "mimetype": "text/x-python",
   "name": "python",
   "nbconvert_exporter": "python",
   "pygments_lexer": "ipython3",
   "version": "3.7.1"
  }
 },
 "nbformat": 4,
 "nbformat_minor": 2
}
