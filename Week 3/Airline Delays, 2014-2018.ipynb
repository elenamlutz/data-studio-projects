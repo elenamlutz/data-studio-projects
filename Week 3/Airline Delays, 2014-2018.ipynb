{
 "cells": [
  {
   "cell_type": "code",
   "execution_count": 1,
   "metadata": {},
   "outputs": [],
   "source": [
    "import pandas as pd\n",
    "import requests\n",
    "import re\n",
    "from bs4 import BeautifulSoup\n",
    "import numpy as np\n",
    "import matplotlib\n",
    "import matplotlib.pyplot as plt\n",
    "import seaborn as sns\n",
    "import altair as alt\n",
    "alt.renderers.enable('notebook')\n",
    "\n",
    "alt.data_transformers.disable_max_rows()\n",
    "matplotlib.rcParams['pdf.fonttype'] = 42\n",
    "\n",
    "%matplotlib inline"
   ]
  },
  {
   "cell_type": "code",
   "execution_count": 2,
   "metadata": {},
   "outputs": [
    {
     "name": "stdout",
     "output_type": "stream",
     "text": [
      "Airline Delays, 2014-2018.ipynb airline_delay_causes.csv\r\n"
     ]
    }
   ],
   "source": [
    "!ls"
   ]
  },
  {
   "cell_type": "code",
   "execution_count": 3,
   "metadata": {},
   "outputs": [],
   "source": [
    "df = pd.read_csv(\"airline_delay_causes.csv\")"
   ]
  },
  {
   "cell_type": "code",
   "execution_count": 4,
   "metadata": {},
   "outputs": [],
   "source": [
    "#Delays/cancellations over time - worst seasons to travel (calendar heatmap)\n",
    "#Divide by year\n",
    "#Sankey Diagram for each airport\n",
    "#Average airline delay at each airport\n",
    "#Worst performing airports\n",
    "# list_of_carriers = ['American',\"delta\"]\n",
    "# df[df['carrier'].isin(list_of_carriers)]"
   ]
  },
  {
   "cell_type": "code",
   "execution_count": 5,
   "metadata": {},
   "outputs": [
    {
     "data": {
      "text/plain": [
       "year                     int64\n",
       " month                   int64\n",
       "carrier                 object\n",
       "carrier_name            object\n",
       "airport                 object\n",
       "airport_name            object\n",
       "arr_flights            float64\n",
       "arr_del15              float64\n",
       "carrier_ct             float64\n",
       " weather_ct            float64\n",
       "nas_ct                 float64\n",
       "security_ct            float64\n",
       "late_aircraft_ct       float64\n",
       "arr_cancelled          float64\n",
       "arr_diverted           float64\n",
       " arr_delay             float64\n",
       " carrier_delay         float64\n",
       "weather_delay          float64\n",
       "nas_delay              float64\n",
       "security_delay         float64\n",
       "late_aircraft_delay    float64\n",
       "dtype: object"
      ]
     },
     "execution_count": 5,
     "metadata": {},
     "output_type": "execute_result"
    }
   ],
   "source": [
    "df.dtypes"
   ]
  },
  {
   "cell_type": "code",
   "execution_count": 6,
   "metadata": {},
   "outputs": [],
   "source": [
    "df=df.rename(columns={' month': 'month',\n",
    "                     ' weather_ct': 'weather_ct',\n",
    "                     ' arr_delay': 'arr_delay',\n",
    "                     ' carrier_delay': 'carrier_delay'})"
   ]
  },
  {
   "cell_type": "code",
   "execution_count": 7,
   "metadata": {},
   "outputs": [],
   "source": [
    "df = df.drop(['carrier'], axis=1)"
   ]
  },
  {
   "cell_type": "code",
   "execution_count": 8,
   "metadata": {},
   "outputs": [
    {
     "data": {
      "text/html": [
       "<div>\n",
       "<style scoped>\n",
       "    .dataframe tbody tr th:only-of-type {\n",
       "        vertical-align: middle;\n",
       "    }\n",
       "\n",
       "    .dataframe tbody tr th {\n",
       "        vertical-align: top;\n",
       "    }\n",
       "\n",
       "    .dataframe thead th {\n",
       "        text-align: right;\n",
       "    }\n",
       "</style>\n",
       "<table border=\"1\" class=\"dataframe\">\n",
       "  <thead>\n",
       "    <tr style=\"text-align: right;\">\n",
       "      <th></th>\n",
       "      <th>year</th>\n",
       "      <th>month</th>\n",
       "      <th>carrier_name</th>\n",
       "      <th>airport</th>\n",
       "      <th>airport_name</th>\n",
       "      <th>arr_flights</th>\n",
       "      <th>arr_del15</th>\n",
       "      <th>carrier_ct</th>\n",
       "      <th>weather_ct</th>\n",
       "      <th>nas_ct</th>\n",
       "      <th>security_ct</th>\n",
       "      <th>late_aircraft_ct</th>\n",
       "      <th>arr_cancelled</th>\n",
       "      <th>arr_diverted</th>\n",
       "      <th>arr_delay</th>\n",
       "      <th>carrier_delay</th>\n",
       "      <th>weather_delay</th>\n",
       "      <th>nas_delay</th>\n",
       "      <th>security_delay</th>\n",
       "      <th>late_aircraft_delay</th>\n",
       "    </tr>\n",
       "  </thead>\n",
       "  <tbody>\n",
       "    <tr>\n",
       "      <th>0</th>\n",
       "      <td>2004</td>\n",
       "      <td>5</td>\n",
       "      <td>American Airlines Inc.</td>\n",
       "      <td>JFK</td>\n",
       "      <td>New York, NY: John F. Kennedy International</td>\n",
       "      <td>1296.0</td>\n",
       "      <td>277.0</td>\n",
       "      <td>66.43</td>\n",
       "      <td>4.00</td>\n",
       "      <td>166.35</td>\n",
       "      <td>0.23</td>\n",
       "      <td>39.98</td>\n",
       "      <td>1.0</td>\n",
       "      <td>6.0</td>\n",
       "      <td>13201.0</td>\n",
       "      <td>4795.0</td>\n",
       "      <td>409.0</td>\n",
       "      <td>5761.0</td>\n",
       "      <td>8.0</td>\n",
       "      <td>2228.0</td>\n",
       "    </tr>\n",
       "    <tr>\n",
       "      <th>1</th>\n",
       "      <td>2004</td>\n",
       "      <td>5</td>\n",
       "      <td>JetBlue Airways</td>\n",
       "      <td>JFK</td>\n",
       "      <td>New York, NY: John F. Kennedy International</td>\n",
       "      <td>2684.0</td>\n",
       "      <td>461.0</td>\n",
       "      <td>70.67</td>\n",
       "      <td>1.32</td>\n",
       "      <td>189.79</td>\n",
       "      <td>12.11</td>\n",
       "      <td>187.11</td>\n",
       "      <td>1.0</td>\n",
       "      <td>8.0</td>\n",
       "      <td>20322.0</td>\n",
       "      <td>3605.0</td>\n",
       "      <td>36.0</td>\n",
       "      <td>6773.0</td>\n",
       "      <td>449.0</td>\n",
       "      <td>9459.0</td>\n",
       "    </tr>\n",
       "    <tr>\n",
       "      <th>2</th>\n",
       "      <td>2004</td>\n",
       "      <td>5</td>\n",
       "      <td>Continental Air Lines Inc.</td>\n",
       "      <td>JFK</td>\n",
       "      <td>New York, NY: John F. Kennedy International</td>\n",
       "      <td>31.0</td>\n",
       "      <td>5.0</td>\n",
       "      <td>0.72</td>\n",
       "      <td>1.00</td>\n",
       "      <td>3.28</td>\n",
       "      <td>0.00</td>\n",
       "      <td>0.00</td>\n",
       "      <td>0.0</td>\n",
       "      <td>0.0</td>\n",
       "      <td>278.0</td>\n",
       "      <td>86.0</td>\n",
       "      <td>73.0</td>\n",
       "      <td>119.0</td>\n",
       "      <td>0.0</td>\n",
       "      <td>0.0</td>\n",
       "    </tr>\n",
       "    <tr>\n",
       "      <th>3</th>\n",
       "      <td>2004</td>\n",
       "      <td>5</td>\n",
       "      <td>Atlantic Coast Airlines</td>\n",
       "      <td>JFK</td>\n",
       "      <td>New York, NY: John F. Kennedy International</td>\n",
       "      <td>445.0</td>\n",
       "      <td>96.0</td>\n",
       "      <td>30.73</td>\n",
       "      <td>3.40</td>\n",
       "      <td>24.62</td>\n",
       "      <td>0.00</td>\n",
       "      <td>37.25</td>\n",
       "      <td>8.0</td>\n",
       "      <td>2.0</td>\n",
       "      <td>7433.0</td>\n",
       "      <td>1986.0</td>\n",
       "      <td>471.0</td>\n",
       "      <td>1728.0</td>\n",
       "      <td>0.0</td>\n",
       "      <td>3248.0</td>\n",
       "    </tr>\n",
       "    <tr>\n",
       "      <th>4</th>\n",
       "      <td>2004</td>\n",
       "      <td>5</td>\n",
       "      <td>Delta Air Lines Inc.</td>\n",
       "      <td>JFK</td>\n",
       "      <td>New York, NY: John F. Kennedy International</td>\n",
       "      <td>1175.0</td>\n",
       "      <td>317.0</td>\n",
       "      <td>51.60</td>\n",
       "      <td>1.93</td>\n",
       "      <td>227.31</td>\n",
       "      <td>0.85</td>\n",
       "      <td>35.31</td>\n",
       "      <td>3.0</td>\n",
       "      <td>2.0</td>\n",
       "      <td>13689.0</td>\n",
       "      <td>3113.0</td>\n",
       "      <td>57.0</td>\n",
       "      <td>8289.0</td>\n",
       "      <td>28.0</td>\n",
       "      <td>2202.0</td>\n",
       "    </tr>\n",
       "  </tbody>\n",
       "</table>\n",
       "</div>"
      ],
      "text/plain": [
       "   year  month                carrier_name airport  \\\n",
       "0  2004      5      American Airlines Inc.     JFK   \n",
       "1  2004      5             JetBlue Airways     JFK   \n",
       "2  2004      5  Continental Air Lines Inc.     JFK   \n",
       "3  2004      5     Atlantic Coast Airlines     JFK   \n",
       "4  2004      5        Delta Air Lines Inc.     JFK   \n",
       "\n",
       "                                  airport_name  arr_flights  arr_del15  \\\n",
       "0  New York, NY: John F. Kennedy International       1296.0      277.0   \n",
       "1  New York, NY: John F. Kennedy International       2684.0      461.0   \n",
       "2  New York, NY: John F. Kennedy International         31.0        5.0   \n",
       "3  New York, NY: John F. Kennedy International        445.0       96.0   \n",
       "4  New York, NY: John F. Kennedy International       1175.0      317.0   \n",
       "\n",
       "   carrier_ct  weather_ct  nas_ct  security_ct  late_aircraft_ct  \\\n",
       "0       66.43        4.00  166.35         0.23             39.98   \n",
       "1       70.67        1.32  189.79        12.11            187.11   \n",
       "2        0.72        1.00    3.28         0.00              0.00   \n",
       "3       30.73        3.40   24.62         0.00             37.25   \n",
       "4       51.60        1.93  227.31         0.85             35.31   \n",
       "\n",
       "   arr_cancelled  arr_diverted  arr_delay  carrier_delay  weather_delay  \\\n",
       "0            1.0           6.0    13201.0         4795.0          409.0   \n",
       "1            1.0           8.0    20322.0         3605.0           36.0   \n",
       "2            0.0           0.0      278.0           86.0           73.0   \n",
       "3            8.0           2.0     7433.0         1986.0          471.0   \n",
       "4            3.0           2.0    13689.0         3113.0           57.0   \n",
       "\n",
       "   nas_delay  security_delay  late_aircraft_delay  \n",
       "0     5761.0             8.0               2228.0  \n",
       "1     6773.0           449.0               9459.0  \n",
       "2      119.0             0.0                  0.0  \n",
       "3     1728.0             0.0               3248.0  \n",
       "4     8289.0            28.0               2202.0  "
      ]
     },
     "execution_count": 8,
     "metadata": {},
     "output_type": "execute_result"
    }
   ],
   "source": [
    "df.head()"
   ]
  },
  {
   "cell_type": "code",
   "execution_count": 9,
   "metadata": {},
   "outputs": [],
   "source": [
    "df = df[(df.year==2018) | (df.year==2017) | (df.year==2016) | (df.year==2015) | (df.year==2014)]"
   ]
  },
  {
   "cell_type": "code",
   "execution_count": 10,
   "metadata": {},
   "outputs": [
    {
     "data": {
      "text/plain": [
       "airport\n",
       "EWR    373377.0\n",
       "JFK    292025.0\n",
       "LGA    474570.0\n",
       "Name: weather_delay, dtype: float64"
      ]
     },
     "execution_count": 10,
     "metadata": {},
     "output_type": "execute_result"
    }
   ],
   "source": [
    "df.groupby(by='airport')['weather_delay'].sum()"
   ]
  },
  {
   "cell_type": "code",
   "execution_count": 11,
   "metadata": {},
   "outputs": [
    {
     "data": {
      "text/plain": [
       "Delta Air Lines Inc.            180\n",
       "American Airlines Inc.          180\n",
       "JetBlue Airways                 180\n",
       "United Air Lines Inc.           142\n",
       "Virgin America                  137\n",
       "ExpressJet Airlines Inc.        131\n",
       "Southwest Airlines Co.          120\n",
       "Alaska Airlines Inc.            100\n",
       "SkyWest Airlines Inc.            92\n",
       "Envoy Air                        86\n",
       "Spirit Air Lines                 75\n",
       "Hawaiian Airlines Inc.           60\n",
       "Frontier Airlines Inc.           60\n",
       "US Airways Inc.                  54\n",
       "Republic Airline                 36\n",
       "Endeavor Air Inc.                36\n",
       "PSA Airlines Inc.                22\n",
       "Mesa Airlines Inc.               12\n",
       "Allegiant Air                    12\n",
       "American Eagle Airlines Inc.      9\n",
       "AirTran Airways Corporation       8\n",
       "Name: carrier_name, dtype: int64"
      ]
     },
     "execution_count": 11,
     "metadata": {},
     "output_type": "execute_result"
    }
   ],
   "source": [
    "df.carrier_name.value_counts()"
   ]
  },
  {
   "cell_type": "markdown",
   "metadata": {},
   "source": [
    "# Longest Delays in Minutes"
   ]
  },
  {
   "cell_type": "code",
   "execution_count": 12,
   "metadata": {},
   "outputs": [],
   "source": [
    "delays = df.pivot_table(columns='month', index='carrier_name', values='arr_delay')#.reset_index()"
   ]
  },
  {
   "cell_type": "code",
   "execution_count": 13,
   "metadata": {},
   "outputs": [],
   "source": [
    "delays = delays.sort_values(7)"
   ]
  },
  {
   "cell_type": "code",
   "execution_count": 14,
   "metadata": {},
   "outputs": [],
   "source": [
    "delays = delays.dropna()"
   ]
  },
  {
   "cell_type": "code",
   "execution_count": 15,
   "metadata": {},
   "outputs": [
    {
     "data": {
      "text/html": [
       "<div>\n",
       "<style scoped>\n",
       "    .dataframe tbody tr th:only-of-type {\n",
       "        vertical-align: middle;\n",
       "    }\n",
       "\n",
       "    .dataframe tbody tr th {\n",
       "        vertical-align: top;\n",
       "    }\n",
       "\n",
       "    .dataframe thead th {\n",
       "        text-align: right;\n",
       "    }\n",
       "</style>\n",
       "<table border=\"1\" class=\"dataframe\">\n",
       "  <thead>\n",
       "    <tr style=\"text-align: right;\">\n",
       "      <th>month</th>\n",
       "      <th>1</th>\n",
       "      <th>2</th>\n",
       "      <th>3</th>\n",
       "      <th>4</th>\n",
       "      <th>5</th>\n",
       "      <th>6</th>\n",
       "      <th>7</th>\n",
       "      <th>8</th>\n",
       "      <th>9</th>\n",
       "      <th>10</th>\n",
       "      <th>11</th>\n",
       "      <th>12</th>\n",
       "    </tr>\n",
       "    <tr>\n",
       "      <th>carrier_name</th>\n",
       "      <th></th>\n",
       "      <th></th>\n",
       "      <th></th>\n",
       "      <th></th>\n",
       "      <th></th>\n",
       "      <th></th>\n",
       "      <th></th>\n",
       "      <th></th>\n",
       "      <th></th>\n",
       "      <th></th>\n",
       "      <th></th>\n",
       "      <th></th>\n",
       "    </tr>\n",
       "  </thead>\n",
       "  <tbody>\n",
       "    <tr>\n",
       "      <th>Hawaiian Airlines Inc.</th>\n",
       "      <td>823.0</td>\n",
       "      <td>684.000000</td>\n",
       "      <td>228.2</td>\n",
       "      <td>190.4</td>\n",
       "      <td>160.0</td>\n",
       "      <td>299.4</td>\n",
       "      <td>259.6</td>\n",
       "      <td>229.0</td>\n",
       "      <td>193.4</td>\n",
       "      <td>212.0</td>\n",
       "      <td>161.8</td>\n",
       "      <td>379.6</td>\n",
       "    </tr>\n",
       "    <tr>\n",
       "      <th>Allegiant Air</th>\n",
       "      <td>825.0</td>\n",
       "      <td>144.000000</td>\n",
       "      <td>45.0</td>\n",
       "      <td>475.0</td>\n",
       "      <td>693.0</td>\n",
       "      <td>457.0</td>\n",
       "      <td>999.0</td>\n",
       "      <td>543.0</td>\n",
       "      <td>177.0</td>\n",
       "      <td>246.0</td>\n",
       "      <td>148.0</td>\n",
       "      <td>257.0</td>\n",
       "    </tr>\n",
       "    <tr>\n",
       "      <th>Frontier Airlines Inc.</th>\n",
       "      <td>1185.0</td>\n",
       "      <td>1192.800000</td>\n",
       "      <td>1296.0</td>\n",
       "      <td>1309.2</td>\n",
       "      <td>1607.8</td>\n",
       "      <td>1779.6</td>\n",
       "      <td>1981.8</td>\n",
       "      <td>1909.6</td>\n",
       "      <td>1197.8</td>\n",
       "      <td>1275.4</td>\n",
       "      <td>1266.4</td>\n",
       "      <td>1885.8</td>\n",
       "    </tr>\n",
       "    <tr>\n",
       "      <th>Mesa Airlines Inc.</th>\n",
       "      <td>1742.0</td>\n",
       "      <td>1221.000000</td>\n",
       "      <td>1641.0</td>\n",
       "      <td>2039.0</td>\n",
       "      <td>3217.0</td>\n",
       "      <td>2423.0</td>\n",
       "      <td>2339.0</td>\n",
       "      <td>3205.0</td>\n",
       "      <td>3456.0</td>\n",
       "      <td>2523.0</td>\n",
       "      <td>3274.0</td>\n",
       "      <td>1818.0</td>\n",
       "    </tr>\n",
       "    <tr>\n",
       "      <th>PSA Airlines Inc.</th>\n",
       "      <td>1742.0</td>\n",
       "      <td>1902.666667</td>\n",
       "      <td>1658.5</td>\n",
       "      <td>2177.5</td>\n",
       "      <td>1633.5</td>\n",
       "      <td>4562.0</td>\n",
       "      <td>2477.0</td>\n",
       "      <td>3269.0</td>\n",
       "      <td>1660.0</td>\n",
       "      <td>1962.0</td>\n",
       "      <td>2354.5</td>\n",
       "      <td>1530.5</td>\n",
       "    </tr>\n",
       "  </tbody>\n",
       "</table>\n",
       "</div>"
      ],
      "text/plain": [
       "month                       1            2       3       4       5       6   \\\n",
       "carrier_name                                                                  \n",
       "Hawaiian Airlines Inc.   823.0   684.000000   228.2   190.4   160.0   299.4   \n",
       "Allegiant Air            825.0   144.000000    45.0   475.0   693.0   457.0   \n",
       "Frontier Airlines Inc.  1185.0  1192.800000  1296.0  1309.2  1607.8  1779.6   \n",
       "Mesa Airlines Inc.      1742.0  1221.000000  1641.0  2039.0  3217.0  2423.0   \n",
       "PSA Airlines Inc.       1742.0  1902.666667  1658.5  2177.5  1633.5  4562.0   \n",
       "\n",
       "month                       7       8       9       10      11      12  \n",
       "carrier_name                                                            \n",
       "Hawaiian Airlines Inc.   259.6   229.0   193.4   212.0   161.8   379.6  \n",
       "Allegiant Air            999.0   543.0   177.0   246.0   148.0   257.0  \n",
       "Frontier Airlines Inc.  1981.8  1909.6  1197.8  1275.4  1266.4  1885.8  \n",
       "Mesa Airlines Inc.      2339.0  3205.0  3456.0  2523.0  3274.0  1818.0  \n",
       "PSA Airlines Inc.       2477.0  3269.0  1660.0  1962.0  2354.5  1530.5  "
      ]
     },
     "execution_count": 15,
     "metadata": {},
     "output_type": "execute_result"
    }
   ],
   "source": [
    "delays.head()"
   ]
  },
  {
   "cell_type": "code",
   "execution_count": 16,
   "metadata": {},
   "outputs": [
    {
     "data": {
      "text/plain": [
       "([<matplotlib.axis.XTick at 0x11b74dc18>,\n",
       "  <matplotlib.axis.XTick at 0x11b74d550>,\n",
       "  <matplotlib.axis.XTick at 0x11b74d2b0>,\n",
       "  <matplotlib.axis.XTick at 0x11bcff400>,\n",
       "  <matplotlib.axis.XTick at 0x11bcf9eb8>,\n",
       "  <matplotlib.axis.XTick at 0x11bcf3198>,\n",
       "  <matplotlib.axis.XTick at 0x11bcff358>,\n",
       "  <matplotlib.axis.XTick at 0x11bcffda0>,\n",
       "  <matplotlib.axis.XTick at 0x11bd08358>,\n",
       "  <matplotlib.axis.XTick at 0x11bd088d0>,\n",
       "  <matplotlib.axis.XTick at 0x11bd08e48>,\n",
       "  <matplotlib.axis.XTick at 0x11bd0f400>],\n",
       " <a list of 12 Text xticklabel objects>)"
      ]
     },
     "execution_count": 16,
     "metadata": {},
     "output_type": "execute_result"
    },
    {
     "data": {
      "image/png": "[encoded data removed]",
      "text/plain": [
       "<Figure size 432x288 with 1 Axes>"
      ]
     },
     "metadata": {
      "needs_background": "light"
     },
     "output_type": "display_data"
    }
   ],
   "source": [
    "plt.pcolor(delays, cmap='Reds')\n",
    "\n",
    "tick_labels = delays.index\n",
    "tick_locations = np.arange(0.5, len(tick_labels), 1)\n",
    "plt.yticks(tick_locations, tick_labels)\n",
    "\n",
    "tick_labels = ['Jan', 'Feb', 'Mar', 'Apr', 'May', 'June', 'July', 'Aug', 'Sept', 'Oct', 'Nov', 'Dec']\n",
    "tick_locations = [0.5, 1.5, 2.5, 3.5, 4.5, 5.5, 6.5, 7.5, 8.5, 9.5, 10.5, 11.5]\n",
    "plt.xticks(tick_locations, tick_labels)"
   ]
  },
  {
   "cell_type": "markdown",
   "metadata": {},
   "source": [
    "# Cancelled Flights"
   ]
  },
  {
   "cell_type": "code",
   "execution_count": 17,
   "metadata": {},
   "outputs": [],
   "source": [
    "cancelled = df.pivot_table(columns='month', index='carrier_name', values='arr_cancelled')#.reset_index()"
   ]
  },
  {
   "cell_type": "code",
   "execution_count": 18,
   "metadata": {},
   "outputs": [],
   "source": [
    "cancelled = cancelled.sort_values(7)"
   ]
  },
  {
   "cell_type": "code",
   "execution_count": 19,
   "metadata": {},
   "outputs": [
    {
     "data": {
      "text/html": [
       "<div>\n",
       "<style scoped>\n",
       "    .dataframe tbody tr th:only-of-type {\n",
       "        vertical-align: middle;\n",
       "    }\n",
       "\n",
       "    .dataframe tbody tr th {\n",
       "        vertical-align: top;\n",
       "    }\n",
       "\n",
       "    .dataframe thead th {\n",
       "        text-align: right;\n",
       "    }\n",
       "</style>\n",
       "<table border=\"1\" class=\"dataframe\">\n",
       "  <thead>\n",
       "    <tr style=\"text-align: right;\">\n",
       "      <th>month</th>\n",
       "      <th>1</th>\n",
       "      <th>2</th>\n",
       "      <th>3</th>\n",
       "      <th>4</th>\n",
       "      <th>5</th>\n",
       "      <th>6</th>\n",
       "      <th>7</th>\n",
       "      <th>8</th>\n",
       "      <th>9</th>\n",
       "      <th>10</th>\n",
       "      <th>11</th>\n",
       "      <th>12</th>\n",
       "    </tr>\n",
       "    <tr>\n",
       "      <th>carrier_name</th>\n",
       "      <th></th>\n",
       "      <th></th>\n",
       "      <th></th>\n",
       "      <th></th>\n",
       "      <th></th>\n",
       "      <th></th>\n",
       "      <th></th>\n",
       "      <th></th>\n",
       "      <th></th>\n",
       "      <th></th>\n",
       "      <th></th>\n",
       "      <th></th>\n",
       "    </tr>\n",
       "  </thead>\n",
       "  <tbody>\n",
       "    <tr>\n",
       "      <th>Hawaiian Airlines Inc.</th>\n",
       "      <td>0.200000</td>\n",
       "      <td>0.200000</td>\n",
       "      <td>0.200000</td>\n",
       "      <td>0.000000</td>\n",
       "      <td>0.000000</td>\n",
       "      <td>0.0</td>\n",
       "      <td>0.000000</td>\n",
       "      <td>0.000000</td>\n",
       "      <td>0.0</td>\n",
       "      <td>0.000000</td>\n",
       "      <td>0.000000</td>\n",
       "      <td>0.000000</td>\n",
       "    </tr>\n",
       "    <tr>\n",
       "      <th>Virgin America</th>\n",
       "      <td>9.615385</td>\n",
       "      <td>8.384615</td>\n",
       "      <td>7.769231</td>\n",
       "      <td>0.818182</td>\n",
       "      <td>0.454545</td>\n",
       "      <td>1.0</td>\n",
       "      <td>0.636364</td>\n",
       "      <td>0.636364</td>\n",
       "      <td>0.4</td>\n",
       "      <td>0.818182</td>\n",
       "      <td>1.090909</td>\n",
       "      <td>0.818182</td>\n",
       "    </tr>\n",
       "    <tr>\n",
       "      <th>AirTran Airways Corporation</th>\n",
       "      <td>15.000000</td>\n",
       "      <td>24.000000</td>\n",
       "      <td>1.000000</td>\n",
       "      <td>1.000000</td>\n",
       "      <td>2.000000</td>\n",
       "      <td>2.0</td>\n",
       "      <td>1.000000</td>\n",
       "      <td>0.000000</td>\n",
       "      <td>NaN</td>\n",
       "      <td>NaN</td>\n",
       "      <td>NaN</td>\n",
       "      <td>NaN</td>\n",
       "    </tr>\n",
       "    <tr>\n",
       "      <th>Frontier Airlines Inc.</th>\n",
       "      <td>4.400000</td>\n",
       "      <td>1.200000</td>\n",
       "      <td>2.600000</td>\n",
       "      <td>0.400000</td>\n",
       "      <td>2.000000</td>\n",
       "      <td>1.0</td>\n",
       "      <td>2.000000</td>\n",
       "      <td>2.800000</td>\n",
       "      <td>0.6</td>\n",
       "      <td>0.800000</td>\n",
       "      <td>0.400000</td>\n",
       "      <td>2.000000</td>\n",
       "    </tr>\n",
       "    <tr>\n",
       "      <th>Allegiant Air</th>\n",
       "      <td>1.000000</td>\n",
       "      <td>0.000000</td>\n",
       "      <td>0.000000</td>\n",
       "      <td>0.000000</td>\n",
       "      <td>0.000000</td>\n",
       "      <td>0.0</td>\n",
       "      <td>2.000000</td>\n",
       "      <td>2.000000</td>\n",
       "      <td>1.0</td>\n",
       "      <td>1.000000</td>\n",
       "      <td>0.000000</td>\n",
       "      <td>1.000000</td>\n",
       "    </tr>\n",
       "  </tbody>\n",
       "</table>\n",
       "</div>"
      ],
      "text/plain": [
       "month                               1          2         3         4   \\\n",
       "carrier_name                                                            \n",
       "Hawaiian Airlines Inc.        0.200000   0.200000  0.200000  0.000000   \n",
       "Virgin America                9.615385   8.384615  7.769231  0.818182   \n",
       "AirTran Airways Corporation  15.000000  24.000000  1.000000  1.000000   \n",
       "Frontier Airlines Inc.        4.400000   1.200000  2.600000  0.400000   \n",
       "Allegiant Air                 1.000000   0.000000  0.000000  0.000000   \n",
       "\n",
       "month                              5    6         7         8    9         10  \\\n",
       "carrier_name                                                                    \n",
       "Hawaiian Airlines Inc.       0.000000  0.0  0.000000  0.000000  0.0  0.000000   \n",
       "Virgin America               0.454545  1.0  0.636364  0.636364  0.4  0.818182   \n",
       "AirTran Airways Corporation  2.000000  2.0  1.000000  0.000000  NaN       NaN   \n",
       "Frontier Airlines Inc.       2.000000  1.0  2.000000  2.800000  0.6  0.800000   \n",
       "Allegiant Air                0.000000  0.0  2.000000  2.000000  1.0  1.000000   \n",
       "\n",
       "month                              11        12  \n",
       "carrier_name                                     \n",
       "Hawaiian Airlines Inc.       0.000000  0.000000  \n",
       "Virgin America               1.090909  0.818182  \n",
       "AirTran Airways Corporation       NaN       NaN  \n",
       "Frontier Airlines Inc.       0.400000  2.000000  \n",
       "Allegiant Air                0.000000  1.000000  "
      ]
     },
     "execution_count": 19,
     "metadata": {},
     "output_type": "execute_result"
    }
   ],
   "source": [
    "cancelled.head()"
   ]
  },
  {
   "cell_type": "code",
   "execution_count": 20,
   "metadata": {},
   "outputs": [],
   "source": [
    "cancelled = cancelled.dropna()"
   ]
  },
  {
   "cell_type": "code",
   "execution_count": 21,
   "metadata": {},
   "outputs": [
    {
     "data": {
      "text/plain": [
       "([<matplotlib.axis.XTick at 0x11bdb9cc0>,\n",
       "  <matplotlib.axis.XTick at 0x11bdb95f8>,\n",
       "  <matplotlib.axis.XTick at 0x11bdb9208>,\n",
       "  <matplotlib.axis.XTick at 0x11be17198>,\n",
       "  <matplotlib.axis.XTick at 0x11be24400>,\n",
       "  <matplotlib.axis.XTick at 0x11be2e470>,\n",
       "  <matplotlib.axis.XTick at 0x11be2e9e8>,\n",
       "  <matplotlib.axis.XTick at 0x11be2ef60>,\n",
       "  <matplotlib.axis.XTick at 0x11be33518>,\n",
       "  <matplotlib.axis.XTick at 0x11be33a90>,\n",
       "  <matplotlib.axis.XTick at 0x11be3c0b8>,\n",
       "  <matplotlib.axis.XTick at 0x11be335f8>],\n",
       " <a list of 12 Text xticklabel objects>)"
      ]
     },
     "execution_count": 21,
     "metadata": {},
     "output_type": "execute_result"
    },
    {
     "data": {
      "image/png": "[encoded data removed]",
      "text/plain": [
       "<Figure size 432x288 with 1 Axes>"
      ]
     },
     "metadata": {
      "needs_background": "light"
     },
     "output_type": "display_data"
    }
   ],
   "source": [
    "plt.pcolor(cancelled, cmap='Reds')\n",
    "\n",
    "tick_labels = cancelled.index\n",
    "tick_locations = np.arange(0.5, len(tick_labels), 1)\n",
    "plt.yticks(tick_locations, tick_labels)\n",
    "\n",
    "tick_labels = ['Jan', 'Feb', 'Mar', 'Apr', 'May', 'June', 'July', 'Aug', 'Sept', 'Oct', 'Nov', 'Dec']\n",
    "tick_locations = [0.5, 1.5, 2.5, 3.5, 4.5, 5.5, 6.5, 7.5, 8.5, 9.5, 10.5, 11.5]\n",
    "plt.xticks(tick_locations, tick_labels)"
   ]
  },
  {
   "cell_type": "markdown",
   "metadata": {},
   "source": [
    "# Weather Delays"
   ]
  },
  {
   "cell_type": "code",
   "execution_count": 22,
   "metadata": {},
   "outputs": [],
   "source": [
    "weather = df.pivot_table(columns='month', index='carrier_name', values='weather_ct')#.reset_index()"
   ]
  },
  {
   "cell_type": "code",
   "execution_count": 23,
   "metadata": {},
   "outputs": [],
   "source": [
    "weather = weather.sort_values(7)"
   ]
  },
  {
   "cell_type": "code",
   "execution_count": 24,
   "metadata": {},
   "outputs": [],
   "source": [
    "weather = weather.dropna()"
   ]
  },
  {
   "cell_type": "code",
   "execution_count": 25,
   "metadata": {},
   "outputs": [
    {
     "data": {
      "text/html": [
       "<div>\n",
       "<style scoped>\n",
       "    .dataframe tbody tr th:only-of-type {\n",
       "        vertical-align: middle;\n",
       "    }\n",
       "\n",
       "    .dataframe tbody tr th {\n",
       "        vertical-align: top;\n",
       "    }\n",
       "\n",
       "    .dataframe thead th {\n",
       "        text-align: right;\n",
       "    }\n",
       "</style>\n",
       "<table border=\"1\" class=\"dataframe\">\n",
       "  <thead>\n",
       "    <tr style=\"text-align: right;\">\n",
       "      <th>month</th>\n",
       "      <th>1</th>\n",
       "      <th>2</th>\n",
       "      <th>3</th>\n",
       "      <th>4</th>\n",
       "      <th>5</th>\n",
       "      <th>6</th>\n",
       "      <th>7</th>\n",
       "      <th>8</th>\n",
       "      <th>9</th>\n",
       "      <th>10</th>\n",
       "      <th>11</th>\n",
       "      <th>12</th>\n",
       "    </tr>\n",
       "    <tr>\n",
       "      <th>carrier_name</th>\n",
       "      <th></th>\n",
       "      <th></th>\n",
       "      <th></th>\n",
       "      <th></th>\n",
       "      <th></th>\n",
       "      <th></th>\n",
       "      <th></th>\n",
       "      <th></th>\n",
       "      <th></th>\n",
       "      <th></th>\n",
       "      <th></th>\n",
       "      <th></th>\n",
       "    </tr>\n",
       "  </thead>\n",
       "  <tbody>\n",
       "    <tr>\n",
       "      <th>PSA Airlines Inc.</th>\n",
       "      <td>0.256667</td>\n",
       "      <td>0.4400</td>\n",
       "      <td>0.500</td>\n",
       "      <td>0.225</td>\n",
       "      <td>0.0000</td>\n",
       "      <td>2.160</td>\n",
       "      <td>0.000</td>\n",
       "      <td>2.0000</td>\n",
       "      <td>0.000000</td>\n",
       "      <td>0.480000</td>\n",
       "      <td>0.830000</td>\n",
       "      <td>0.275000</td>\n",
       "    </tr>\n",
       "    <tr>\n",
       "      <th>Frontier Airlines Inc.</th>\n",
       "      <td>0.000000</td>\n",
       "      <td>0.0000</td>\n",
       "      <td>0.000</td>\n",
       "      <td>0.044</td>\n",
       "      <td>0.4820</td>\n",
       "      <td>0.000</td>\n",
       "      <td>0.044</td>\n",
       "      <td>0.4900</td>\n",
       "      <td>0.172000</td>\n",
       "      <td>0.000000</td>\n",
       "      <td>0.014000</td>\n",
       "      <td>0.312000</td>\n",
       "    </tr>\n",
       "    <tr>\n",
       "      <th>Hawaiian Airlines Inc.</th>\n",
       "      <td>1.118000</td>\n",
       "      <td>0.5960</td>\n",
       "      <td>0.000</td>\n",
       "      <td>0.050</td>\n",
       "      <td>0.0000</td>\n",
       "      <td>0.000</td>\n",
       "      <td>0.308</td>\n",
       "      <td>0.0000</td>\n",
       "      <td>0.000000</td>\n",
       "      <td>0.000000</td>\n",
       "      <td>0.000000</td>\n",
       "      <td>0.000000</td>\n",
       "    </tr>\n",
       "    <tr>\n",
       "      <th>Alaska Airlines Inc.</th>\n",
       "      <td>0.260000</td>\n",
       "      <td>0.5475</td>\n",
       "      <td>0.125</td>\n",
       "      <td>0.000</td>\n",
       "      <td>0.2325</td>\n",
       "      <td>0.125</td>\n",
       "      <td>0.705</td>\n",
       "      <td>0.3375</td>\n",
       "      <td>0.138889</td>\n",
       "      <td>0.281111</td>\n",
       "      <td>1.025556</td>\n",
       "      <td>0.452222</td>\n",
       "    </tr>\n",
       "    <tr>\n",
       "      <th>Allegiant Air</th>\n",
       "      <td>1.000000</td>\n",
       "      <td>0.0000</td>\n",
       "      <td>0.000</td>\n",
       "      <td>0.000</td>\n",
       "      <td>0.0000</td>\n",
       "      <td>0.750</td>\n",
       "      <td>1.000</td>\n",
       "      <td>0.0000</td>\n",
       "      <td>0.000000</td>\n",
       "      <td>0.960000</td>\n",
       "      <td>0.000000</td>\n",
       "      <td>0.290000</td>\n",
       "    </tr>\n",
       "  </tbody>\n",
       "</table>\n",
       "</div>"
      ],
      "text/plain": [
       "month                         1       2      3      4       5      6      7   \\\n",
       "carrier_name                                                                   \n",
       "PSA Airlines Inc.       0.256667  0.4400  0.500  0.225  0.0000  2.160  0.000   \n",
       "Frontier Airlines Inc.  0.000000  0.0000  0.000  0.044  0.4820  0.000  0.044   \n",
       "Hawaiian Airlines Inc.  1.118000  0.5960  0.000  0.050  0.0000  0.000  0.308   \n",
       "Alaska Airlines Inc.    0.260000  0.5475  0.125  0.000  0.2325  0.125  0.705   \n",
       "Allegiant Air           1.000000  0.0000  0.000  0.000  0.0000  0.750  1.000   \n",
       "\n",
       "month                       8         9         10        11        12  \n",
       "carrier_name                                                            \n",
       "PSA Airlines Inc.       2.0000  0.000000  0.480000  0.830000  0.275000  \n",
       "Frontier Airlines Inc.  0.4900  0.172000  0.000000  0.014000  0.312000  \n",
       "Hawaiian Airlines Inc.  0.0000  0.000000  0.000000  0.000000  0.000000  \n",
       "Alaska Airlines Inc.    0.3375  0.138889  0.281111  1.025556  0.452222  \n",
       "Allegiant Air           0.0000  0.000000  0.960000  0.000000  0.290000  "
      ]
     },
     "execution_count": 25,
     "metadata": {},
     "output_type": "execute_result"
    }
   ],
   "source": [
    "weather.head()"
   ]
  },
  {
   "cell_type": "code",
   "execution_count": 26,
   "metadata": {},
   "outputs": [
    {
     "data": {
      "text/plain": [
       "([<matplotlib.axis.XTick at 0x11bee1048>,\n",
       "  <matplotlib.axis.XTick at 0x11beda940>,\n",
       "  <matplotlib.axis.XTick at 0x11beda8d0>,\n",
       "  <matplotlib.axis.XTick at 0x11c24eba8>,\n",
       "  <matplotlib.axis.XTick at 0x11c263278>,\n",
       "  <matplotlib.axis.XTick at 0x11c2637f0>,\n",
       "  <matplotlib.axis.XTick at 0x11c263d68>,\n",
       "  <matplotlib.axis.XTick at 0x11c26b320>,\n",
       "  <matplotlib.axis.XTick at 0x11c26b898>,\n",
       "  <matplotlib.axis.XTick at 0x11c26be10>,\n",
       "  <matplotlib.axis.XTick at 0x11c2713c8>,\n",
       "  <matplotlib.axis.XTick at 0x11c26b3c8>],\n",
       " <a list of 12 Text xticklabel objects>)"
      ]
     },
     "execution_count": 26,
     "metadata": {},
     "output_type": "execute_result"
    },
    {
     "data": {
      "image/png": "[encoded data removed]",
      "text/plain": [
       "<Figure size 432x288 with 1 Axes>"
      ]
     },
     "metadata": {
      "needs_background": "light"
     },
     "output_type": "display_data"
    }
   ],
   "source": [
    "plt.pcolor(weather, cmap='Blues')\n",
    "\n",
    "tick_labels = weather.index\n",
    "tick_locations = np.arange(0.5, len(tick_labels), 1)\n",
    "plt.yticks(tick_locations, tick_labels)\n",
    "\n",
    "tick_labels = ['Jan', 'Feb', 'Mar', 'Apr', 'May', 'June', 'July', 'Aug', 'Sept', 'Oct', 'Nov', 'Dec']\n",
    "tick_locations = [0.5, 1.5, 2.5, 3.5, 4.5, 5.5, 6.5, 7.5, 8.5, 9.5, 10.5, 11.5]\n",
    "plt.xticks(tick_locations, tick_labels)"
   ]
  },
  {
   "cell_type": "markdown",
   "metadata": {},
   "source": [
    "# Delayed Fligths"
   ]
  },
  {
   "cell_type": "code",
   "execution_count": 27,
   "metadata": {},
   "outputs": [],
   "source": [
    "df['delayed_ratio'] = (df['arr_del15'] *100) / (df['arr_flights'])"
   ]
  },
  {
   "cell_type": "code",
   "execution_count": 28,
   "metadata": {},
   "outputs": [],
   "source": [
    "delayed = df.pivot_table(columns='month', index='carrier_name', values='delayed_ratio')#.reset_index()"
   ]
  },
  {
   "cell_type": "code",
   "execution_count": 29,
   "metadata": {},
   "outputs": [],
   "source": [
    "delayed = delayed.sort_values(7)"
   ]
  },
  {
   "cell_type": "code",
   "execution_count": 30,
   "metadata": {},
   "outputs": [],
   "source": [
    "delayed = delayed.dropna()"
   ]
  },
  {
   "cell_type": "code",
   "execution_count": 31,
   "metadata": {},
   "outputs": [
    {
     "data": {
      "text/plain": [
       "([<matplotlib.axis.XTick at 0x11b17d748>,\n",
       "  <matplotlib.axis.XTick at 0x11b157940>,\n",
       "  <matplotlib.axis.XTick at 0x11b163470>,\n",
       "  <matplotlib.axis.XTick at 0x11c39b748>,\n",
       "  <matplotlib.axis.XTick at 0x11c39bc88>,\n",
       "  <matplotlib.axis.XTick at 0x11c3a2240>,\n",
       "  <matplotlib.axis.XTick at 0x11c39b240>,\n",
       "  <matplotlib.axis.XTick at 0x11c393630>,\n",
       "  <matplotlib.axis.XTick at 0x11c3a2400>,\n",
       "  <matplotlib.axis.XTick at 0x11c3a2d30>,\n",
       "  <matplotlib.axis.XTick at 0x11c3a92e8>,\n",
       "  <matplotlib.axis.XTick at 0x11c3a9860>],\n",
       " <a list of 12 Text xticklabel objects>)"
      ]
     },
     "execution_count": 31,
     "metadata": {},
     "output_type": "execute_result"
    },
    {
     "data": {
      "image/png": "[encoded data removed]",
      "text/plain": [
       "<Figure size 432x288 with 1 Axes>"
      ]
     },
     "metadata": {
      "needs_background": "light"
     },
     "output_type": "display_data"
    }
   ],
   "source": [
    "plt.pcolor(delayed, cmap='Reds')\n",
    "\n",
    "tick_labels = delayed.index\n",
    "tick_locations = np.arange(0.5, len(tick_labels), 1)\n",
    "plt.yticks(tick_locations, tick_labels)\n",
    "\n",
    "tick_labels = ['Jan', 'Feb', 'Mar', 'Apr', 'May', 'June', 'July', 'Aug', 'Sept', 'Oct', 'Nov', 'Dec']\n",
    "tick_locations = [0.5, 1.5, 2.5, 3.5, 4.5, 5.5, 6.5, 7.5, 8.5, 9.5, 10.5, 11.5]\n",
    "plt.xticks(tick_locations, tick_labels)"
   ]
  },
  {
   "cell_type": "markdown",
   "metadata": {},
   "source": [
    "# Carrier Delays"
   ]
  },
  {
   "cell_type": "code",
   "execution_count": 66,
   "metadata": {},
   "outputs": [],
   "source": [
    "carrier_delay = df.pivot_table(columns='month', index='carrier_name', values='carrier_ct')#.reset_index()"
   ]
  },
  {
   "cell_type": "code",
   "execution_count": 67,
   "metadata": {},
   "outputs": [],
   "source": [
    "carrier_delay = carrier_delay.sort_values(7)"
   ]
  },
  {
   "cell_type": "code",
   "execution_count": 68,
   "metadata": {},
   "outputs": [],
   "source": [
    "carrier_delay = carrier_delay.dropna()"
   ]
  },
  {
   "cell_type": "code",
   "execution_count": 69,
   "metadata": {
    "scrolled": true
   },
   "outputs": [
    {
     "data": {
      "text/plain": [
       "([<matplotlib.axis.XTick at 0x11cec3ba8>,\n",
       "  <matplotlib.axis.XTick at 0x11cec36d8>,\n",
       "  <matplotlib.axis.XTick at 0x11cec3470>,\n",
       "  <matplotlib.axis.XTick at 0x11cf98c88>,\n",
       "  <matplotlib.axis.XTick at 0x11cf91780>,\n",
       "  <matplotlib.axis.XTick at 0x11cfa7390>,\n",
       "  <matplotlib.axis.XTick at 0x11cfa7908>,\n",
       "  <matplotlib.axis.XTick at 0x11cfa7e80>,\n",
       "  <matplotlib.axis.XTick at 0x11cfae438>,\n",
       "  <matplotlib.axis.XTick at 0x11cfae9b0>,\n",
       "  <matplotlib.axis.XTick at 0x11cfaef28>,\n",
       "  <matplotlib.axis.XTick at 0x11cfb54e0>],\n",
       " <a list of 12 Text xticklabel objects>)"
      ]
     },
     "execution_count": 69,
     "metadata": {},
     "output_type": "execute_result"
    },
    {
     "data": {
      "image/png": "[encoded data removed]",
      "text/plain": [
       "<Figure size 432x288 with 1 Axes>"
      ]
     },
     "metadata": {
      "needs_background": "light"
     },
     "output_type": "display_data"
    }
   ],
   "source": [
    "plt.pcolor(carrier_delay, cmap='Reds')\n",
    "\n",
    "tick_labels = carrier_delay.index\n",
    "tick_locations = np.arange(0.5, len(tick_labels), 1)\n",
    "plt.yticks(tick_locations, tick_labels)\n",
    "\n",
    "tick_labels = ['Jan', 'Feb', 'Mar', 'Apr', 'May', 'June', 'July', 'Aug', 'Sept', 'Oct', 'Nov', 'Dec']\n",
    "tick_locations = [0.5, 1.5, 2.5, 3.5, 4.5, 5.5, 6.5, 7.5, 8.5, 9.5, 10.5, 11.5]\n",
    "plt.xticks(tick_locations, tick_labels)"
   ]
  },
  {
   "cell_type": "code",
   "execution_count": 36,
   "metadata": {},
   "outputs": [
    {
     "data": {
      "text/html": [
       "<div>\n",
       "<style scoped>\n",
       "    .dataframe tbody tr th:only-of-type {\n",
       "        vertical-align: middle;\n",
       "    }\n",
       "\n",
       "    .dataframe tbody tr th {\n",
       "        vertical-align: top;\n",
       "    }\n",
       "\n",
       "    .dataframe thead th {\n",
       "        text-align: right;\n",
       "    }\n",
       "</style>\n",
       "<table border=\"1\" class=\"dataframe\">\n",
       "  <thead>\n",
       "    <tr style=\"text-align: right;\">\n",
       "      <th></th>\n",
       "      <th>year</th>\n",
       "      <th>month</th>\n",
       "      <th>carrier_name</th>\n",
       "      <th>airport</th>\n",
       "      <th>airport_name</th>\n",
       "      <th>arr_flights</th>\n",
       "      <th>arr_del15</th>\n",
       "      <th>carrier_ct</th>\n",
       "      <th>weather_ct</th>\n",
       "      <th>nas_ct</th>\n",
       "      <th>...</th>\n",
       "      <th>late_aircraft_ct</th>\n",
       "      <th>arr_cancelled</th>\n",
       "      <th>arr_diverted</th>\n",
       "      <th>arr_delay</th>\n",
       "      <th>carrier_delay</th>\n",
       "      <th>weather_delay</th>\n",
       "      <th>nas_delay</th>\n",
       "      <th>security_delay</th>\n",
       "      <th>late_aircraft_delay</th>\n",
       "      <th>delayed_ratio</th>\n",
       "    </tr>\n",
       "  </thead>\n",
       "  <tbody>\n",
       "    <tr>\n",
       "      <th>1156</th>\n",
       "      <td>2014</td>\n",
       "      <td>1</td>\n",
       "      <td>American Airlines Inc.</td>\n",
       "      <td>JFK</td>\n",
       "      <td>New York, NY: John F. Kennedy International</td>\n",
       "      <td>1139.0</td>\n",
       "      <td>233.0</td>\n",
       "      <td>68.65</td>\n",
       "      <td>11.21</td>\n",
       "      <td>78.74</td>\n",
       "      <td>...</td>\n",
       "      <td>74.40</td>\n",
       "      <td>74.0</td>\n",
       "      <td>13.0</td>\n",
       "      <td>15754.0</td>\n",
       "      <td>3957.0</td>\n",
       "      <td>1575.0</td>\n",
       "      <td>3431.0</td>\n",
       "      <td>0.0</td>\n",
       "      <td>6791.0</td>\n",
       "      <td>20.456541</td>\n",
       "    </tr>\n",
       "    <tr>\n",
       "      <th>1157</th>\n",
       "      <td>2014</td>\n",
       "      <td>1</td>\n",
       "      <td>JetBlue Airways</td>\n",
       "      <td>JFK</td>\n",
       "      <td>New York, NY: John F. Kennedy International</td>\n",
       "      <td>3342.0</td>\n",
       "      <td>1010.0</td>\n",
       "      <td>289.30</td>\n",
       "      <td>27.47</td>\n",
       "      <td>235.20</td>\n",
       "      <td>...</td>\n",
       "      <td>456.60</td>\n",
       "      <td>438.0</td>\n",
       "      <td>29.0</td>\n",
       "      <td>88507.0</td>\n",
       "      <td>22678.0</td>\n",
       "      <td>4308.0</td>\n",
       "      <td>14623.0</td>\n",
       "      <td>77.0</td>\n",
       "      <td>46821.0</td>\n",
       "      <td>30.221424</td>\n",
       "    </tr>\n",
       "    <tr>\n",
       "      <th>1158</th>\n",
       "      <td>2014</td>\n",
       "      <td>1</td>\n",
       "      <td>Delta Air Lines Inc.</td>\n",
       "      <td>JFK</td>\n",
       "      <td>New York, NY: John F. Kennedy International</td>\n",
       "      <td>1637.0</td>\n",
       "      <td>411.0</td>\n",
       "      <td>117.63</td>\n",
       "      <td>27.13</td>\n",
       "      <td>165.08</td>\n",
       "      <td>...</td>\n",
       "      <td>101.16</td>\n",
       "      <td>96.0</td>\n",
       "      <td>24.0</td>\n",
       "      <td>39000.0</td>\n",
       "      <td>11001.0</td>\n",
       "      <td>7169.0</td>\n",
       "      <td>11161.0</td>\n",
       "      <td>0.0</td>\n",
       "      <td>9669.0</td>\n",
       "      <td>25.106903</td>\n",
       "    </tr>\n",
       "    <tr>\n",
       "      <th>1159</th>\n",
       "      <td>2014</td>\n",
       "      <td>1</td>\n",
       "      <td>Hawaiian Airlines Inc.</td>\n",
       "      <td>JFK</td>\n",
       "      <td>New York, NY: John F. Kennedy International</td>\n",
       "      <td>29.0</td>\n",
       "      <td>3.0</td>\n",
       "      <td>2.00</td>\n",
       "      <td>1.00</td>\n",
       "      <td>0.00</td>\n",
       "      <td>...</td>\n",
       "      <td>0.00</td>\n",
       "      <td>0.0</td>\n",
       "      <td>1.0</td>\n",
       "      <td>202.0</td>\n",
       "      <td>96.0</td>\n",
       "      <td>106.0</td>\n",
       "      <td>0.0</td>\n",
       "      <td>0.0</td>\n",
       "      <td>0.0</td>\n",
       "      <td>10.344828</td>\n",
       "    </tr>\n",
       "    <tr>\n",
       "      <th>1160</th>\n",
       "      <td>2014</td>\n",
       "      <td>1</td>\n",
       "      <td>American Eagle Airlines Inc.</td>\n",
       "      <td>JFK</td>\n",
       "      <td>New York, NY: John F. Kennedy International</td>\n",
       "      <td>650.0</td>\n",
       "      <td>159.0</td>\n",
       "      <td>28.45</td>\n",
       "      <td>8.53</td>\n",
       "      <td>44.75</td>\n",
       "      <td>...</td>\n",
       "      <td>77.26</td>\n",
       "      <td>102.0</td>\n",
       "      <td>3.0</td>\n",
       "      <td>10672.0</td>\n",
       "      <td>2391.0</td>\n",
       "      <td>615.0</td>\n",
       "      <td>2331.0</td>\n",
       "      <td>0.0</td>\n",
       "      <td>5335.0</td>\n",
       "      <td>24.461538</td>\n",
       "    </tr>\n",
       "  </tbody>\n",
       "</table>\n",
       "<p>5 rows × 21 columns</p>\n",
       "</div>"
      ],
      "text/plain": [
       "      year  month                  carrier_name airport  \\\n",
       "1156  2014      1        American Airlines Inc.     JFK   \n",
       "1157  2014      1               JetBlue Airways     JFK   \n",
       "1158  2014      1          Delta Air Lines Inc.     JFK   \n",
       "1159  2014      1        Hawaiian Airlines Inc.     JFK   \n",
       "1160  2014      1  American Eagle Airlines Inc.     JFK   \n",
       "\n",
       "                                     airport_name  arr_flights  arr_del15  \\\n",
       "1156  New York, NY: John F. Kennedy International       1139.0      233.0   \n",
       "1157  New York, NY: John F. Kennedy International       3342.0     1010.0   \n",
       "1158  New York, NY: John F. Kennedy International       1637.0      411.0   \n",
       "1159  New York, NY: John F. Kennedy International         29.0        3.0   \n",
       "1160  New York, NY: John F. Kennedy International        650.0      159.0   \n",
       "\n",
       "      carrier_ct  weather_ct  nas_ct  ...  late_aircraft_ct  arr_cancelled  \\\n",
       "1156       68.65       11.21   78.74  ...             74.40           74.0   \n",
       "1157      289.30       27.47  235.20  ...            456.60          438.0   \n",
       "1158      117.63       27.13  165.08  ...            101.16           96.0   \n",
       "1159        2.00        1.00    0.00  ...              0.00            0.0   \n",
       "1160       28.45        8.53   44.75  ...             77.26          102.0   \n",
       "\n",
       "      arr_diverted  arr_delay  carrier_delay  weather_delay  nas_delay  \\\n",
       "1156          13.0    15754.0         3957.0         1575.0     3431.0   \n",
       "1157          29.0    88507.0        22678.0         4308.0    14623.0   \n",
       "1158          24.0    39000.0        11001.0         7169.0    11161.0   \n",
       "1159           1.0      202.0           96.0          106.0        0.0   \n",
       "1160           3.0    10672.0         2391.0          615.0     2331.0   \n",
       "\n",
       "      security_delay  late_aircraft_delay  delayed_ratio  \n",
       "1156             0.0               6791.0      20.456541  \n",
       "1157            77.0              46821.0      30.221424  \n",
       "1158             0.0               9669.0      25.106903  \n",
       "1159             0.0                  0.0      10.344828  \n",
       "1160             0.0               5335.0      24.461538  \n",
       "\n",
       "[5 rows x 21 columns]"
      ]
     },
     "execution_count": 36,
     "metadata": {},
     "output_type": "execute_result"
    }
   ],
   "source": [
    "df.head()"
   ]
  },
  {
   "cell_type": "markdown",
   "metadata": {},
   "source": [
    "# Cancelled or Diverted Flights, LaGuardia"
   ]
  },
  {
   "cell_type": "code",
   "execution_count": 96,
   "metadata": {},
   "outputs": [],
   "source": [
    "lga = df[(df.airport == 'LGA')]"
   ]
  },
  {
   "cell_type": "code",
   "execution_count": 97,
   "metadata": {},
   "outputs": [
    {
     "name": "stderr",
     "output_type": "stream",
     "text": [
      "/Users/elenamlutz/.pyenv/versions/3.7.1/lib/python3.7/site-packages/ipykernel_launcher.py:1: SettingWithCopyWarning: \n",
      "A value is trying to be set on a copy of a slice from a DataFrame.\n",
      "Try using .loc[row_indexer,col_indexer] = value instead\n",
      "\n",
      "See the caveats in the documentation: http://pandas.pydata.org/pandas-docs/stable/indexing.html#indexing-view-versus-copy\n",
      "  \"\"\"Entry point for launching an IPython kernel.\n"
     ]
    }
   ],
   "source": [
    "lga['cancelled_diverted'] = ((lga['arr_cancelled'] + lga['arr_diverted']))"
   ]
  },
  {
   "cell_type": "code",
   "execution_count": 98,
   "metadata": {},
   "outputs": [],
   "source": [
    "cancelledlga = lga.pivot_table(columns='month', index='carrier_name', values='cancelled_diverted')#.reset_index()"
   ]
  },
  {
   "cell_type": "code",
   "execution_count": 99,
   "metadata": {},
   "outputs": [],
   "source": [
    "cancelled_lga = cancelledlga.sort_values(7)"
   ]
  },
  {
   "cell_type": "code",
   "execution_count": 101,
   "metadata": {},
   "outputs": [],
   "source": [
    "cancelled_lga = cancelled_lga.dropna()"
   ]
  },
  {
   "cell_type": "code",
   "execution_count": 102,
   "metadata": {},
   "outputs": [
    {
     "data": {
      "text/plain": [
       "([<matplotlib.axis.XTick at 0x11d92e358>,\n",
       "  <matplotlib.axis.XTick at 0x11d8adc88>,\n",
       "  <matplotlib.axis.XTick at 0x11d8ad978>,\n",
       "  <matplotlib.axis.XTick at 0x11d9922b0>,\n",
       "  <matplotlib.axis.XTick at 0x11d9927f0>,\n",
       "  <matplotlib.axis.XTick at 0x11d992d68>,\n",
       "  <matplotlib.axis.XTick at 0x11d998320>,\n",
       "  <matplotlib.axis.XTick at 0x11d992748>,\n",
       "  <matplotlib.axis.XTick at 0x11d9814a8>,\n",
       "  <matplotlib.axis.XTick at 0x11d9987b8>,\n",
       "  <matplotlib.axis.XTick at 0x11d998d30>,\n",
       "  <matplotlib.axis.XTick at 0x11d9a02e8>],\n",
       " <a list of 12 Text xticklabel objects>)"
      ]
     },
     "execution_count": 102,
     "metadata": {},
     "output_type": "execute_result"
    },
    {
     "data": {
      "image/png": "[encoded data removed]",
      "text/plain": [
       "<Figure size 432x288 with 1 Axes>"
      ]
     },
     "metadata": {
      "needs_background": "light"
     },
     "output_type": "display_data"
    }
   ],
   "source": [
    "plt.pcolor(cancelled_lga, cmap='Reds')\n",
    "\n",
    "tick_labels = cancelled_lga.index\n",
    "tick_locations = np.arange(0.5, len(tick_labels), 1)\n",
    "plt.yticks(tick_locations, tick_labels)\n",
    "\n",
    "tick_labels = ['Jan', 'Feb', 'Mar', 'Apr', 'May', 'June', 'July', 'Aug', 'Sept', 'Oct', 'Nov', 'Dec']\n",
    "tick_locations = [0.5, 1.5, 2.5, 3.5, 4.5, 5.5, 6.5, 7.5, 8.5, 9.5, 10.5, 11.5]\n",
    "plt.xticks(tick_locations, tick_labels)"
   ]
  },
  {
   "cell_type": "markdown",
   "metadata": {},
   "source": [
    "# Weather Delays 2018, LaGuardia"
   ]
  },
  {
   "cell_type": "code",
   "execution_count": 103,
   "metadata": {},
   "outputs": [
    {
     "name": "stderr",
     "output_type": "stream",
     "text": [
      "/Users/elenamlutz/.pyenv/versions/3.7.1/lib/python3.7/site-packages/ipykernel_launcher.py:1: SettingWithCopyWarning: \n",
      "A value is trying to be set on a copy of a slice from a DataFrame.\n",
      "Try using .loc[row_indexer,col_indexer] = value instead\n",
      "\n",
      "See the caveats in the documentation: http://pandas.pydata.org/pandas-docs/stable/indexing.html#indexing-view-versus-copy\n",
      "  \"\"\"Entry point for launching an IPython kernel.\n"
     ]
    }
   ],
   "source": [
    "lga['lga_weatherratio'] = (lga['weather_ct'])"
   ]
  },
  {
   "cell_type": "code",
   "execution_count": 104,
   "metadata": {},
   "outputs": [],
   "source": [
    "weatherlga = lga.pivot_table(columns='month', index='carrier_name', values='weather_ct')#.reset_index()"
   ]
  },
  {
   "cell_type": "code",
   "execution_count": 105,
   "metadata": {},
   "outputs": [],
   "source": [
    "weatherlga = weatherlga.sort_values(7)"
   ]
  },
  {
   "cell_type": "code",
   "execution_count": 107,
   "metadata": {},
   "outputs": [],
   "source": [
    "weatherlga = weatherlga.dropna()"
   ]
  },
  {
   "cell_type": "code",
   "execution_count": 108,
   "metadata": {},
   "outputs": [
    {
     "data": {
      "text/plain": [
       "([<matplotlib.axis.XTick at 0x11db58320>,\n",
       "  <matplotlib.axis.XTick at 0x11dad8be0>,\n",
       "  <matplotlib.axis.XTick at 0x11dad8978>,\n",
       "  <matplotlib.axis.XTick at 0x11dbb8278>,\n",
       "  <matplotlib.axis.XTick at 0x11dbb87b8>,\n",
       "  <matplotlib.axis.XTick at 0x11dbb8d30>,\n",
       "  <matplotlib.axis.XTick at 0x11dbc12e8>,\n",
       "  <matplotlib.axis.XTick at 0x11dbb8898>,\n",
       "  <matplotlib.axis.XTick at 0x11db9d518>,\n",
       "  <matplotlib.axis.XTick at 0x11dbc1780>,\n",
       "  <matplotlib.axis.XTick at 0x11dbc1cf8>,\n",
       "  <matplotlib.axis.XTick at 0x11dbc82b0>],\n",
       " <a list of 12 Text xticklabel objects>)"
      ]
     },
     "execution_count": 108,
     "metadata": {},
     "output_type": "execute_result"
    },
    {
     "data": {
      "image/png": "[encoded data removed]",
      "text/plain": [
       "<Figure size 432x288 with 1 Axes>"
      ]
     },
     "metadata": {
      "needs_background": "light"
     },
     "output_type": "display_data"
    }
   ],
   "source": [
    "plt.pcolor(weatherlga, cmap='PuBuGn')\n",
    "\n",
    "tick_labels = weatherlga.index\n",
    "tick_locations = np.arange(0.5, len(tick_labels), 1)\n",
    "plt.yticks(tick_locations, tick_labels)\n",
    "\n",
    "tick_labels = ['Jan', 'Feb', 'Mar', 'Apr', 'May', 'June', 'July', 'Aug', 'Sept', 'Oct', 'Nov', 'Dec']\n",
    "tick_locations = [0.5, 1.5, 2.5, 3.5, 4.5, 5.5, 6.5, 7.5, 8.5, 9.5, 10.5, 11.5]\n",
    "plt.xticks(tick_locations, tick_labels)"
   ]
  },
  {
   "cell_type": "code",
   "execution_count": null,
   "metadata": {},
   "outputs": [],
   "source": []
  },
  {
   "cell_type": "code",
   "execution_count": null,
   "metadata": {},
   "outputs": [],
   "source": []
  },
  {
   "cell_type": "code",
   "execution_count": null,
   "metadata": {},
   "outputs": [],
   "source": []
  }
 ],
 "metadata": {
  "kernelspec": {
   "display_name": "Python 3",
   "language": "python",
   "name": "python3"
  },
  "language_info": {
   "codemirror_mode": {
    "name": "ipython",
    "version": 3
   },
   "file_extension": ".py",
   "mimetype": "text/x-python",
   "name": "python",
   "nbconvert_exporter": "python",
   "pygments_lexer": "ipython3",
   "version": "3.7.1"
  }
 },
 "nbformat": 4,
 "nbformat_minor": 2
}
