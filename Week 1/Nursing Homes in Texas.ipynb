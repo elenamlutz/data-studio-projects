{
 "cells": [
  {
   "cell_type": "code",
   "execution_count": 1,
   "metadata": {},
   "outputs": [],
   "source": [
    "import pandas as pd\n",
    "import requests\n",
    "import re\n",
    "from bs4 import BeautifulSoup\n",
    "import numpy as np\n",
    "import matplotlib\n",
    "import matplotlib.pyplot as plt\n",
    "import seaborn as sns\n",
    "matplotlib.rcParams['pdf.fonttype'] = 42\n",
    "\n",
    "%matplotlib inline"
   ]
  },
  {
   "cell_type": "code",
   "execution_count": 2,
   "metadata": {},
   "outputs": [],
   "source": [
    "#     * Bar graph: Top facilities with most serious deficiencies stacked JKL\n",
    "#     * Bar graph: Top facilities with most fines\n",
    "#     * Bar graph: Fines per year before and after Trump\n",
    "#     * Map facilities:\n",
    "#         * article: total deficiencies and fines\n",
    "#         * headline: district"
   ]
  },
  {
   "cell_type": "code",
   "execution_count": 3,
   "metadata": {},
   "outputs": [
    {
     "name": "stdout",
     "output_type": "stream",
     "text": [
      "Nursing Homes in Texas.ipynb        inspection reports per facility.csv\r\n",
      "deficiencies_map.csv                nursing homes penalties.csv\r\n",
      "deficiencies_map_geocodio.csv       nursinghomes1.pdf\r\n",
      "deficiency_points.geojson           nursinghomesdeficiencies.pdf\r\n"
     ]
    }
   ],
   "source": [
    "!ls"
   ]
  },
  {
   "cell_type": "code",
   "execution_count": 4,
   "metadata": {},
   "outputs": [],
   "source": [
    "df2 = pd.read_csv(\"inspection reports per facility.csv\")"
   ]
  },
  {
   "cell_type": "code",
   "execution_count": 5,
   "metadata": {
    "scrolled": true
   },
   "outputs": [],
   "source": [
    "texas_deficiencies = df2[(df2['state'] == 'TX')]"
   ]
  },
  {
   "cell_type": "code",
   "execution_count": 6,
   "metadata": {},
   "outputs": [
    {
     "data": {
      "text/plain": [
       "(26840, 13)"
      ]
     },
     "execution_count": 6,
     "metadata": {},
     "output_type": "execute_result"
    }
   ],
   "source": [
    "texas_deficiencies.shape"
   ]
  },
  {
   "cell_type": "code",
   "execution_count": 7,
   "metadata": {},
   "outputs": [
    {
     "data": {
      "text/html": [
       "<div>\n",
       "<style scoped>\n",
       "    .dataframe tbody tr th:only-of-type {\n",
       "        vertical-align: middle;\n",
       "    }\n",
       "\n",
       "    .dataframe tbody tr th {\n",
       "        vertical-align: top;\n",
       "    }\n",
       "\n",
       "    .dataframe thead th {\n",
       "        text-align: right;\n",
       "    }\n",
       "</style>\n",
       "<table border=\"1\" class=\"dataframe\">\n",
       "  <thead>\n",
       "    <tr style=\"text-align: right;\">\n",
       "      <th></th>\n",
       "      <th>facility_name</th>\n",
       "      <th>facility_id</th>\n",
       "      <th>address</th>\n",
       "      <th>city</th>\n",
       "      <th>state</th>\n",
       "      <th>zip</th>\n",
       "      <th>inspection_date</th>\n",
       "      <th>deficiency_tag</th>\n",
       "      <th>scope_severity</th>\n",
       "      <th>complaint</th>\n",
       "      <th>standard</th>\n",
       "      <th>eventid</th>\n",
       "      <th>inspection_text</th>\n",
       "    </tr>\n",
       "  </thead>\n",
       "  <tbody>\n",
       "    <tr>\n",
       "      <th>17739</th>\n",
       "      <td>PHP THE OAKS AT BEAUMONT</td>\n",
       "      <td>455001</td>\n",
       "      <td>4195 MILAM ST</td>\n",
       "      <td>BEAUMONT</td>\n",
       "      <td>TX</td>\n",
       "      <td>77707</td>\n",
       "      <td>12/08/2016</td>\n",
       "      <td>441</td>\n",
       "      <td>E</td>\n",
       "      <td>1</td>\n",
       "      <td>0</td>\n",
       "      <td>51U811</td>\n",
       "      <td>&gt;&lt;BR/&gt;Based on observation, interview, and rec...</td>\n",
       "    </tr>\n",
       "    <tr>\n",
       "      <th>17740</th>\n",
       "      <td>PHP THE OAKS AT BEAUMONT</td>\n",
       "      <td>455001</td>\n",
       "      <td>4195 MILAM ST</td>\n",
       "      <td>BEAUMONT</td>\n",
       "      <td>TX</td>\n",
       "      <td>77707</td>\n",
       "      <td>12/08/2016</td>\n",
       "      <td>498</td>\n",
       "      <td>E</td>\n",
       "      <td>1</td>\n",
       "      <td>0</td>\n",
       "      <td>51U811</td>\n",
       "      <td>**NOTE- TERMS IN BRACKETS HAVE BEEN EDITED TO ...</td>\n",
       "    </tr>\n",
       "    <tr>\n",
       "      <th>17741</th>\n",
       "      <td>PHP THE OAKS AT BEAUMONT</td>\n",
       "      <td>455001</td>\n",
       "      <td>4195 MILAM ST</td>\n",
       "      <td>BEAUMONT</td>\n",
       "      <td>TX</td>\n",
       "      <td>77707</td>\n",
       "      <td>04/26/2017</td>\n",
       "      <td>224</td>\n",
       "      <td>E</td>\n",
       "      <td>1</td>\n",
       "      <td>1</td>\n",
       "      <td>DHMS11</td>\n",
       "      <td>**NOTE- TERMS IN BRACKETS HAVE BEEN EDITED TO ...</td>\n",
       "    </tr>\n",
       "    <tr>\n",
       "      <th>17742</th>\n",
       "      <td>PHP THE OAKS AT BEAUMONT</td>\n",
       "      <td>455001</td>\n",
       "      <td>4195 MILAM ST</td>\n",
       "      <td>BEAUMONT</td>\n",
       "      <td>TX</td>\n",
       "      <td>77707</td>\n",
       "      <td>04/26/2017</td>\n",
       "      <td>226</td>\n",
       "      <td>E</td>\n",
       "      <td>1</td>\n",
       "      <td>1</td>\n",
       "      <td>DHMS11</td>\n",
       "      <td>**NOTE- TERMS IN BRACKETS HAVE BEEN EDITED TO ...</td>\n",
       "    </tr>\n",
       "    <tr>\n",
       "      <th>17743</th>\n",
       "      <td>PHP THE OAKS AT BEAUMONT</td>\n",
       "      <td>455001</td>\n",
       "      <td>4195 MILAM ST</td>\n",
       "      <td>BEAUMONT</td>\n",
       "      <td>TX</td>\n",
       "      <td>77707</td>\n",
       "      <td>04/26/2017</td>\n",
       "      <td>248</td>\n",
       "      <td>E</td>\n",
       "      <td>0</td>\n",
       "      <td>1</td>\n",
       "      <td>DHMS11</td>\n",
       "      <td>**NOTE- TERMS IN BRACKETS HAVE BEEN EDITED TO ...</td>\n",
       "    </tr>\n",
       "  </tbody>\n",
       "</table>\n",
       "</div>"
      ],
      "text/plain": [
       "                  facility_name facility_id        address      city state  \\\n",
       "17739  PHP THE OAKS AT BEAUMONT      455001  4195 MILAM ST  BEAUMONT    TX   \n",
       "17740  PHP THE OAKS AT BEAUMONT      455001  4195 MILAM ST  BEAUMONT    TX   \n",
       "17741  PHP THE OAKS AT BEAUMONT      455001  4195 MILAM ST  BEAUMONT    TX   \n",
       "17742  PHP THE OAKS AT BEAUMONT      455001  4195 MILAM ST  BEAUMONT    TX   \n",
       "17743  PHP THE OAKS AT BEAUMONT      455001  4195 MILAM ST  BEAUMONT    TX   \n",
       "\n",
       "         zip inspection_date  deficiency_tag scope_severity  complaint  \\\n",
       "17739  77707      12/08/2016             441              E          1   \n",
       "17740  77707      12/08/2016             498              E          1   \n",
       "17741  77707      04/26/2017             224              E          1   \n",
       "17742  77707      04/26/2017             226              E          1   \n",
       "17743  77707      04/26/2017             248              E          0   \n",
       "\n",
       "       standard eventid                                    inspection_text  \n",
       "17739         0  51U811  ><BR/>Based on observation, interview, and rec...  \n",
       "17740         0  51U811  **NOTE- TERMS IN BRACKETS HAVE BEEN EDITED TO ...  \n",
       "17741         1  DHMS11  **NOTE- TERMS IN BRACKETS HAVE BEEN EDITED TO ...  \n",
       "17742         1  DHMS11  **NOTE- TERMS IN BRACKETS HAVE BEEN EDITED TO ...  \n",
       "17743         1  DHMS11  **NOTE- TERMS IN BRACKETS HAVE BEEN EDITED TO ...  "
      ]
     },
     "execution_count": 7,
     "metadata": {},
     "output_type": "execute_result"
    }
   ],
   "source": [
    "texas_deficiencies.head()"
   ]
  },
  {
   "cell_type": "code",
   "execution_count": 8,
   "metadata": {},
   "outputs": [],
   "source": [
    "deficiency_count = texas_deficiencies.pivot_table(columns=['scope_severity'],\n",
    "                               index=['facility_name'],\n",
    "                               aggfunc='count', fill_value=0)"
   ]
  },
  {
   "cell_type": "code",
   "execution_count": 9,
   "metadata": {},
   "outputs": [],
   "source": [
    "deficiency_count = deficiency_count.drop(['address',\n",
    "                                          'city',\n",
    "                                          'state',\n",
    "                                          'zip',\n",
    "                                          'inspection_date',\n",
    "                                          'deficiency_tag',\n",
    "                                          'complaint', \n",
    "                                          'standard', \n",
    "                                          'inspection_text', \n",
    "                                          'inspection_date',\n",
    "                                          'eventid'], axis=1)"
   ]
  },
  {
   "cell_type": "code",
   "execution_count": 10,
   "metadata": {},
   "outputs": [
    {
     "data": {
      "text/html": [
       "<div>\n",
       "<style scoped>\n",
       "    .dataframe tbody tr th:only-of-type {\n",
       "        vertical-align: middle;\n",
       "    }\n",
       "\n",
       "    .dataframe tbody tr th {\n",
       "        vertical-align: top;\n",
       "    }\n",
       "\n",
       "    .dataframe thead tr th {\n",
       "        text-align: left;\n",
       "    }\n",
       "\n",
       "    .dataframe thead tr:last-of-type th {\n",
       "        text-align: right;\n",
       "    }\n",
       "</style>\n",
       "<table border=\"1\" class=\"dataframe\">\n",
       "  <thead>\n",
       "    <tr>\n",
       "      <th></th>\n",
       "      <th colspan=\"11\" halign=\"left\">facility_id</th>\n",
       "    </tr>\n",
       "    <tr>\n",
       "      <th>scope_severity</th>\n",
       "      <th>B</th>\n",
       "      <th>C</th>\n",
       "      <th>D</th>\n",
       "      <th>E</th>\n",
       "      <th>F</th>\n",
       "      <th>G</th>\n",
       "      <th>H</th>\n",
       "      <th>I</th>\n",
       "      <th>J</th>\n",
       "      <th>K</th>\n",
       "      <th>L</th>\n",
       "    </tr>\n",
       "    <tr>\n",
       "      <th>facility_name</th>\n",
       "      <th></th>\n",
       "      <th></th>\n",
       "      <th></th>\n",
       "      <th></th>\n",
       "      <th></th>\n",
       "      <th></th>\n",
       "      <th></th>\n",
       "      <th></th>\n",
       "      <th></th>\n",
       "      <th></th>\n",
       "      <th></th>\n",
       "    </tr>\n",
       "  </thead>\n",
       "  <tbody>\n",
       "    <tr>\n",
       "      <th>ACCEL AT COLLEGE STATION</th>\n",
       "      <td>0</td>\n",
       "      <td>0</td>\n",
       "      <td>1</td>\n",
       "      <td>1</td>\n",
       "      <td>1</td>\n",
       "      <td>0</td>\n",
       "      <td>0</td>\n",
       "      <td>0</td>\n",
       "      <td>0</td>\n",
       "      <td>0</td>\n",
       "      <td>0</td>\n",
       "    </tr>\n",
       "    <tr>\n",
       "      <th>ACCEL AT WILLOW BEND</th>\n",
       "      <td>0</td>\n",
       "      <td>0</td>\n",
       "      <td>6</td>\n",
       "      <td>6</td>\n",
       "      <td>8</td>\n",
       "      <td>2</td>\n",
       "      <td>0</td>\n",
       "      <td>0</td>\n",
       "      <td>0</td>\n",
       "      <td>0</td>\n",
       "      <td>0</td>\n",
       "    </tr>\n",
       "    <tr>\n",
       "      <th>ADVANCED HEALTH &amp; REHAB CENTER OF GARLAND</th>\n",
       "      <td>0</td>\n",
       "      <td>0</td>\n",
       "      <td>4</td>\n",
       "      <td>13</td>\n",
       "      <td>4</td>\n",
       "      <td>0</td>\n",
       "      <td>0</td>\n",
       "      <td>0</td>\n",
       "      <td>0</td>\n",
       "      <td>0</td>\n",
       "      <td>0</td>\n",
       "    </tr>\n",
       "    <tr>\n",
       "      <th>ADVANCED REHABILITATION &amp; HEALTHCARE OF LIVE OAK</th>\n",
       "      <td>0</td>\n",
       "      <td>1</td>\n",
       "      <td>2</td>\n",
       "      <td>39</td>\n",
       "      <td>3</td>\n",
       "      <td>0</td>\n",
       "      <td>0</td>\n",
       "      <td>0</td>\n",
       "      <td>0</td>\n",
       "      <td>0</td>\n",
       "      <td>0</td>\n",
       "    </tr>\n",
       "    <tr>\n",
       "      <th>ADVANCED REHABILITATION AND HEALTHCARE OF BOWIE</th>\n",
       "      <td>0</td>\n",
       "      <td>1</td>\n",
       "      <td>0</td>\n",
       "      <td>10</td>\n",
       "      <td>3</td>\n",
       "      <td>0</td>\n",
       "      <td>0</td>\n",
       "      <td>0</td>\n",
       "      <td>0</td>\n",
       "      <td>0</td>\n",
       "      <td>0</td>\n",
       "    </tr>\n",
       "  </tbody>\n",
       "</table>\n",
       "</div>"
      ],
      "text/plain": [
       "                                                 facility_id                  \\\n",
       "scope_severity                                             B  C  D   E  F  G   \n",
       "facility_name                                                                  \n",
       "ACCEL AT COLLEGE STATION                                   0  0  1   1  1  0   \n",
       "ACCEL AT WILLOW BEND                                       0  0  6   6  8  2   \n",
       "ADVANCED HEALTH & REHAB CENTER OF GARLAND                  0  0  4  13  4  0   \n",
       "ADVANCED REHABILITATION & HEALTHCARE OF LIVE OAK           0  1  2  39  3  0   \n",
       "ADVANCED REHABILITATION AND HEALTHCARE OF BOWIE            0  1  0  10  3  0   \n",
       "\n",
       "                                                                 \n",
       "scope_severity                                    H  I  J  K  L  \n",
       "facility_name                                                    \n",
       "ACCEL AT COLLEGE STATION                          0  0  0  0  0  \n",
       "ACCEL AT WILLOW BEND                              0  0  0  0  0  \n",
       "ADVANCED HEALTH & REHAB CENTER OF GARLAND         0  0  0  0  0  \n",
       "ADVANCED REHABILITATION & HEALTHCARE OF LIVE OAK  0  0  0  0  0  \n",
       "ADVANCED REHABILITATION AND HEALTHCARE OF BOWIE   0  0  0  0  0  "
      ]
     },
     "execution_count": 10,
     "metadata": {},
     "output_type": "execute_result"
    }
   ],
   "source": [
    "deficiency_count.head()"
   ]
  },
  {
   "cell_type": "code",
   "execution_count": 11,
   "metadata": {},
   "outputs": [],
   "source": [
    "deficiency_count = deficiency_count['facility_id'].astype(str)"
   ]
  },
  {
   "cell_type": "code",
   "execution_count": 12,
   "metadata": {},
   "outputs": [],
   "source": [
    "serious_deficiencies = deficiency_count.drop(['B', 'C', 'D', 'E', 'F', 'G', 'H', 'I'], axis=1)"
   ]
  },
  {
   "cell_type": "code",
   "execution_count": 13,
   "metadata": {},
   "outputs": [],
   "source": [
    "serious_deficiencies['K'] = serious_deficiencies['K'].astype(int)"
   ]
  },
  {
   "cell_type": "code",
   "execution_count": 14,
   "metadata": {},
   "outputs": [],
   "source": [
    "serious_deficiencies['J'] = serious_deficiencies['J'].astype(int)"
   ]
  },
  {
   "cell_type": "code",
   "execution_count": 15,
   "metadata": {},
   "outputs": [],
   "source": [
    "serious_deficiencies['L'] = serious_deficiencies['L'].astype(int)"
   ]
  },
  {
   "cell_type": "code",
   "execution_count": 16,
   "metadata": {},
   "outputs": [],
   "source": [
    "serious_deficiencies['sum'] = serious_deficiencies['J'] + serious_deficiencies['K'] + serious_deficiencies['L']"
   ]
  },
  {
   "cell_type": "code",
   "execution_count": 17,
   "metadata": {},
   "outputs": [],
   "source": [
    "most_deficiencies = serious_deficiencies[(serious_deficiencies['sum'] > 7)].sort_values(by='sum', ascending=False)"
   ]
  },
  {
   "cell_type": "code",
   "execution_count": 18,
   "metadata": {},
   "outputs": [],
   "source": [
    "most_deficiencies = most_deficiencies.reset_index()"
   ]
  },
  {
   "cell_type": "code",
   "execution_count": 61,
   "metadata": {},
   "outputs": [
    {
     "data": {
      "image/png": "[encoded data removed]",
      "text/plain": [
       "<Figure size 432x360 with 1 Axes>"
      ]
     },
     "metadata": {
      "needs_background": "light"
     },
     "output_type": "display_data"
    }
   ],
   "source": [
    "most_deficiencies.sort_values(by='sum').plot(x='facility_name', \n",
    "                                             y=['J', 'K', 'L'], \n",
    "                                             kind='barh',\n",
    "                                             figsize=(6, 5),\n",
    "                                             width=0.7,\n",
    "                                             stacked=True, \n",
    "                                             title='')\n",
    "plt.savefig('nursinghomes1.pdf')\n",
    "\n"
   ]
  },
  {
   "cell_type": "code",
   "execution_count": 20,
   "metadata": {},
   "outputs": [
    {
     "name": "stdout",
     "output_type": "stream",
     "text": [
      "Nursing Homes in Texas.ipynb        inspection reports per facility.csv\r\n",
      "deficiencies_map.csv                nursing homes penalties.csv\r\n",
      "deficiencies_map_geocodio.csv       nursinghomes1.pdf\r\n",
      "deficiency_points.geojson           nursinghomesdeficiencies.pdf\r\n"
     ]
    }
   ],
   "source": [
    "!ls"
   ]
  },
  {
   "cell_type": "code",
   "execution_count": 21,
   "metadata": {},
   "outputs": [],
   "source": [
    "texas_fines = pd.read_csv(\"nursing homes penalties.csv\")"
   ]
  },
  {
   "cell_type": "code",
   "execution_count": null,
   "metadata": {},
   "outputs": [],
   "source": []
  },
  {
   "cell_type": "code",
   "execution_count": 22,
   "metadata": {},
   "outputs": [
    {
     "data": {
      "text/html": [
       "<div>\n",
       "<style scoped>\n",
       "    .dataframe tbody tr th:only-of-type {\n",
       "        vertical-align: middle;\n",
       "    }\n",
       "\n",
       "    .dataframe tbody tr th {\n",
       "        vertical-align: top;\n",
       "    }\n",
       "\n",
       "    .dataframe thead th {\n",
       "        text-align: right;\n",
       "    }\n",
       "</style>\n",
       "<table border=\"1\" class=\"dataframe\">\n",
       "  <thead>\n",
       "    <tr style=\"text-align: right;\">\n",
       "      <th></th>\n",
       "      <th>provnum</th>\n",
       "      <th>provname</th>\n",
       "      <th>address</th>\n",
       "      <th>city</th>\n",
       "      <th>state</th>\n",
       "      <th>zip</th>\n",
       "      <th>pnlty_date</th>\n",
       "      <th>pnlty_type</th>\n",
       "      <th>fine_amt</th>\n",
       "    </tr>\n",
       "  </thead>\n",
       "  <tbody>\n",
       "    <tr>\n",
       "      <th>190</th>\n",
       "      <td>675210</td>\n",
       "      <td>HERITAGE HOUSE NURSING AND REHABILITATION</td>\n",
       "      <td>407 N COLLEGE ST</td>\n",
       "      <td>ROSEBUD</td>\n",
       "      <td>TX</td>\n",
       "      <td>76570</td>\n",
       "      <td>1/10/14</td>\n",
       "      <td>Fine</td>\n",
       "      <td>1744</td>\n",
       "    </tr>\n",
       "    <tr>\n",
       "      <th>191</th>\n",
       "      <td>676220</td>\n",
       "      <td>GRANITE MESA HEALTH CENTER</td>\n",
       "      <td>1401 MAX COPELAND DR</td>\n",
       "      <td>MARBLE FALLS</td>\n",
       "      <td>TX</td>\n",
       "      <td>78654</td>\n",
       "      <td>1/10/14</td>\n",
       "      <td>Fine</td>\n",
       "      <td>3500</td>\n",
       "    </tr>\n",
       "    <tr>\n",
       "      <th>192</th>\n",
       "      <td>676220</td>\n",
       "      <td>GRANITE MESA HEALTH CENTER</td>\n",
       "      <td>1401 MAX COPELAND DR</td>\n",
       "      <td>MARBLE FALLS</td>\n",
       "      <td>TX</td>\n",
       "      <td>78654</td>\n",
       "      <td>1/10/14</td>\n",
       "      <td>Fine</td>\n",
       "      <td>2000</td>\n",
       "    </tr>\n",
       "    <tr>\n",
       "      <th>193</th>\n",
       "      <td>676052</td>\n",
       "      <td>IMMANUELS HEALTHCARE</td>\n",
       "      <td>4515 VILLAGE CREEK RD</td>\n",
       "      <td>FORT WORTH</td>\n",
       "      <td>TX</td>\n",
       "      <td>76119</td>\n",
       "      <td>1/11/14</td>\n",
       "      <td>Fine</td>\n",
       "      <td>115011</td>\n",
       "    </tr>\n",
       "    <tr>\n",
       "      <th>194</th>\n",
       "      <td>675939</td>\n",
       "      <td>VINTAGE HEALTH CARE CENTER</td>\n",
       "      <td>205 N BONNIE BRAE</td>\n",
       "      <td>DENTON</td>\n",
       "      <td>TX</td>\n",
       "      <td>76201</td>\n",
       "      <td>1/15/14</td>\n",
       "      <td>Fine</td>\n",
       "      <td>1300</td>\n",
       "    </tr>\n",
       "    <tr>\n",
       "      <th>195</th>\n",
       "      <td>675939</td>\n",
       "      <td>VINTAGE HEALTH CARE CENTER</td>\n",
       "      <td>205 N BONNIE BRAE</td>\n",
       "      <td>DENTON</td>\n",
       "      <td>TX</td>\n",
       "      <td>76201</td>\n",
       "      <td>1/15/14</td>\n",
       "      <td>Fine</td>\n",
       "      <td>1300</td>\n",
       "    </tr>\n",
       "    <tr>\n",
       "      <th>196</th>\n",
       "      <td>676004</td>\n",
       "      <td>THE HILLS NURSING &amp; REHABILITATION</td>\n",
       "      <td>201 E THOMPSON ST</td>\n",
       "      <td>DECATUR</td>\n",
       "      <td>TX</td>\n",
       "      <td>76234</td>\n",
       "      <td>1/16/14</td>\n",
       "      <td>Fine</td>\n",
       "      <td>2600</td>\n",
       "    </tr>\n",
       "    <tr>\n",
       "      <th>197</th>\n",
       "      <td>675387</td>\n",
       "      <td>CARTHAGE LTC PARTNERS INC</td>\n",
       "      <td>501 COTTAGE RD</td>\n",
       "      <td>CARTHAGE</td>\n",
       "      <td>TX</td>\n",
       "      <td>75633</td>\n",
       "      <td>1/17/14</td>\n",
       "      <td>Fine</td>\n",
       "      <td>24050</td>\n",
       "    </tr>\n",
       "    <tr>\n",
       "      <th>198</th>\n",
       "      <td>675982</td>\n",
       "      <td>PARK PLAZA LTC PARTNERS, INC.</td>\n",
       "      <td>2210 HOWARD ST</td>\n",
       "      <td>SAN ANGELO</td>\n",
       "      <td>TX</td>\n",
       "      <td>76901</td>\n",
       "      <td>1/17/14</td>\n",
       "      <td>Fine</td>\n",
       "      <td>4875</td>\n",
       "    </tr>\n",
       "    <tr>\n",
       "      <th>199</th>\n",
       "      <td>675553</td>\n",
       "      <td>THE HERITAGE NURSING HOME</td>\n",
       "      <td>1026 E GOODE ST</td>\n",
       "      <td>QUITMAN</td>\n",
       "      <td>TX</td>\n",
       "      <td>75783</td>\n",
       "      <td>1/22/14</td>\n",
       "      <td>Fine</td>\n",
       "      <td>5200</td>\n",
       "    </tr>\n",
       "    <tr>\n",
       "      <th>200</th>\n",
       "      <td>675420</td>\n",
       "      <td>BRAZOSVIEW HEALTHCARE CENTER</td>\n",
       "      <td>2127 PRESTON ST</td>\n",
       "      <td>RICHMOND</td>\n",
       "      <td>TX</td>\n",
       "      <td>77469</td>\n",
       "      <td>1/23/14</td>\n",
       "      <td>Fine</td>\n",
       "      <td>1463</td>\n",
       "    </tr>\n",
       "    <tr>\n",
       "      <th>201</th>\n",
       "      <td>676273</td>\n",
       "      <td>PARK MANOR OF THE WOODLANDS</td>\n",
       "      <td>1014 WINDSOR LAKE BOULEVARD</td>\n",
       "      <td>THE WOODLAND</td>\n",
       "      <td>TX</td>\n",
       "      <td>77384</td>\n",
       "      <td>1/27/14</td>\n",
       "      <td>Fine</td>\n",
       "      <td>2600</td>\n",
       "    </tr>\n",
       "    <tr>\n",
       "      <th>202</th>\n",
       "      <td>455532</td>\n",
       "      <td>PLEASANT SPRINGS HEALTHCARE CENTER</td>\n",
       "      <td>2003 N EDWARDS ST</td>\n",
       "      <td>MOUNT PLEASA</td>\n",
       "      <td>TX</td>\n",
       "      <td>75455</td>\n",
       "      <td>1/29/14</td>\n",
       "      <td>Fine</td>\n",
       "      <td>1300</td>\n",
       "    </tr>\n",
       "    <tr>\n",
       "      <th>203</th>\n",
       "      <td>455532</td>\n",
       "      <td>PLEASANT SPRINGS HEALTHCARE CENTER</td>\n",
       "      <td>2003 N EDWARDS ST</td>\n",
       "      <td>MOUNT PLEASA</td>\n",
       "      <td>TX</td>\n",
       "      <td>75455</td>\n",
       "      <td>1/29/14</td>\n",
       "      <td>Fine</td>\n",
       "      <td>2600</td>\n",
       "    </tr>\n",
       "    <tr>\n",
       "      <th>204</th>\n",
       "      <td>455862</td>\n",
       "      <td>RETIREMENT AND NURSING CENTER AUSTIN</td>\n",
       "      <td>6909 BURNET LN</td>\n",
       "      <td>AUSTIN</td>\n",
       "      <td>TX</td>\n",
       "      <td>78757</td>\n",
       "      <td>1/29/14</td>\n",
       "      <td>Fine</td>\n",
       "      <td>8500</td>\n",
       "    </tr>\n",
       "    <tr>\n",
       "      <th>205</th>\n",
       "      <td>455881</td>\n",
       "      <td>DFW NURSING &amp; REHAB</td>\n",
       "      <td>900 W LEUDA ST</td>\n",
       "      <td>FORT WORTH</td>\n",
       "      <td>TX</td>\n",
       "      <td>76104</td>\n",
       "      <td>1/30/14</td>\n",
       "      <td>Fine</td>\n",
       "      <td>6500</td>\n",
       "    </tr>\n",
       "    <tr>\n",
       "      <th>206</th>\n",
       "      <td>675972</td>\n",
       "      <td>CARROLLTON HEALTH AND REHABILITATION CENTER</td>\n",
       "      <td>1618 KIRBY RD</td>\n",
       "      <td>CARROLLTON</td>\n",
       "      <td>TX</td>\n",
       "      <td>75006</td>\n",
       "      <td>1/30/14</td>\n",
       "      <td>Fine</td>\n",
       "      <td>51286</td>\n",
       "    </tr>\n",
       "    <tr>\n",
       "      <th>207</th>\n",
       "      <td>676206</td>\n",
       "      <td>ARBOR VIEW REHABILITATION &amp; NURSING CENTER</td>\n",
       "      <td>218 BALTIC</td>\n",
       "      <td>EDINBURG</td>\n",
       "      <td>TX</td>\n",
       "      <td>78539</td>\n",
       "      <td>1/30/14</td>\n",
       "      <td>Fine</td>\n",
       "      <td>1300</td>\n",
       "    </tr>\n",
       "    <tr>\n",
       "      <th>208</th>\n",
       "      <td>675587</td>\n",
       "      <td>REGENCY MANOR HEALTHCARE CENTER</td>\n",
       "      <td>3011 W ADAMS AVE</td>\n",
       "      <td>TEMPLE</td>\n",
       "      <td>TX</td>\n",
       "      <td>76504</td>\n",
       "      <td>1/31/14</td>\n",
       "      <td>Fine</td>\n",
       "      <td>4875</td>\n",
       "    </tr>\n",
       "    <tr>\n",
       "      <th>209</th>\n",
       "      <td>675754</td>\n",
       "      <td>TRAYMORE NURSING CENTER</td>\n",
       "      <td>4315 HOPKINS AVE</td>\n",
       "      <td>DALLAS</td>\n",
       "      <td>TX</td>\n",
       "      <td>75209</td>\n",
       "      <td>1/31/14</td>\n",
       "      <td>Fine</td>\n",
       "      <td>2405</td>\n",
       "    </tr>\n",
       "    <tr>\n",
       "      <th>210</th>\n",
       "      <td>675793</td>\n",
       "      <td>LEXINGTON PLACE NURSING &amp; REHABILITATION</td>\n",
       "      <td>1737 N LOOP W</td>\n",
       "      <td>HOUSTON</td>\n",
       "      <td>TX</td>\n",
       "      <td>77008</td>\n",
       "      <td>1/31/14</td>\n",
       "      <td>Fine</td>\n",
       "      <td>1463</td>\n",
       "    </tr>\n",
       "    <tr>\n",
       "      <th>211</th>\n",
       "      <td>676322</td>\n",
       "      <td>ARBOR GRACE SKILLED NURSING AND REHABILITATION...</td>\n",
       "      <td>144 FM 1252 WEST</td>\n",
       "      <td>KILGORE</td>\n",
       "      <td>TX</td>\n",
       "      <td>75662</td>\n",
       "      <td>1/31/14</td>\n",
       "      <td>Fine</td>\n",
       "      <td>8000</td>\n",
       "    </tr>\n",
       "  </tbody>\n",
       "</table>\n",
       "</div>"
      ],
      "text/plain": [
       "     provnum                                           provname  \\\n",
       "190   675210          HERITAGE HOUSE NURSING AND REHABILITATION   \n",
       "191   676220                         GRANITE MESA HEALTH CENTER   \n",
       "192   676220                         GRANITE MESA HEALTH CENTER   \n",
       "193   676052                               IMMANUELS HEALTHCARE   \n",
       "194   675939                         VINTAGE HEALTH CARE CENTER   \n",
       "195   675939                         VINTAGE HEALTH CARE CENTER   \n",
       "196   676004                 THE HILLS NURSING & REHABILITATION   \n",
       "197   675387                          CARTHAGE LTC PARTNERS INC   \n",
       "198   675982                      PARK PLAZA LTC PARTNERS, INC.   \n",
       "199   675553                          THE HERITAGE NURSING HOME   \n",
       "200   675420                       BRAZOSVIEW HEALTHCARE CENTER   \n",
       "201   676273                        PARK MANOR OF THE WOODLANDS   \n",
       "202   455532                 PLEASANT SPRINGS HEALTHCARE CENTER   \n",
       "203   455532                 PLEASANT SPRINGS HEALTHCARE CENTER   \n",
       "204   455862               RETIREMENT AND NURSING CENTER AUSTIN   \n",
       "205   455881                                DFW NURSING & REHAB   \n",
       "206   675972        CARROLLTON HEALTH AND REHABILITATION CENTER   \n",
       "207   676206         ARBOR VIEW REHABILITATION & NURSING CENTER   \n",
       "208   675587                    REGENCY MANOR HEALTHCARE CENTER   \n",
       "209   675754                            TRAYMORE NURSING CENTER   \n",
       "210   675793           LEXINGTON PLACE NURSING & REHABILITATION   \n",
       "211   676322  ARBOR GRACE SKILLED NURSING AND REHABILITATION...   \n",
       "\n",
       "                         address          city state    zip pnlty_date  \\\n",
       "190             407 N COLLEGE ST       ROSEBUD    TX  76570    1/10/14   \n",
       "191         1401 MAX COPELAND DR  MARBLE FALLS    TX  78654    1/10/14   \n",
       "192         1401 MAX COPELAND DR  MARBLE FALLS    TX  78654    1/10/14   \n",
       "193        4515 VILLAGE CREEK RD    FORT WORTH    TX  76119    1/11/14   \n",
       "194            205 N BONNIE BRAE        DENTON    TX  76201    1/15/14   \n",
       "195            205 N BONNIE BRAE        DENTON    TX  76201    1/15/14   \n",
       "196            201 E THOMPSON ST       DECATUR    TX  76234    1/16/14   \n",
       "197               501 COTTAGE RD      CARTHAGE    TX  75633    1/17/14   \n",
       "198               2210 HOWARD ST    SAN ANGELO    TX  76901    1/17/14   \n",
       "199              1026 E GOODE ST       QUITMAN    TX  75783    1/22/14   \n",
       "200              2127 PRESTON ST      RICHMOND    TX  77469    1/23/14   \n",
       "201  1014 WINDSOR LAKE BOULEVARD  THE WOODLAND    TX  77384    1/27/14   \n",
       "202            2003 N EDWARDS ST  MOUNT PLEASA    TX  75455    1/29/14   \n",
       "203            2003 N EDWARDS ST  MOUNT PLEASA    TX  75455    1/29/14   \n",
       "204               6909 BURNET LN        AUSTIN    TX  78757    1/29/14   \n",
       "205               900 W LEUDA ST    FORT WORTH    TX  76104    1/30/14   \n",
       "206                1618 KIRBY RD    CARROLLTON    TX  75006    1/30/14   \n",
       "207                   218 BALTIC      EDINBURG    TX  78539    1/30/14   \n",
       "208             3011 W ADAMS AVE        TEMPLE    TX  76504    1/31/14   \n",
       "209             4315 HOPKINS AVE        DALLAS    TX  75209    1/31/14   \n",
       "210                1737 N LOOP W       HOUSTON    TX  77008    1/31/14   \n",
       "211             144 FM 1252 WEST       KILGORE    TX  75662    1/31/14   \n",
       "\n",
       "    pnlty_type  fine_amt  \n",
       "190       Fine      1744  \n",
       "191       Fine      3500  \n",
       "192       Fine      2000  \n",
       "193       Fine    115011  \n",
       "194       Fine      1300  \n",
       "195       Fine      1300  \n",
       "196       Fine      2600  \n",
       "197       Fine     24050  \n",
       "198       Fine      4875  \n",
       "199       Fine      5200  \n",
       "200       Fine      1463  \n",
       "201       Fine      2600  \n",
       "202       Fine      1300  \n",
       "203       Fine      2600  \n",
       "204       Fine      8500  \n",
       "205       Fine      6500  \n",
       "206       Fine     51286  \n",
       "207       Fine      1300  \n",
       "208       Fine      4875  \n",
       "209       Fine      2405  \n",
       "210       Fine      1463  \n",
       "211       Fine      8000  "
      ]
     },
     "execution_count": 22,
     "metadata": {},
     "output_type": "execute_result"
    }
   ],
   "source": [
    "texas_fines[(texas_fines['pnlty_date'].str.contains('^1/.*/14'))]"
   ]
  },
  {
   "cell_type": "code",
   "execution_count": 23,
   "metadata": {},
   "outputs": [],
   "source": [
    "# texas_fines['month'] = texas_fines['pnlty_date'].str.extract(r'(\\d+/)')"
   ]
  },
  {
   "cell_type": "code",
   "execution_count": 24,
   "metadata": {},
   "outputs": [],
   "source": [
    "# texas_fines['year'] = texas_fines['pnlty_date'].replace(r'\\d+/\\d+/', '', regex=True)"
   ]
  },
  {
   "cell_type": "code",
   "execution_count": 25,
   "metadata": {},
   "outputs": [],
   "source": [
    "# texas_fines['year'] = '20' + texas_fines['year']"
   ]
  },
  {
   "cell_type": "code",
   "execution_count": 26,
   "metadata": {},
   "outputs": [],
   "source": [
    "# texas_fines['pnlty_date'] = texas_fines['month'] + texas_fines['year']"
   ]
  },
  {
   "cell_type": "code",
   "execution_count": 27,
   "metadata": {},
   "outputs": [],
   "source": [
    "# texas_fines = texas_fines.drop(['month', 'year'], axis=1)"
   ]
  },
  {
   "cell_type": "code",
   "execution_count": 28,
   "metadata": {},
   "outputs": [],
   "source": [
    "df = pd.DataFrame(columns=['2014 Q1', '2014 Q2', '2014 Q3', '2014 Q4', \n",
    "                           '2015 Q1', '2015 Q2', '2015 Q3', '2015 Q4',\n",
    "                           '2016 Q1', '2016 Q2', '2016 Q3', '2016 Q4',\n",
    "                           '2017 Q1', '2017 Q2', '2017 Q3', '2017 Q4',\n",
    "                           '2018 Q1', '2018 Q2', '2018 Q3', '2018 Q4',], index=['0'])"
   ]
  },
  {
   "cell_type": "code",
   "execution_count": null,
   "metadata": {},
   "outputs": [],
   "source": []
  },
  {
   "cell_type": "code",
   "execution_count": 29,
   "metadata": {},
   "outputs": [],
   "source": [
    "df['2014 Q1'] = texas_fines[(texas_fines['pnlty_date'].str.contains('^[1,2,3]/.*/14'))]['fine_amt'].sum()"
   ]
  },
  {
   "cell_type": "code",
   "execution_count": 30,
   "metadata": {},
   "outputs": [],
   "source": [
    "df['2014 Q2'] = texas_fines[(texas_fines['pnlty_date'].str.contains('^[4,5,6]/.*/14'))]['fine_amt'].sum()"
   ]
  },
  {
   "cell_type": "code",
   "execution_count": 31,
   "metadata": {},
   "outputs": [],
   "source": [
    "df['2014 Q3'] = texas_fines[(texas_fines['pnlty_date'].str.contains('^[7,8,9]/.*/14'))]['fine_amt'].sum()"
   ]
  },
  {
   "cell_type": "code",
   "execution_count": 32,
   "metadata": {},
   "outputs": [
    {
     "name": "stderr",
     "output_type": "stream",
     "text": [
      "/Users/elenamlutz/.pyenv/versions/3.7.1/lib/python3.7/site-packages/ipykernel_launcher.py:1: UserWarning: This pattern has match groups. To actually get the groups, use str.extract.\n",
      "  \"\"\"Entry point for launching an IPython kernel.\n"
     ]
    }
   ],
   "source": [
    "df['2014 Q4'] = texas_fines[(texas_fines['pnlty_date'].str.contains('^(10)/.*/14'))]['fine_amt'].sum() + texas_fines[(texas_fines['pnlty_date'].str.contains('^(11)/.*/14'))]['fine_amt'].sum() + texas_fines[(texas_fines['pnlty_date'].str.contains('^(12)/.*/14'))]['fine_amt'].sum()"
   ]
  },
  {
   "cell_type": "code",
   "execution_count": 33,
   "metadata": {},
   "outputs": [],
   "source": [
    "df['2015 Q1'] = texas_fines[(texas_fines['pnlty_date'].str.contains('^[1,2,3]/.*/15'))]['fine_amt'].sum()"
   ]
  },
  {
   "cell_type": "code",
   "execution_count": 34,
   "metadata": {},
   "outputs": [],
   "source": [
    "df['2015 Q2'] = texas_fines[(texas_fines['pnlty_date'].str.contains('^[4,5,6]/.*/15'))]['fine_amt'].sum()"
   ]
  },
  {
   "cell_type": "code",
   "execution_count": 35,
   "metadata": {},
   "outputs": [],
   "source": [
    "df['2015 Q3'] = texas_fines[(texas_fines['pnlty_date'].str.contains('^[7,8,9]/.*/15'))]['fine_amt'].sum()"
   ]
  },
  {
   "cell_type": "code",
   "execution_count": 36,
   "metadata": {},
   "outputs": [
    {
     "name": "stderr",
     "output_type": "stream",
     "text": [
      "/Users/elenamlutz/.pyenv/versions/3.7.1/lib/python3.7/site-packages/ipykernel_launcher.py:1: UserWarning: This pattern has match groups. To actually get the groups, use str.extract.\n",
      "  \"\"\"Entry point for launching an IPython kernel.\n"
     ]
    }
   ],
   "source": [
    "df['2015 Q4'] = texas_fines[(texas_fines['pnlty_date'].str.contains('^(10)/.*/15'))]['fine_amt'].sum() + texas_fines[(texas_fines['pnlty_date'].str.contains('^(11)/.*/15'))]['fine_amt'].sum() + texas_fines[(texas_fines['pnlty_date'].str.contains('^(12)/.*/15'))]['fine_amt'].sum()"
   ]
  },
  {
   "cell_type": "code",
   "execution_count": 37,
   "metadata": {},
   "outputs": [],
   "source": [
    "df['2016 Q1'] = texas_fines[(texas_fines['pnlty_date'].str.contains('^[1,2,3]/.*/16'))]['fine_amt'].sum()"
   ]
  },
  {
   "cell_type": "code",
   "execution_count": 38,
   "metadata": {},
   "outputs": [],
   "source": [
    "df['2016 Q2'] = texas_fines[(texas_fines['pnlty_date'].str.contains('^[4,5,6]/.*/16'))]['fine_amt'].sum()"
   ]
  },
  {
   "cell_type": "code",
   "execution_count": 39,
   "metadata": {},
   "outputs": [],
   "source": [
    "df['2016 Q3'] = texas_fines[(texas_fines['pnlty_date'].str.contains('^[7,8,9]/.*/16'))]['fine_amt'].sum()"
   ]
  },
  {
   "cell_type": "code",
   "execution_count": 40,
   "metadata": {},
   "outputs": [
    {
     "name": "stderr",
     "output_type": "stream",
     "text": [
      "/Users/elenamlutz/.pyenv/versions/3.7.1/lib/python3.7/site-packages/ipykernel_launcher.py:1: UserWarning: This pattern has match groups. To actually get the groups, use str.extract.\n",
      "  \"\"\"Entry point for launching an IPython kernel.\n"
     ]
    }
   ],
   "source": [
    "df['2016 Q4'] = texas_fines[(texas_fines['pnlty_date'].str.contains('^(10)/.*/16'))]['fine_amt'].sum() + texas_fines[(texas_fines['pnlty_date'].str.contains('^(11)/.*/16'))]['fine_amt'].sum() + texas_fines[(texas_fines['pnlty_date'].str.contains('^(12)/.*/16'))]['fine_amt'].sum()"
   ]
  },
  {
   "cell_type": "code",
   "execution_count": 41,
   "metadata": {},
   "outputs": [],
   "source": [
    "df['2017 Q1'] = texas_fines[(texas_fines['pnlty_date'].str.contains('^[1,2,3]/.*/17'))]['fine_amt'].sum()"
   ]
  },
  {
   "cell_type": "code",
   "execution_count": 42,
   "metadata": {},
   "outputs": [],
   "source": [
    "df['2017 Q2'] = texas_fines[(texas_fines['pnlty_date'].str.contains('^[4,5,6]/.*/17'))]['fine_amt'].sum()"
   ]
  },
  {
   "cell_type": "code",
   "execution_count": 43,
   "metadata": {},
   "outputs": [],
   "source": [
    "df['2017 Q3'] = texas_fines[(texas_fines['pnlty_date'].str.contains('^[7,8,9]/.*/17'))]['fine_amt'].sum()"
   ]
  },
  {
   "cell_type": "code",
   "execution_count": 44,
   "metadata": {},
   "outputs": [
    {
     "name": "stderr",
     "output_type": "stream",
     "text": [
      "/Users/elenamlutz/.pyenv/versions/3.7.1/lib/python3.7/site-packages/ipykernel_launcher.py:1: UserWarning: This pattern has match groups. To actually get the groups, use str.extract.\n",
      "  \"\"\"Entry point for launching an IPython kernel.\n"
     ]
    }
   ],
   "source": [
    "df['2017 Q4'] = texas_fines[(texas_fines['pnlty_date'].str.contains('^(10)/.*/17'))]['fine_amt'].sum() + texas_fines[(texas_fines['pnlty_date'].str.contains('^(11)/.*/17'))]['fine_amt'].sum() + texas_fines[(texas_fines['pnlty_date'].str.contains('^(12)/.*/17'))]['fine_amt'].sum()"
   ]
  },
  {
   "cell_type": "code",
   "execution_count": 45,
   "metadata": {},
   "outputs": [],
   "source": [
    "df['2018 Q1'] = texas_fines[(texas_fines['pnlty_date'].str.contains('^[1,2,3]/.*/18'))]['fine_amt'].sum()"
   ]
  },
  {
   "cell_type": "code",
   "execution_count": 46,
   "metadata": {},
   "outputs": [],
   "source": [
    "df['2018 Q2'] = texas_fines[(texas_fines['pnlty_date'].str.contains('^[4,5,6]/.*/18'))]['fine_amt'].sum()"
   ]
  },
  {
   "cell_type": "code",
   "execution_count": 47,
   "metadata": {},
   "outputs": [],
   "source": [
    "df['2018 Q3'] = texas_fines[(texas_fines['pnlty_date'].str.contains('^[7,8,9]/.*/18'))]['fine_amt'].sum()"
   ]
  },
  {
   "cell_type": "code",
   "execution_count": 48,
   "metadata": {},
   "outputs": [
    {
     "name": "stderr",
     "output_type": "stream",
     "text": [
      "/Users/elenamlutz/.pyenv/versions/3.7.1/lib/python3.7/site-packages/ipykernel_launcher.py:1: UserWarning: This pattern has match groups. To actually get the groups, use str.extract.\n",
      "  \"\"\"Entry point for launching an IPython kernel.\n"
     ]
    }
   ],
   "source": [
    "df['2018 Q4'] = texas_fines[(texas_fines['pnlty_date'].str.contains('^(10)/.*/18'))]['fine_amt'].sum() + texas_fines[(texas_fines['pnlty_date'].str.contains('^(11)/.*/18'))]['fine_amt'].sum() + texas_fines[(texas_fines['pnlty_date'].str.contains('^(12)/.*/18'))]['fine_amt'].sum()"
   ]
  },
  {
   "cell_type": "code",
   "execution_count": 49,
   "metadata": {},
   "outputs": [],
   "source": [
    "df['2019 Q1'] = texas_fines[(texas_fines['pnlty_date'].str.contains('^[1,2,3]/.*/19'))]['fine_amt'].sum()"
   ]
  },
  {
   "cell_type": "code",
   "execution_count": null,
   "metadata": {},
   "outputs": [],
   "source": []
  },
  {
   "cell_type": "code",
   "execution_count": 50,
   "metadata": {},
   "outputs": [
    {
     "data": {
      "text/html": [
       "<div>\n",
       "<style scoped>\n",
       "    .dataframe tbody tr th:only-of-type {\n",
       "        vertical-align: middle;\n",
       "    }\n",
       "\n",
       "    .dataframe tbody tr th {\n",
       "        vertical-align: top;\n",
       "    }\n",
       "\n",
       "    .dataframe thead th {\n",
       "        text-align: right;\n",
       "    }\n",
       "</style>\n",
       "<table border=\"1\" class=\"dataframe\">\n",
       "  <thead>\n",
       "    <tr style=\"text-align: right;\">\n",
       "      <th></th>\n",
       "      <th>2014 Q1</th>\n",
       "      <th>2014 Q2</th>\n",
       "      <th>2014 Q3</th>\n",
       "      <th>2014 Q4</th>\n",
       "      <th>2015 Q1</th>\n",
       "      <th>2015 Q2</th>\n",
       "      <th>2015 Q3</th>\n",
       "      <th>2015 Q4</th>\n",
       "      <th>2016 Q1</th>\n",
       "      <th>2016 Q2</th>\n",
       "      <th>...</th>\n",
       "      <th>2016 Q4</th>\n",
       "      <th>2017 Q1</th>\n",
       "      <th>2017 Q2</th>\n",
       "      <th>2017 Q3</th>\n",
       "      <th>2017 Q4</th>\n",
       "      <th>2018 Q1</th>\n",
       "      <th>2018 Q2</th>\n",
       "      <th>2018 Q3</th>\n",
       "      <th>2018 Q4</th>\n",
       "      <th>2019 Q1</th>\n",
       "    </tr>\n",
       "  </thead>\n",
       "  <tbody>\n",
       "    <tr>\n",
       "      <th>0</th>\n",
       "      <td>863013</td>\n",
       "      <td>1005131</td>\n",
       "      <td>603364</td>\n",
       "      <td>606628</td>\n",
       "      <td>1344473</td>\n",
       "      <td>1396415</td>\n",
       "      <td>1391959</td>\n",
       "      <td>395146</td>\n",
       "      <td>1431867</td>\n",
       "      <td>1657746</td>\n",
       "      <td>...</td>\n",
       "      <td>738357</td>\n",
       "      <td>2496810</td>\n",
       "      <td>2083902</td>\n",
       "      <td>1552441</td>\n",
       "      <td>703071</td>\n",
       "      <td>1879890</td>\n",
       "      <td>1733863</td>\n",
       "      <td>847449</td>\n",
       "      <td>494067</td>\n",
       "      <td>501717</td>\n",
       "    </tr>\n",
       "  </tbody>\n",
       "</table>\n",
       "<p>1 rows × 21 columns</p>\n",
       "</div>"
      ],
      "text/plain": [
       "   2014 Q1  2014 Q2  2014 Q3  2014 Q4  2015 Q1  2015 Q2  2015 Q3  2015 Q4  \\\n",
       "0   863013  1005131   603364   606628  1344473  1396415  1391959   395146   \n",
       "\n",
       "   2016 Q1  2016 Q2  ...  2016 Q4  2017 Q1  2017 Q2  2017 Q3  2017 Q4  \\\n",
       "0  1431867  1657746  ...   738357  2496810  2083902  1552441   703071   \n",
       "\n",
       "   2018 Q1  2018 Q2  2018 Q3  2018 Q4  2019 Q1  \n",
       "0  1879890  1733863   847449   494067   501717  \n",
       "\n",
       "[1 rows x 21 columns]"
      ]
     },
     "execution_count": 50,
     "metadata": {},
     "output_type": "execute_result"
    }
   ],
   "source": [
    "df.head()"
   ]
  },
  {
   "cell_type": "code",
   "execution_count": 51,
   "metadata": {},
   "outputs": [],
   "source": [
    "df = df.stack()"
   ]
  },
  {
   "cell_type": "code",
   "execution_count": 52,
   "metadata": {},
   "outputs": [],
   "source": [
    "df=df.reset_index()"
   ]
  },
  {
   "cell_type": "code",
   "execution_count": 53,
   "metadata": {},
   "outputs": [],
   "source": [
    "df=df.drop(['level_0'], axis=1)"
   ]
  },
  {
   "cell_type": "code",
   "execution_count": 54,
   "metadata": {},
   "outputs": [],
   "source": [
    "df = df.rename(columns={'level_1': 'Quarter',\n",
    "                        0: 'Total Fines'\n",
    "                       })"
   ]
  },
  {
   "cell_type": "code",
   "execution_count": 55,
   "metadata": {},
   "outputs": [
    {
     "data": {
      "text/html": [
       "<div>\n",
       "<style scoped>\n",
       "    .dataframe tbody tr th:only-of-type {\n",
       "        vertical-align: middle;\n",
       "    }\n",
       "\n",
       "    .dataframe tbody tr th {\n",
       "        vertical-align: top;\n",
       "    }\n",
       "\n",
       "    .dataframe thead th {\n",
       "        text-align: right;\n",
       "    }\n",
       "</style>\n",
       "<table border=\"1\" class=\"dataframe\">\n",
       "  <thead>\n",
       "    <tr style=\"text-align: right;\">\n",
       "      <th></th>\n",
       "      <th>Quarter</th>\n",
       "      <th>Total Fines</th>\n",
       "    </tr>\n",
       "  </thead>\n",
       "  <tbody>\n",
       "    <tr>\n",
       "      <th>0</th>\n",
       "      <td>2014 Q1</td>\n",
       "      <td>863013</td>\n",
       "    </tr>\n",
       "    <tr>\n",
       "      <th>1</th>\n",
       "      <td>2014 Q2</td>\n",
       "      <td>1005131</td>\n",
       "    </tr>\n",
       "    <tr>\n",
       "      <th>2</th>\n",
       "      <td>2014 Q3</td>\n",
       "      <td>603364</td>\n",
       "    </tr>\n",
       "    <tr>\n",
       "      <th>3</th>\n",
       "      <td>2014 Q4</td>\n",
       "      <td>606628</td>\n",
       "    </tr>\n",
       "    <tr>\n",
       "      <th>4</th>\n",
       "      <td>2015 Q1</td>\n",
       "      <td>1344473</td>\n",
       "    </tr>\n",
       "  </tbody>\n",
       "</table>\n",
       "</div>"
      ],
      "text/plain": [
       "   Quarter  Total Fines\n",
       "0  2014 Q1       863013\n",
       "1  2014 Q2      1005131\n",
       "2  2014 Q3       603364\n",
       "3  2014 Q4       606628\n",
       "4  2015 Q1      1344473"
      ]
     },
     "execution_count": 55,
     "metadata": {},
     "output_type": "execute_result"
    }
   ],
   "source": [
    "df.head()"
   ]
  },
  {
   "cell_type": "code",
   "execution_count": 60,
   "metadata": {},
   "outputs": [
    {
     "data": {
      "image/png": "[encoded data removed]",
      "text/plain": [
       "<Figure size 720x288 with 1 Axes>"
      ]
     },
     "metadata": {
      "needs_background": "light"
     },
     "output_type": "display_data"
    }
   ],
   "source": [
    "df.plot(x='Quarter',\n",
    "        y=['Total Fines'],\n",
    "        color='red',\n",
    "        kind='bar',\n",
    "        figsize=(10, 4),\n",
    "        width=0.7,\n",
    "        title='Nursing Home Fines For Health and Safety Violations')\n",
    "\n",
    "plt.savefig('nursinghomes2.pdf')"
   ]
  },
  {
   "cell_type": "code",
   "execution_count": null,
   "metadata": {},
   "outputs": [],
   "source": []
  },
  {
   "cell_type": "code",
   "execution_count": null,
   "metadata": {},
   "outputs": [],
   "source": []
  },
  {
   "cell_type": "code",
   "execution_count": null,
   "metadata": {},
   "outputs": [],
   "source": []
  }
 ],
 "metadata": {
  "kernelspec": {
   "display_name": "Python 3",
   "language": "python",
   "name": "python3"
  },
  "language_info": {
   "codemirror_mode": {
    "name": "ipython",
    "version": 3
   },
   "file_extension": ".py",
   "mimetype": "text/x-python",
   "name": "python",
   "nbconvert_exporter": "python",
   "pygments_lexer": "ipython3",
   "version": "3.7.1"
  }
 },
 "nbformat": 4,
 "nbformat_minor": 2
}
